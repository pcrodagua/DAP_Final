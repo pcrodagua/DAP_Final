{
 "cells": [
  {
   "cell_type": "markdown",
   "metadata": {},
   "source": [
    "## 1. Business Understanding(Problem Description)"
   ]
  },
  {
   "cell_type": "markdown",
   "metadata": {},
   "source": [
    "### 1.1 Determine business objetives(Research Objetive)"
   ]
  },
  {
   "cell_type": "code",
   "execution_count": null,
   "metadata": {},
   "outputs": [],
   "source": []
  },
  {
   "cell_type": "markdown",
   "metadata": {},
   "source": [
    "### 1.2 Assess situation"
   ]
  },
  {
   "cell_type": "markdown",
   "metadata": {},
   "source": [
    "### 1.3 Determine Data Mining Goals"
   ]
  },
  {
   "cell_type": "markdown",
   "metadata": {},
   "source": [
    "## 2. Data Understanding"
   ]
  },
  {
   "cell_type": "markdown",
   "metadata": {},
   "source": [
    "The data understanding phase starts with an initial data collection and proceeds with\n",
    "activities in order to get familiar with the data, to identify data quality problems, to\n",
    "discover first insights into the data or to detect interesting subsets to form hypotheses\n",
    "for hidden information."
   ]
  },
  {
   "cell_type": "markdown",
   "metadata": {},
   "source": [
    "### 2.1 Collect Initial Data"
   ]
  },
  {
   "cell_type": "markdown",
   "metadata": {},
   "source": [
    "The demographics file provides individual, family, and household level information on the following topics:\n",
    "\n",
    "- Survey participant’s household interview and examination status\n",
    "- Interview and examination sample weights\n",
    "- Masked variance units\n",
    "- Language of questionnaires used for the interviews conducted in the household and in the mobile examination center\n",
    "- Use of proxy or interpreter during the interviews\n",
    "- The six-month time period when the examination was performed\n",
    "- Pregnancy status\n",
    "- Household and family income\n",
    "- Household and family sizes\n",
    "- Household composition: the number of children (aged 5 years or younger and 6-17 years old), and adults aged 60 years or older, in the household\n",
    "- Demographic information about the household reference person\n",
    "\n",
    "Other selected demographic information, such as gender, age, race/Hispanic origin, education, marital status, military service status, country of birth, citizenship, and years of U.S. residence. The format and coding for all the variables included in the 2013-14 NHANES demographics file are identical to those released for the 2011-12 survey cycle."
   ]
  },
  {
   "cell_type": "markdown",
   "metadata": {},
   "source": [
    "### 2.2 Describe Data"
   ]
  },
  {
   "cell_type": "markdown",
   "metadata": {},
   "source": [
    "The data used in this research was obtained from the National Health and Nutrition Examination Survey (NHANES) 2012-2013 dataset where it contains 3552 observations obtain out of a survey collected, this data has 30 features that describe their demographic status and an output value wich says if the patiens has caries(1) or not(0). The features used are the following: \n",
    "\n",
    "- **RIDAGEYR:** Age in years of the participant at the time of screening.\n",
    "- **RIDRETH1:** Recode of reported race and Hispanic origin information.\n",
    "- **RIDRETH3:** Recode of reported race and Hispanic origin information, with Non-Hispanic Asian Category.\n",
    "- **RIDEXMON:** Six month time period when the examination was performed.\n",
    "- **RIDEXAGM:** Age in months of the participant at the time of examination.\n",
    "- **DMQMILIZ:** This is a variable included in the demographics file since the 2011-2012 survey cycle to provide information on whether the participant has ever served on active duty in the U.S. Armed Forces, military Reserves, or National Guard. Active duty does not include training for the Reserves or National Guard, but does include activation, for service in the U.S. or in a foreign country, in support of military or humanitarian operations.\n",
    "- **DMDBORN4:** Country of birth\n",
    "- **DMDCITZN:** Citizenship status: {Are you/Is SP} a citizen of the United States? (Information about citizenship is being collected by the U.S. Public Health Service to perform health related research. Providing this information is voluntary and is collected under the authority of the Public Health Service Act. There will be no effect on pending immigration or citizenship petitions.)\n",
    "- **DMDEDUC3:** Education Level: What is the highest grade or level of school {you have/SP has} completed or the highest degree {you have/s/he has} received?\n",
    "- **DMDEDUC2:** Education Level: What is the highest grade or level of school {you have/SP has} completed or the highest degree {you have/s/he has} received?\n",
    "- **DMDMARTL:** Marital status\n",
    "- **FIALANG:** Language of Family Interview\n",
    "- **DMDHHSIZ:** Total number of people in the Household\n",
    "- **DMDFMSIZ:** Total number of people in the Family\n",
    "- **DMDHHSZA:** Number of children aged 5 years or younger in the household\n",
    "- **DMDHHSZB:** Number of children aged 6-17 years old in the household\n",
    "- **DMDHHSZE:** Number of adults aged 60 years or older in the household\n",
    "- **DMDHRGND:** HH reference person's gender\n",
    "- **DMDHRAGE:** HH reference person's age in years\n",
    "- **DMDHRBR4:** HH reference person's country of birth\n",
    "- **DMDHREDU:** HH reference person's education level\n",
    "- **DMDHRMAR:** HH reference person's marital status\n",
    "- **DMDHSEDU:** HH reference person's spouse's education level\n",
    "- **WTINT2YR:** Full sample 2 year interview weight.\n",
    "- **WTMEC2YR:** Full sample 2 year MEC exam weight.\n",
    "- **SDMVPSU:** Masked variance unit pseudo-PSU variable for variance estimation\n",
    "- **SDMVSTRA:** Masked variance unit pseudo-stratum variable for variance estimation\n",
    "- **INDHHIN2:** Total household income (reported as a range value in dollars)\n",
    "- **INDFMIN2:** Total family income (reported as a range value in dollars)\n",
    "- **INDFMPIR:** A ratio of family income to poverty guidelines.\n"
   ]
  },
  {
   "cell_type": "markdown",
   "metadata": {},
   "source": [
    "### 2.3 Explore Data"
   ]
  },
  {
   "cell_type": "markdown",
   "metadata": {},
   "source": []
  },
  {
   "cell_type": "markdown",
   "metadata": {},
   "source": [
    "### 2.4 Verify Data Quality"
   ]
  },
  {
   "cell_type": "code",
   "execution_count": null,
   "metadata": {},
   "outputs": [],
   "source": []
  },
  {
   "cell_type": "markdown",
   "metadata": {},
   "source": [
    "## 3. Data Preparation"
   ]
  },
  {
   "cell_type": "markdown",
   "metadata": {},
   "source": [
    "The data preparation phase covers all activities to construct the final dataset (data that\n",
    "will be fed into the modeling tool(s)) from the initial raw data. Data preparation tasks\n",
    "are likely to be performed multiple times and not in any prescribed order. Tasks include\n",
    "table, record and attribute selection as well as transformation and cleaning of data for\n",
    "modeling tools."
   ]
  },
  {
   "cell_type": "markdown",
   "metadata": {},
   "source": [
    "### 3.1 Select Data"
   ]
  },
  {
   "cell_type": "markdown",
   "metadata": {},
   "source": [
    "### 3.2 Clean Data"
   ]
  },
  {
   "cell_type": "markdown",
   "metadata": {},
   "source": [
    "### 3.3 Construct Data"
   ]
  },
  {
   "cell_type": "markdown",
   "metadata": {},
   "source": [
    "### 3.4 Integrate Data"
   ]
  },
  {
   "cell_type": "markdown",
   "metadata": {},
   "source": [
    "### 3.5 Format Data"
   ]
  },
  {
   "cell_type": "markdown",
   "metadata": {},
   "source": [
    "## 4. Modeling"
   ]
  },
  {
   "cell_type": "markdown",
   "metadata": {},
   "source": [
    "In this phase, various modeling techniques are selected and applied and their parameters\n",
    "are calibrated to optimal values. Typically, there are several techniques for the same\n",
    "data mining problem type. Some techniques have specific requirements on the form\n",
    "of data. Therefore, stepping back to the data preparation phase is often necessary."
   ]
  },
  {
   "cell_type": "markdown",
   "metadata": {},
   "source": [
    "### 4.1 Select Modeling Technique"
   ]
  },
  {
   "cell_type": "markdown",
   "metadata": {},
   "source": [
    "### 4.2 Generate Test Design"
   ]
  },
  {
   "cell_type": "markdown",
   "metadata": {},
   "source": [
    "### 4.3 Build Models"
   ]
  },
  {
   "cell_type": "markdown",
   "metadata": {},
   "source": [
    "### 4.4 Assess Models"
   ]
  },
  {
   "cell_type": "markdown",
   "metadata": {},
   "source": [
    "## 5. Evaluation"
   ]
  },
  {
   "cell_type": "markdown",
   "metadata": {},
   "source": [
    "At this stage in the project you have built a model (or models) that appears to have high\n",
    "quality from a data analysis perspective. Before proceeding to final deployment of the\n",
    "model, it is important to more thoroughly evaluate the model and review the steps executed to construct the model to be certain it properly achieves the business objectives.\n",
    "A key objective is to determine if there is some important business issue that has not\n",
    "been sufficiently considered. At the end of this phase, a decision on the use of the data\n",
    "mining results should be reached."
   ]
  },
  {
   "cell_type": "markdown",
   "metadata": {},
   "source": [
    "### 5.1 Evaluate Results"
   ]
  },
  {
   "cell_type": "markdown",
   "metadata": {},
   "source": [
    "### 5.2 Review Process"
   ]
  },
  {
   "cell_type": "markdown",
   "metadata": {},
   "source": [
    "### 5.3 Determinate Next Steps"
   ]
  },
  {
   "cell_type": "code",
   "execution_count": null,
   "metadata": {},
   "outputs": [],
   "source": []
  }
 ],
 "metadata": {
  "kernelspec": {
   "display_name": "Python [default]",
   "language": "python",
   "name": "python3"
  },
  "language_info": {
   "codemirror_mode": {
    "name": "ipython",
    "version": 3
   },
   "file_extension": ".py",
   "mimetype": "text/x-python",
   "name": "python",
   "nbconvert_exporter": "python",
   "pygments_lexer": "ipython3",
   "version": "3.5.6"
  }
 },
 "nbformat": 4,
 "nbformat_minor": 2
}
