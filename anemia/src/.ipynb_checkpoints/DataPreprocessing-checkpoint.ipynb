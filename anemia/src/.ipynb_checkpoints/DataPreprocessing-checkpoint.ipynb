{
 "cells": [
  {
   "cell_type": "code",
   "execution_count": 17,
   "metadata": {},
   "outputs": [],
   "source": [
    "import pandas as pd\n",
    "import numpy as np\n",
    "from matplotlib import pyplot as plt"
   ]
  },
  {
   "cell_type": "code",
   "execution_count": 2,
   "metadata": {},
   "outputs": [
    {
     "data": {
      "text/plain": [
       "0.0    5841\n",
       "1.0    1729\n",
       "Name: ANEMIA, dtype: int64"
      ]
     },
     "execution_count": 2,
     "metadata": {},
     "output_type": "execute_result"
    }
   ],
   "source": [
    "anemia_pres = pd.read_csv('../data/messy/anemia_preescolar5_N2012U.csv', index_col=False)\n",
    "anemia_pres.ANEMIA.value_counts()"
   ]
  },
  {
   "cell_type": "code",
   "execution_count": 3,
   "metadata": {},
   "outputs": [
    {
     "data": {
      "text/plain": [
       "0.0    12404\n",
       "1.0     1462\n",
       "Name: ANEMIA, dtype: int64"
      ]
     },
     "execution_count": 3,
     "metadata": {},
     "output_type": "execute_result"
    }
   ],
   "source": [
    "anemia_child = pd.read_csv('../data/messy/anemia_escolar5_11_N2012.csv', index_col=False,encoding='latin-1')\n",
    "anemia_child.ANEMIA.value_counts()"
   ]
  },
  {
   "cell_type": "code",
   "execution_count": 4,
   "metadata": {},
   "outputs": [
    {
     "data": {
      "text/plain": [
       "0.0    10908\n",
       "1.0      730\n",
       "Name: ANEMIA, dtype: int64"
      ]
     },
     "execution_count": 4,
     "metadata": {},
     "output_type": "execute_result"
    }
   ],
   "source": [
    "anemia_teen = pd.read_csv('../data/messy/anemia_adolescente12_19_N2012.csv', index_col=False,encoding='latin-1')\n",
    "anemia_teen.ANEMIA.value_counts()"
   ]
  },
  {
   "cell_type": "code",
   "execution_count": 22,
   "metadata": {},
   "outputs": [
    {
     "name": "stderr",
     "output_type": "stream",
     "text": [
      "/home/ospcx/anaconda3/envs/pyml/lib/python3.5/site-packages/ipykernel/__main__.py:1: FutureWarning: Sorting because non-concatenation axis is not aligned. A future version\n",
      "of pandas will change to not sort by default.\n",
      "\n",
      "To accept the future behavior, pass 'sort=False'.\n",
      "\n",
      "To retain the current behavior and silence the warning, pass 'sort=True'.\n",
      "\n",
      "  if __name__ == '__main__':\n",
      "/home/ospcx/anaconda3/envs/pyml/lib/python3.5/site-packages/ipykernel/__main__.py:2: FutureWarning: Sorting because non-concatenation axis is not aligned. A future version\n",
      "of pandas will change to not sort by default.\n",
      "\n",
      "To accept the future behavior, pass 'sort=False'.\n",
      "\n",
      "To retain the current behavior and silence the warning, pass 'sort=True'.\n",
      "\n",
      "  from ipykernel import kernelapp as app\n"
     ]
    },
    {
     "data": {
      "text/plain": [
       "(35386, 34)"
      ]
     },
     "execution_count": 22,
     "metadata": {},
     "output_type": "execute_result"
    }
   ],
   "source": [
    "anemia_gen = pd.concat([anemia_child, anemia_pres])\n",
    "anemia_gen = pd.concat([anemia_gen, anemia_teen])\n",
    "#anemia_gen.to_csv('../data/clean/full_data.csv', index=False)\n",
    "anemia_gen.shape"
   ]
  },
  {
   "cell_type": "code",
   "execution_count": 6,
   "metadata": {},
   "outputs": [
    {
     "data": {
      "text/plain": [
       "0.0    29153\n",
       "1.0     3921\n",
       "Name: ANEMIA, dtype: int64"
      ]
     },
     "execution_count": 6,
     "metadata": {},
     "output_type": "execute_result"
    }
   ],
   "source": [
    "anemia_gen.ANEMIA.value_counts()"
   ]
  },
  {
   "cell_type": "code",
   "execution_count": 14,
   "metadata": {},
   "outputs": [
    {
     "data": {
      "text/plain": [
       "AFILIACI    0.000000\n",
       "AGEB        0.000000\n",
       "ALTITUD     0.000420\n",
       "ANEMIA      0.131870\n",
       "AREA        0.000000\n",
       "CODE_UPM    0.126936\n",
       "EDAD        0.000000\n",
       "EDADDIAS    0.000000\n",
       "EDOFISIO    0.811329\n",
       "ENTIDAD     0.000000\n",
       "EST_DIS     0.126936\n",
       "EST_MARG    0.126936\n",
       "EST_URB     0.126936\n",
       "EST_VAR     0.126936\n",
       "FECHA_NA    0.004987\n",
       "FECHA_VI    0.000000\n",
       "FOLIO_C     0.000000\n",
       "HB          0.126936\n",
       "HBAJUSTA    0.131870\n",
       "HEMCAP      0.071736\n",
       "INDICEF     0.000000\n",
       "INTP        0.000000\n",
       "LOCALI      0.000000\n",
       "MESES       0.000000\n",
       "MUNICI      0.000000\n",
       "NOM_ENT     0.000420\n",
       "NOM_LOC     0.000420\n",
       "NOM_MUN     0.000420\n",
       "NSEDECIL    0.000000\n",
       "NSEQUINT    0.000000\n",
       "NSETERCI    0.000000\n",
       "PONDEF      0.126936\n",
       "REGION      0.000000\n",
       "SEXO        0.000000\n",
       "dtype: float64"
      ]
     },
     "execution_count": 14,
     "metadata": {},
     "output_type": "execute_result"
    }
   ],
   "source": [
    "anemia_gen.isnull().mean()"
   ]
  },
  {
   "cell_type": "code",
   "execution_count": 18,
   "metadata": {},
   "outputs": [],
   "source": [
    "anemia_gen = anemia_gen[np.isfinite(anemia_gen['ANEMIA'])]"
   ]
  },
  {
   "cell_type": "code",
   "execution_count": 9,
   "metadata": {},
   "outputs": [],
   "source": [
    "anemia_gen.isnull().mean()"
   ]
  },
  {
   "cell_type": "code",
   "execution_count": 25,
   "metadata": {},
   "outputs": [
    {
     "data": {
      "text/plain": [
       "0.0    28636\n",
       "1.0     2684\n",
       "Name: ANEMIA, dtype: int64"
      ]
     },
     "execution_count": 25,
     "metadata": {},
     "output_type": "execute_result"
    }
   ],
   "source": [
    "anemia_gen.ANEMIA.value_counts()"
   ]
  },
  {
   "cell_type": "code",
   "execution_count": 23,
   "metadata": {},
   "outputs": [
    {
     "name": "stdout",
     "output_type": "stream",
     "text": [
      "Proportion: 10.67 : 1\n"
     ]
    }
   ],
   "source": [
    "#anemia_pres.to_csv('../data/clean/anemia_balanced_notclean.csv', index=False)\n",
    "target_count = anemia_gen.ANEMIA.value_counts()\n",
    "print('Proportion:', round(target_count[0] / target_count[1], 2), ': 1')"
   ]
  },
  {
   "cell_type": "code",
   "execution_count": 26,
   "metadata": {},
   "outputs": [
    {
     "data": {
      "image/png": "[encoded data removed]",
      "text/plain": [
       "<Figure size 432x288 with 1 Axes>"
      ]
     },
     "metadata": {
      "needs_background": "light"
     },
     "output_type": "display_data"
    }
   ],
   "source": [
    "target_count.plot(kind='bar', title='Count (Anemia)');"
   ]
  },
  {
   "cell_type": "markdown",
   "metadata": {},
   "source": [
    "## Random under-sampling"
   ]
  },
  {
   "cell_type": "code",
   "execution_count": 27,
   "metadata": {},
   "outputs": [
    {
     "name": "stdout",
     "output_type": "stream",
     "text": [
      "Random under-sampling:\n",
      "1.0    2684\n",
      "0.0    2684\n",
      "Name: ANEMIA, dtype: int64\n"
     ]
    },
    {
     "data": {
      "image/png": "[encoded data removed]",
      "text/plain": [
       "<Figure size 432x288 with 1 Axes>"
      ]
     },
     "metadata": {
      "needs_background": "light"
     },
     "output_type": "display_data"
    }
   ],
   "source": [
    "count_class_0, count_class_1 = anemia_gen.ANEMIA.value_counts()\n",
    "\n",
    "# Divide by class\n",
    "df_class_0 = anemia_gen[anemia_gen['ANEMIA'] == 0]\n",
    "df_class_1 = anemia_gen[anemia_gen['ANEMIA'] == 1]\n",
    "\n",
    "df_class_0_under = df_class_0.sample(count_class_1)\n",
    "df_test_under = pd.concat([df_class_0_under, df_class_1], axis=0)\n",
    "\n",
    "print('Random under-sampling:')\n",
    "print(df_test_under.ANEMIA.value_counts())\n",
    "\n",
    "df_test_under.ANEMIA.value_counts().plot(kind='bar', title='Count (ANEMIA)');"
   ]
  },
  {
   "cell_type": "code",
   "execution_count": 28,
   "metadata": {},
   "outputs": [
    {
     "data": {
      "text/html": [
       "<div>\n",
       "<style scoped>\n",
       "    .dataframe tbody tr th:only-of-type {\n",
       "        vertical-align: middle;\n",
       "    }\n",
       "\n",
       "    .dataframe tbody tr th {\n",
       "        vertical-align: top;\n",
       "    }\n",
       "\n",
       "    .dataframe thead th {\n",
       "        text-align: right;\n",
       "    }\n",
       "</style>\n",
       "<table border=\"1\" class=\"dataframe\">\n",
       "  <thead>\n",
       "    <tr style=\"text-align: right;\">\n",
       "      <th></th>\n",
       "      <th>AFILIACI</th>\n",
       "      <th>AGEB</th>\n",
       "      <th>ALTITUD</th>\n",
       "      <th>ANEMIA</th>\n",
       "      <th>AREA</th>\n",
       "      <th>CODE_UPM</th>\n",
       "      <th>EDAD</th>\n",
       "      <th>EDADDIAS</th>\n",
       "      <th>EDOFISIO</th>\n",
       "      <th>ENTIDAD</th>\n",
       "      <th>...</th>\n",
       "      <th>MUNICI</th>\n",
       "      <th>NOM_ENT</th>\n",
       "      <th>NOM_LOC</th>\n",
       "      <th>NOM_MUN</th>\n",
       "      <th>NSEDECIL</th>\n",
       "      <th>NSEQUINT</th>\n",
       "      <th>NSETERCI</th>\n",
       "      <th>PONDEF</th>\n",
       "      <th>REGION</th>\n",
       "      <th>SEXO</th>\n",
       "    </tr>\n",
       "  </thead>\n",
       "  <tbody>\n",
       "    <tr>\n",
       "      <th>2519</th>\n",
       "      <td>2</td>\n",
       "      <td>0151</td>\n",
       "      <td>387.0</td>\n",
       "      <td>0.0</td>\n",
       "      <td>1</td>\n",
       "      <td>M3010</td>\n",
       "      <td>8.563997</td>\n",
       "      <td>3128.0</td>\n",
       "      <td>NaN</td>\n",
       "      <td>30</td>\n",
       "      <td>...</td>\n",
       "      <td>53</td>\n",
       "      <td>Veracruz de Ignacio de la Llave</td>\n",
       "      <td>Cuitláhuac</td>\n",
       "      <td>Cuitláhuac</td>\n",
       "      <td>9</td>\n",
       "      <td>5</td>\n",
       "      <td>3</td>\n",
       "      <td>5121.939</td>\n",
       "      <td>4</td>\n",
       "      <td>1</td>\n",
       "    </tr>\n",
       "    <tr>\n",
       "      <th>104</th>\n",
       "      <td>6</td>\n",
       "      <td>0155</td>\n",
       "      <td>1703.0</td>\n",
       "      <td>0.0</td>\n",
       "      <td>1</td>\n",
       "      <td>M1733</td>\n",
       "      <td>6.737850</td>\n",
       "      <td>2461.0</td>\n",
       "      <td>NaN</td>\n",
       "      <td>17</td>\n",
       "      <td>...</td>\n",
       "      <td>20</td>\n",
       "      <td>Morelos</td>\n",
       "      <td>Tepoztlán</td>\n",
       "      <td>Tepoztlán</td>\n",
       "      <td>4</td>\n",
       "      <td>2</td>\n",
       "      <td>2</td>\n",
       "      <td>970.838</td>\n",
       "      <td>2</td>\n",
       "      <td>1</td>\n",
       "    </tr>\n",
       "    <tr>\n",
       "      <th>11358</th>\n",
       "      <td>0</td>\n",
       "      <td>0889</td>\n",
       "      <td>30.0</td>\n",
       "      <td>0.0</td>\n",
       "      <td>2</td>\n",
       "      <td>M0406</td>\n",
       "      <td>9.585215</td>\n",
       "      <td>3501.0</td>\n",
       "      <td>NaN</td>\n",
       "      <td>4</td>\n",
       "      <td>...</td>\n",
       "      <td>2</td>\n",
       "      <td>Campeche</td>\n",
       "      <td>Alfredo V. Bonfil</td>\n",
       "      <td>Campeche</td>\n",
       "      <td>4</td>\n",
       "      <td>2</td>\n",
       "      <td>1</td>\n",
       "      <td>155.232</td>\n",
       "      <td>4</td>\n",
       "      <td>2</td>\n",
       "    </tr>\n",
       "    <tr>\n",
       "      <th>3309</th>\n",
       "      <td>0</td>\n",
       "      <td>1222</td>\n",
       "      <td>33.0</td>\n",
       "      <td>0.0</td>\n",
       "      <td>1</td>\n",
       "      <td>M2829</td>\n",
       "      <td>9.210130</td>\n",
       "      <td>3364.0</td>\n",
       "      <td>NaN</td>\n",
       "      <td>28</td>\n",
       "      <td>...</td>\n",
       "      <td>32</td>\n",
       "      <td>Tamaulipas</td>\n",
       "      <td>Reynosa</td>\n",
       "      <td>Reynosa</td>\n",
       "      <td>7</td>\n",
       "      <td>4</td>\n",
       "      <td>2</td>\n",
       "      <td>1576.740</td>\n",
       "      <td>1</td>\n",
       "      <td>1</td>\n",
       "    </tr>\n",
       "    <tr>\n",
       "      <th>6665</th>\n",
       "      <td>8</td>\n",
       "      <td>207</td>\n",
       "      <td>2240.0</td>\n",
       "      <td>0.0</td>\n",
       "      <td>1</td>\n",
       "      <td>R1522</td>\n",
       "      <td>14.182067</td>\n",
       "      <td>5180.0</td>\n",
       "      <td>0.0</td>\n",
       "      <td>15</td>\n",
       "      <td>...</td>\n",
       "      <td>122</td>\n",
       "      <td>Mï¿½xico</td>\n",
       "      <td>Xico</td>\n",
       "      <td>Valle de Chalco Solidaridad</td>\n",
       "      <td>6</td>\n",
       "      <td>3</td>\n",
       "      <td>2</td>\n",
       "      <td>3079.646</td>\n",
       "      <td>3</td>\n",
       "      <td>2</td>\n",
       "    </tr>\n",
       "  </tbody>\n",
       "</table>\n",
       "<p>5 rows × 34 columns</p>\n",
       "</div>"
      ],
      "text/plain": [
       "       AFILIACI  AGEB  ALTITUD  ANEMIA  AREA CODE_UPM       EDAD  EDADDIAS  \\\n",
       "2519          2  0151    387.0     0.0     1    M3010   8.563997    3128.0   \n",
       "104           6  0155   1703.0     0.0     1    M1733   6.737850    2461.0   \n",
       "11358         0  0889     30.0     0.0     2    M0406   9.585215    3501.0   \n",
       "3309          0  1222     33.0     0.0     1    M2829   9.210130    3364.0   \n",
       "6665          8   207   2240.0     0.0     1    R1522  14.182067    5180.0   \n",
       "\n",
       "       EDOFISIO  ENTIDAD  ...   MUNICI                          NOM_ENT  \\\n",
       "2519        NaN       30  ...       53  Veracruz de Ignacio de la Llave   \n",
       "104         NaN       17  ...       20                          Morelos   \n",
       "11358       NaN        4  ...        2                         Campeche   \n",
       "3309        NaN       28  ...       32                       Tamaulipas   \n",
       "6665        0.0       15  ...      122                         Mï¿½xico   \n",
       "\n",
       "                 NOM_LOC                      NOM_MUN  NSEDECIL  NSEQUINT  \\\n",
       "2519          Cuitláhuac                   Cuitláhuac         9         5   \n",
       "104            Tepoztlán                    Tepoztlán         4         2   \n",
       "11358  Alfredo V. Bonfil                     Campeche         4         2   \n",
       "3309             Reynosa                      Reynosa         7         4   \n",
       "6665                Xico  Valle de Chalco Solidaridad         6         3   \n",
       "\n",
       "       NSETERCI    PONDEF  REGION  SEXO  \n",
       "2519          3  5121.939       4     1  \n",
       "104           2   970.838       2     1  \n",
       "11358         1   155.232       4     2  \n",
       "3309          2  1576.740       1     1  \n",
       "6665          2  3079.646       3     2  \n",
       "\n",
       "[5 rows x 34 columns]"
      ]
     },
     "execution_count": 28,
     "metadata": {},
     "output_type": "execute_result"
    }
   ],
   "source": [
    "df_test_under.head()"
   ]
  },
  {
   "cell_type": "code",
   "execution_count": 29,
   "metadata": {},
   "outputs": [],
   "source": [
    "df_test_under.to_csv('../data/clean/anemia_balanced_pres.csv', index=False)"
   ]
  },
  {
   "cell_type": "code",
   "execution_count": 30,
   "metadata": {},
   "outputs": [],
   "source": [
    "anemia_balanced_pres = pd.read_csv('../data/clean/anemia_balanced_pres.csv', index_col=False)"
   ]
  },
  {
   "cell_type": "code",
   "execution_count": 31,
   "metadata": {},
   "outputs": [
    {
     "data": {
      "text/html": [
       "<div>\n",
       "<style scoped>\n",
       "    .dataframe tbody tr th:only-of-type {\n",
       "        vertical-align: middle;\n",
       "    }\n",
       "\n",
       "    .dataframe tbody tr th {\n",
       "        vertical-align: top;\n",
       "    }\n",
       "\n",
       "    .dataframe thead th {\n",
       "        text-align: right;\n",
       "    }\n",
       "</style>\n",
       "<table border=\"1\" class=\"dataframe\">\n",
       "  <thead>\n",
       "    <tr style=\"text-align: right;\">\n",
       "      <th></th>\n",
       "      <th>AFILIACI</th>\n",
       "      <th>AGEB</th>\n",
       "      <th>ALTITUD</th>\n",
       "      <th>ANEMIA</th>\n",
       "      <th>AREA</th>\n",
       "      <th>CODE_UPM</th>\n",
       "      <th>EDAD</th>\n",
       "      <th>EDADDIAS</th>\n",
       "      <th>EDOFISIO</th>\n",
       "      <th>ENTIDAD</th>\n",
       "      <th>...</th>\n",
       "      <th>MUNICI</th>\n",
       "      <th>NOM_ENT</th>\n",
       "      <th>NOM_LOC</th>\n",
       "      <th>NOM_MUN</th>\n",
       "      <th>NSEDECIL</th>\n",
       "      <th>NSEQUINT</th>\n",
       "      <th>NSETERCI</th>\n",
       "      <th>PONDEF</th>\n",
       "      <th>REGION</th>\n",
       "      <th>SEXO</th>\n",
       "    </tr>\n",
       "  </thead>\n",
       "  <tbody>\n",
       "    <tr>\n",
       "      <th>0</th>\n",
       "      <td>2</td>\n",
       "      <td>0151</td>\n",
       "      <td>387.0</td>\n",
       "      <td>0.0</td>\n",
       "      <td>1</td>\n",
       "      <td>M3010</td>\n",
       "      <td>8.563997</td>\n",
       "      <td>3128.0</td>\n",
       "      <td>NaN</td>\n",
       "      <td>30</td>\n",
       "      <td>...</td>\n",
       "      <td>53</td>\n",
       "      <td>Veracruz de Ignacio de la Llave</td>\n",
       "      <td>Cuitláhuac</td>\n",
       "      <td>Cuitláhuac</td>\n",
       "      <td>9</td>\n",
       "      <td>5</td>\n",
       "      <td>3</td>\n",
       "      <td>5121.939</td>\n",
       "      <td>4</td>\n",
       "      <td>1</td>\n",
       "    </tr>\n",
       "    <tr>\n",
       "      <th>1</th>\n",
       "      <td>6</td>\n",
       "      <td>0155</td>\n",
       "      <td>1703.0</td>\n",
       "      <td>0.0</td>\n",
       "      <td>1</td>\n",
       "      <td>M1733</td>\n",
       "      <td>6.737850</td>\n",
       "      <td>2461.0</td>\n",
       "      <td>NaN</td>\n",
       "      <td>17</td>\n",
       "      <td>...</td>\n",
       "      <td>20</td>\n",
       "      <td>Morelos</td>\n",
       "      <td>Tepoztlán</td>\n",
       "      <td>Tepoztlán</td>\n",
       "      <td>4</td>\n",
       "      <td>2</td>\n",
       "      <td>2</td>\n",
       "      <td>970.838</td>\n",
       "      <td>2</td>\n",
       "      <td>1</td>\n",
       "    </tr>\n",
       "    <tr>\n",
       "      <th>2</th>\n",
       "      <td>0</td>\n",
       "      <td>0889</td>\n",
       "      <td>30.0</td>\n",
       "      <td>0.0</td>\n",
       "      <td>2</td>\n",
       "      <td>M0406</td>\n",
       "      <td>9.585215</td>\n",
       "      <td>3501.0</td>\n",
       "      <td>NaN</td>\n",
       "      <td>4</td>\n",
       "      <td>...</td>\n",
       "      <td>2</td>\n",
       "      <td>Campeche</td>\n",
       "      <td>Alfredo V. Bonfil</td>\n",
       "      <td>Campeche</td>\n",
       "      <td>4</td>\n",
       "      <td>2</td>\n",
       "      <td>1</td>\n",
       "      <td>155.232</td>\n",
       "      <td>4</td>\n",
       "      <td>2</td>\n",
       "    </tr>\n",
       "    <tr>\n",
       "      <th>3</th>\n",
       "      <td>0</td>\n",
       "      <td>1222</td>\n",
       "      <td>33.0</td>\n",
       "      <td>0.0</td>\n",
       "      <td>1</td>\n",
       "      <td>M2829</td>\n",
       "      <td>9.210130</td>\n",
       "      <td>3364.0</td>\n",
       "      <td>NaN</td>\n",
       "      <td>28</td>\n",
       "      <td>...</td>\n",
       "      <td>32</td>\n",
       "      <td>Tamaulipas</td>\n",
       "      <td>Reynosa</td>\n",
       "      <td>Reynosa</td>\n",
       "      <td>7</td>\n",
       "      <td>4</td>\n",
       "      <td>2</td>\n",
       "      <td>1576.740</td>\n",
       "      <td>1</td>\n",
       "      <td>1</td>\n",
       "    </tr>\n",
       "    <tr>\n",
       "      <th>4</th>\n",
       "      <td>8</td>\n",
       "      <td>207</td>\n",
       "      <td>2240.0</td>\n",
       "      <td>0.0</td>\n",
       "      <td>1</td>\n",
       "      <td>R1522</td>\n",
       "      <td>14.182067</td>\n",
       "      <td>5180.0</td>\n",
       "      <td>0.0</td>\n",
       "      <td>15</td>\n",
       "      <td>...</td>\n",
       "      <td>122</td>\n",
       "      <td>Mï¿½xico</td>\n",
       "      <td>Xico</td>\n",
       "      <td>Valle de Chalco Solidaridad</td>\n",
       "      <td>6</td>\n",
       "      <td>3</td>\n",
       "      <td>2</td>\n",
       "      <td>3079.646</td>\n",
       "      <td>3</td>\n",
       "      <td>2</td>\n",
       "    </tr>\n",
       "  </tbody>\n",
       "</table>\n",
       "<p>5 rows × 34 columns</p>\n",
       "</div>"
      ],
      "text/plain": [
       "   AFILIACI  AGEB  ALTITUD  ANEMIA  AREA CODE_UPM       EDAD  EDADDIAS  \\\n",
       "0         2  0151    387.0     0.0     1    M3010   8.563997    3128.0   \n",
       "1         6  0155   1703.0     0.0     1    M1733   6.737850    2461.0   \n",
       "2         0  0889     30.0     0.0     2    M0406   9.585215    3501.0   \n",
       "3         0  1222     33.0     0.0     1    M2829   9.210130    3364.0   \n",
       "4         8   207   2240.0     0.0     1    R1522  14.182067    5180.0   \n",
       "\n",
       "   EDOFISIO  ENTIDAD  ...   MUNICI                          NOM_ENT  \\\n",
       "0       NaN       30  ...       53  Veracruz de Ignacio de la Llave   \n",
       "1       NaN       17  ...       20                          Morelos   \n",
       "2       NaN        4  ...        2                         Campeche   \n",
       "3       NaN       28  ...       32                       Tamaulipas   \n",
       "4       0.0       15  ...      122                         Mï¿½xico   \n",
       "\n",
       "             NOM_LOC                      NOM_MUN  NSEDECIL  NSEQUINT  \\\n",
       "0         Cuitláhuac                   Cuitláhuac         9         5   \n",
       "1          Tepoztlán                    Tepoztlán         4         2   \n",
       "2  Alfredo V. Bonfil                     Campeche         4         2   \n",
       "3            Reynosa                      Reynosa         7         4   \n",
       "4               Xico  Valle de Chalco Solidaridad         6         3   \n",
       "\n",
       "   NSETERCI    PONDEF  REGION  SEXO  \n",
       "0         3  5121.939       4     1  \n",
       "1         2   970.838       2     1  \n",
       "2         1   155.232       4     2  \n",
       "3         2  1576.740       1     1  \n",
       "4         2  3079.646       3     2  \n",
       "\n",
       "[5 rows x 34 columns]"
      ]
     },
     "execution_count": 31,
     "metadata": {},
     "output_type": "execute_result"
    }
   ],
   "source": [
    "anemia_balanced_pres.head()"
   ]
  },
  {
   "cell_type": "code",
   "execution_count": 32,
   "metadata": {},
   "outputs": [
    {
     "data": {
      "text/html": [
       "<div>\n",
       "<style scoped>\n",
       "    .dataframe tbody tr th:only-of-type {\n",
       "        vertical-align: middle;\n",
       "    }\n",
       "\n",
       "    .dataframe tbody tr th {\n",
       "        vertical-align: top;\n",
       "    }\n",
       "\n",
       "    .dataframe thead th {\n",
       "        text-align: right;\n",
       "    }\n",
       "</style>\n",
       "<table border=\"1\" class=\"dataframe\">\n",
       "  <thead>\n",
       "    <tr style=\"text-align: right;\">\n",
       "      <th></th>\n",
       "      <th>AFILIACI</th>\n",
       "      <th>AGEB</th>\n",
       "      <th>ALTITUD</th>\n",
       "      <th>ANEMIA</th>\n",
       "      <th>AREA</th>\n",
       "      <th>CODE_UPM</th>\n",
       "      <th>EDAD</th>\n",
       "      <th>EDADDIAS</th>\n",
       "      <th>EDOFISIO</th>\n",
       "      <th>ENTIDAD</th>\n",
       "      <th>...</th>\n",
       "      <th>MUNICI</th>\n",
       "      <th>NOM_ENT</th>\n",
       "      <th>NOM_LOC</th>\n",
       "      <th>NOM_MUN</th>\n",
       "      <th>NSEDECIL</th>\n",
       "      <th>NSEQUINT</th>\n",
       "      <th>NSETERCI</th>\n",
       "      <th>PONDEF</th>\n",
       "      <th>REGION</th>\n",
       "      <th>SEXO</th>\n",
       "    </tr>\n",
       "  </thead>\n",
       "  <tbody>\n",
       "    <tr>\n",
       "      <th>5363</th>\n",
       "      <td>6</td>\n",
       "      <td>116</td>\n",
       "      <td>2389.0</td>\n",
       "      <td>1.0</td>\n",
       "      <td>2</td>\n",
       "      <td>M3230</td>\n",
       "      <td>17.330595</td>\n",
       "      <td>6330.0</td>\n",
       "      <td>0.0</td>\n",
       "      <td>32</td>\n",
       "      <td>...</td>\n",
       "      <td>38</td>\n",
       "      <td>Zacatecas</td>\n",
       "      <td>El Chiquihuitillo</td>\n",
       "      <td>Pinos</td>\n",
       "      <td>3</td>\n",
       "      <td>2</td>\n",
       "      <td>1</td>\n",
       "      <td>965.969</td>\n",
       "      <td>2</td>\n",
       "      <td>2</td>\n",
       "    </tr>\n",
       "    <tr>\n",
       "      <th>5364</th>\n",
       "      <td>6</td>\n",
       "      <td>135</td>\n",
       "      <td>2139.0</td>\n",
       "      <td>1.0</td>\n",
       "      <td>2</td>\n",
       "      <td>M3231</td>\n",
       "      <td>12.881587</td>\n",
       "      <td>4705.0</td>\n",
       "      <td>0.0</td>\n",
       "      <td>32</td>\n",
       "      <td>...</td>\n",
       "      <td>38</td>\n",
       "      <td>Zacatecas</td>\n",
       "      <td>Huertas del Mezquite</td>\n",
       "      <td>Pinos</td>\n",
       "      <td>4</td>\n",
       "      <td>2</td>\n",
       "      <td>2</td>\n",
       "      <td>243.837</td>\n",
       "      <td>2</td>\n",
       "      <td>2</td>\n",
       "    </tr>\n",
       "    <tr>\n",
       "      <th>5365</th>\n",
       "      <td>6</td>\n",
       "      <td>60</td>\n",
       "      <td>1843.0</td>\n",
       "      <td>1.0</td>\n",
       "      <td>2</td>\n",
       "      <td>M3236</td>\n",
       "      <td>18.822724</td>\n",
       "      <td>6875.0</td>\n",
       "      <td>0.0</td>\n",
       "      <td>32</td>\n",
       "      <td>...</td>\n",
       "      <td>41</td>\n",
       "      <td>Zacatecas</td>\n",
       "      <td>Clavellinas</td>\n",
       "      <td>El Salvador</td>\n",
       "      <td>2</td>\n",
       "      <td>1</td>\n",
       "      <td>1</td>\n",
       "      <td>136.947</td>\n",
       "      <td>2</td>\n",
       "      <td>2</td>\n",
       "    </tr>\n",
       "    <tr>\n",
       "      <th>5366</th>\n",
       "      <td>1</td>\n",
       "      <td>146</td>\n",
       "      <td>1697.0</td>\n",
       "      <td>1.0</td>\n",
       "      <td>1</td>\n",
       "      <td>M3240</td>\n",
       "      <td>13.311430</td>\n",
       "      <td>4862.0</td>\n",
       "      <td>0.0</td>\n",
       "      <td>32</td>\n",
       "      <td>...</td>\n",
       "      <td>48</td>\n",
       "      <td>Zacatecas</td>\n",
       "      <td>Tlaltenango de Sï¿½nchez Romï¿½n</td>\n",
       "      <td>Tlaltenango de Sï¿½nchez Romï¿½n</td>\n",
       "      <td>9</td>\n",
       "      <td>5</td>\n",
       "      <td>3</td>\n",
       "      <td>478.898</td>\n",
       "      <td>2</td>\n",
       "      <td>2</td>\n",
       "    </tr>\n",
       "    <tr>\n",
       "      <th>5367</th>\n",
       "      <td>1</td>\n",
       "      <td>125</td>\n",
       "      <td>2533.0</td>\n",
       "      <td>1.0</td>\n",
       "      <td>2</td>\n",
       "      <td>M3241</td>\n",
       "      <td>19.572895</td>\n",
       "      <td>7149.0</td>\n",
       "      <td>0.0</td>\n",
       "      <td>32</td>\n",
       "      <td>...</td>\n",
       "      <td>50</td>\n",
       "      <td>Zacatecas</td>\n",
       "      <td>Vetagrande</td>\n",
       "      <td>Vetagrande</td>\n",
       "      <td>9</td>\n",
       "      <td>5</td>\n",
       "      <td>3</td>\n",
       "      <td>503.661</td>\n",
       "      <td>2</td>\n",
       "      <td>2</td>\n",
       "    </tr>\n",
       "  </tbody>\n",
       "</table>\n",
       "<p>5 rows × 34 columns</p>\n",
       "</div>"
      ],
      "text/plain": [
       "      AFILIACI AGEB  ALTITUD  ANEMIA  AREA CODE_UPM       EDAD  EDADDIAS  \\\n",
       "5363         6  116   2389.0     1.0     2    M3230  17.330595    6330.0   \n",
       "5364         6  135   2139.0     1.0     2    M3231  12.881587    4705.0   \n",
       "5365         6   60   1843.0     1.0     2    M3236  18.822724    6875.0   \n",
       "5366         1  146   1697.0     1.0     1    M3240  13.311430    4862.0   \n",
       "5367         1  125   2533.0     1.0     2    M3241  19.572895    7149.0   \n",
       "\n",
       "      EDOFISIO  ENTIDAD  ...   MUNICI    NOM_ENT  \\\n",
       "5363       0.0       32  ...       38  Zacatecas   \n",
       "5364       0.0       32  ...       38  Zacatecas   \n",
       "5365       0.0       32  ...       41  Zacatecas   \n",
       "5366       0.0       32  ...       48  Zacatecas   \n",
       "5367       0.0       32  ...       50  Zacatecas   \n",
       "\n",
       "                               NOM_LOC                           NOM_MUN  \\\n",
       "5363                 El Chiquihuitillo                             Pinos   \n",
       "5364              Huertas del Mezquite                             Pinos   \n",
       "5365                       Clavellinas                       El Salvador   \n",
       "5366  Tlaltenango de Sï¿½nchez Romï¿½n  Tlaltenango de Sï¿½nchez Romï¿½n   \n",
       "5367                        Vetagrande                        Vetagrande   \n",
       "\n",
       "      NSEDECIL  NSEQUINT  NSETERCI   PONDEF  REGION  SEXO  \n",
       "5363         3         2         1  965.969       2     2  \n",
       "5364         4         2         2  243.837       2     2  \n",
       "5365         2         1         1  136.947       2     2  \n",
       "5366         9         5         3  478.898       2     2  \n",
       "5367         9         5         3  503.661       2     2  \n",
       "\n",
       "[5 rows x 34 columns]"
      ]
     },
     "execution_count": 32,
     "metadata": {},
     "output_type": "execute_result"
    }
   ],
   "source": [
    "anemia_balanced_pres.tail()"
   ]
  },
  {
   "cell_type": "code",
   "execution_count": 33,
   "metadata": {},
   "outputs": [
    {
     "data": {
      "text/plain": [
       "AFILIACI    0.000000\n",
       "AGEB        0.000000\n",
       "ALTITUD     0.000000\n",
       "ANEMIA      0.000000\n",
       "AREA        0.000000\n",
       "CODE_UPM    0.000000\n",
       "EDAD        0.000000\n",
       "EDADDIAS    0.000000\n",
       "EDOFISIO    0.629285\n",
       "ENTIDAD     0.000000\n",
       "EST_DIS     0.000000\n",
       "EST_MARG    0.000000\n",
       "EST_URB     0.000000\n",
       "EST_VAR     0.000000\n",
       "FECHA_NA    0.002235\n",
       "FECHA_VI    0.000000\n",
       "FOLIO_C     0.000000\n",
       "HB          0.000000\n",
       "HBAJUSTA    0.000000\n",
       "HEMCAP      0.000000\n",
       "INDICEF     0.000000\n",
       "INTP        0.000000\n",
       "LOCALI      0.000000\n",
       "MESES       0.000000\n",
       "MUNICI      0.000000\n",
       "NOM_ENT     0.000000\n",
       "NOM_LOC     0.000000\n",
       "NOM_MUN     0.000000\n",
       "NSEDECIL    0.000000\n",
       "NSEQUINT    0.000000\n",
       "NSETERCI    0.000000\n",
       "PONDEF      0.000000\n",
       "REGION      0.000000\n",
       "SEXO        0.000000\n",
       "dtype: float64"
      ]
     },
     "execution_count": 33,
     "metadata": {},
     "output_type": "execute_result"
    }
   ],
   "source": [
    "anemia_balanced_pres.isnull().mean()"
   ]
  }
 ],
 "metadata": {
  "kernelspec": {
   "display_name": "Python [conda env:pyml]",
   "language": "python",
   "name": "conda-env-pyml-py"
  },
  "language_info": {
   "codemirror_mode": {
    "name": "ipython",
    "version": 3
   },
   "file_extension": ".py",
   "mimetype": "text/x-python",
   "name": "python",
   "nbconvert_exporter": "python",
   "pygments_lexer": "ipython3",
   "version": "3.5.6"
  }
 },
 "nbformat": 4,
 "nbformat_minor": 2
}
