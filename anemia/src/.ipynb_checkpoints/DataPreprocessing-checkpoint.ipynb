{
 "cells": [
  {
   "cell_type": "code",
   "execution_count": 29,
   "metadata": {},
   "outputs": [],
   "source": [
    "import pandas as pd\n",
    "from matplotlib import pyplot as plt"
   ]
  },
  {
   "cell_type": "code",
   "execution_count": 36,
   "metadata": {},
   "outputs": [],
   "source": [
    "anemia_pres = pd.read_csv('../data/messy/anemia_preescolar5_N2012U.csv', index_col=False)"
   ]
  },
  {
   "cell_type": "code",
   "execution_count": 31,
   "metadata": {},
   "outputs": [],
   "source": [
    "anemia_child = pd.read_csv('../data/messy/anemia_escolar5_11_N2012.csv', index_col=False,encoding='latin-1')"
   ]
  },
  {
   "cell_type": "code",
   "execution_count": 32,
   "metadata": {},
   "outputs": [],
   "source": [
    "anemia_teen = pd.read_csv('../data/messy/anemia_adolescente12_19_N2012.csv', index_col=False,encoding='latin-1')"
   ]
  },
  {
   "cell_type": "code",
   "execution_count": 37,
   "metadata": {},
   "outputs": [
    {
     "data": {
      "text/plain": [
       "0.0    5841\n",
       "1.0    1729\n",
       "Name: ANEMIA, dtype: int64"
      ]
     },
     "execution_count": 37,
     "metadata": {},
     "output_type": "execute_result"
    }
   ],
   "source": [
    "anemia_pres['ANEMIA'].value_counts()"
   ]
  },
  {
   "cell_type": "code",
   "execution_count": 38,
   "metadata": {},
   "outputs": [
    {
     "data": {
      "text/plain": [
       "0.0    12404\n",
       "1.0     1462\n",
       "Name: ANEMIA, dtype: int64"
      ]
     },
     "execution_count": 38,
     "metadata": {},
     "output_type": "execute_result"
    }
   ],
   "source": [
    "anemia_child['ANEMIA'].value_counts()"
   ]
  },
  {
   "cell_type": "code",
   "execution_count": 39,
   "metadata": {},
   "outputs": [
    {
     "data": {
      "text/plain": [
       "0.0    10908\n",
       "1.0      730\n",
       "Name: anemia, dtype: int64"
      ]
     },
     "execution_count": 39,
     "metadata": {},
     "output_type": "execute_result"
    }
   ],
   "source": [
    "anemia_teen['anemia'].value_counts()"
   ]
  },
  {
   "cell_type": "code",
   "execution_count": 40,
   "metadata": {},
   "outputs": [
    {
     "data": {
      "text/plain": [
       "FOLIO_C     0.000000\n",
       "INTP        0.000000\n",
       "ENTIDAD     0.000000\n",
       "NOM_ENT     0.000469\n",
       "MUNICI      0.000000\n",
       "NOM_MUN     0.000469\n",
       "LOCALI      0.000000\n",
       "NOM_LOC     0.000469\n",
       "ALTITUD     0.000469\n",
       "SEXO        0.000000\n",
       "HEMCAP      0.049601\n",
       "FECHA_NA    0.002814\n",
       "FECHA_VI    0.000000\n",
       "EDADDIAS    0.000000\n",
       "EDAD        0.000000\n",
       "MESES       0.000000\n",
       "CODE_UPM    0.111984\n",
       "EST_DIS     0.111984\n",
       "EST_URB     0.111984\n",
       "EST_MARG    0.111984\n",
       "PONDEF      0.111984\n",
       "EST_VAR     0.111984\n",
       "AREA        0.000000\n",
       "REGION      0.000000\n",
       "AGEB        0.000000\n",
       "INDICEF     0.000000\n",
       "AFILIACI    0.000000\n",
       "NSEDECIL    0.000000\n",
       "NSEQUINT    0.000000\n",
       "NSETERCI    0.000000\n",
       "HB          0.111984\n",
       "HBAJUSTA    0.112336\n",
       "ANEMIA      0.112336\n",
       "dtype: float64"
      ]
     },
     "execution_count": 40,
     "metadata": {},
     "output_type": "execute_result"
    }
   ],
   "source": [
    "anemia_pres.isnull().mean()"
   ]
  },
  {
   "cell_type": "code",
   "execution_count": 41,
   "metadata": {},
   "outputs": [
    {
     "data": {
      "text/html": [
       "<div>\n",
       "<style scoped>\n",
       "    .dataframe tbody tr th:only-of-type {\n",
       "        vertical-align: middle;\n",
       "    }\n",
       "\n",
       "    .dataframe tbody tr th {\n",
       "        vertical-align: top;\n",
       "    }\n",
       "\n",
       "    .dataframe thead th {\n",
       "        text-align: right;\n",
       "    }\n",
       "</style>\n",
       "<table border=\"1\" class=\"dataframe\">\n",
       "  <thead>\n",
       "    <tr style=\"text-align: right;\">\n",
       "      <th></th>\n",
       "      <th>FOLIO_C</th>\n",
       "      <th>INTP</th>\n",
       "      <th>ENTIDAD</th>\n",
       "      <th>NOM_ENT</th>\n",
       "      <th>MUNICI</th>\n",
       "      <th>NOM_MUN</th>\n",
       "      <th>LOCALI</th>\n",
       "      <th>NOM_LOC</th>\n",
       "      <th>ALTITUD</th>\n",
       "      <th>SEXO</th>\n",
       "      <th>...</th>\n",
       "      <th>REGION</th>\n",
       "      <th>AGEB</th>\n",
       "      <th>INDICEF</th>\n",
       "      <th>AFILIACI</th>\n",
       "      <th>NSEDECIL</th>\n",
       "      <th>NSEQUINT</th>\n",
       "      <th>NSETERCI</th>\n",
       "      <th>HB</th>\n",
       "      <th>HBAJUSTA</th>\n",
       "      <th>ANEMIA</th>\n",
       "    </tr>\n",
       "  </thead>\n",
       "  <tbody>\n",
       "    <tr>\n",
       "      <th>0</th>\n",
       "      <td>14061452</td>\n",
       "      <td>5</td>\n",
       "      <td>14</td>\n",
       "      <td>Jalisco</td>\n",
       "      <td>98</td>\n",
       "      <td>Tlaquepaque</td>\n",
       "      <td>1</td>\n",
       "      <td>Tlaquepaque</td>\n",
       "      <td>1569.0</td>\n",
       "      <td>1</td>\n",
       "      <td>...</td>\n",
       "      <td>2</td>\n",
       "      <td>1519</td>\n",
       "      <td>1.672565</td>\n",
       "      <td>1</td>\n",
       "      <td>9</td>\n",
       "      <td>5</td>\n",
       "      <td>3</td>\n",
       "      <td>12.2</td>\n",
       "      <td>11.733641</td>\n",
       "      <td>0.0</td>\n",
       "    </tr>\n",
       "    <tr>\n",
       "      <th>1</th>\n",
       "      <td>7060841</td>\n",
       "      <td>7</td>\n",
       "      <td>7</td>\n",
       "      <td>Chiapas</td>\n",
       "      <td>65</td>\n",
       "      <td>Palenque</td>\n",
       "      <td>587</td>\n",
       "      <td>El Tenampa</td>\n",
       "      <td>140.0</td>\n",
       "      <td>1</td>\n",
       "      <td>...</td>\n",
       "      <td>4</td>\n",
       "      <td>0219</td>\n",
       "      <td>-2.970953</td>\n",
       "      <td>0</td>\n",
       "      <td>1</td>\n",
       "      <td>1</td>\n",
       "      <td>1</td>\n",
       "      <td>13.4</td>\n",
       "      <td>13.400000</td>\n",
       "      <td>0.0</td>\n",
       "    </tr>\n",
       "    <tr>\n",
       "      <th>2</th>\n",
       "      <td>27060949</td>\n",
       "      <td>5</td>\n",
       "      <td>27</td>\n",
       "      <td>Tabasco</td>\n",
       "      <td>5</td>\n",
       "      <td>Comalcalco</td>\n",
       "      <td>24</td>\n",
       "      <td>Francisco I. Madero 2da. Sección</td>\n",
       "      <td>6.0</td>\n",
       "      <td>1</td>\n",
       "      <td>...</td>\n",
       "      <td>4</td>\n",
       "      <td>0148</td>\n",
       "      <td>-2.253719</td>\n",
       "      <td>0</td>\n",
       "      <td>2</td>\n",
       "      <td>1</td>\n",
       "      <td>1</td>\n",
       "      <td>11.6</td>\n",
       "      <td>11.600000</td>\n",
       "      <td>0.0</td>\n",
       "    </tr>\n",
       "    <tr>\n",
       "      <th>3</th>\n",
       "      <td>25061903</td>\n",
       "      <td>3</td>\n",
       "      <td>25</td>\n",
       "      <td>Sinaloa</td>\n",
       "      <td>18</td>\n",
       "      <td>Navolato</td>\n",
       "      <td>481</td>\n",
       "      <td>Campo San José</td>\n",
       "      <td>10.0</td>\n",
       "      <td>1</td>\n",
       "      <td>...</td>\n",
       "      <td>2</td>\n",
       "      <td>0560</td>\n",
       "      <td>-3.659110</td>\n",
       "      <td>1</td>\n",
       "      <td>1</td>\n",
       "      <td>1</td>\n",
       "      <td>1</td>\n",
       "      <td>11.3</td>\n",
       "      <td>11.300000</td>\n",
       "      <td>0.0</td>\n",
       "    </tr>\n",
       "    <tr>\n",
       "      <th>4</th>\n",
       "      <td>12060682</td>\n",
       "      <td>6</td>\n",
       "      <td>12</td>\n",
       "      <td>Guerrero</td>\n",
       "      <td>19</td>\n",
       "      <td>Copalillo</td>\n",
       "      <td>8</td>\n",
       "      <td>Tlalcozotitlán</td>\n",
       "      <td>571.0</td>\n",
       "      <td>1</td>\n",
       "      <td>...</td>\n",
       "      <td>4</td>\n",
       "      <td>0132</td>\n",
       "      <td>-3.338322</td>\n",
       "      <td>6</td>\n",
       "      <td>1</td>\n",
       "      <td>1</td>\n",
       "      <td>1</td>\n",
       "      <td>11.0</td>\n",
       "      <td>11.000000</td>\n",
       "      <td>0.0</td>\n",
       "    </tr>\n",
       "  </tbody>\n",
       "</table>\n",
       "<p>5 rows × 33 columns</p>\n",
       "</div>"
      ],
      "text/plain": [
       "    FOLIO_C  INTP  ENTIDAD   NOM_ENT  MUNICI      NOM_MUN  LOCALI  \\\n",
       "0  14061452     5       14   Jalisco      98  Tlaquepaque       1   \n",
       "1   7060841     7        7   Chiapas      65     Palenque     587   \n",
       "2  27060949     5       27   Tabasco       5   Comalcalco      24   \n",
       "3  25061903     3       25   Sinaloa      18     Navolato     481   \n",
       "4  12060682     6       12  Guerrero      19    Copalillo       8   \n",
       "\n",
       "                            NOM_LOC  ALTITUD  SEXO   ...    REGION  AGEB  \\\n",
       "0                       Tlaquepaque   1569.0     1   ...         2  1519   \n",
       "1                        El Tenampa    140.0     1   ...         4  0219   \n",
       "2  Francisco I. Madero 2da. Sección      6.0     1   ...         4  0148   \n",
       "3                    Campo San José     10.0     1   ...         2  0560   \n",
       "4                    Tlalcozotitlán    571.0     1   ...         4  0132   \n",
       "\n",
       "    INDICEF  AFILIACI  NSEDECIL  NSEQUINT NSETERCI    HB   HBAJUSTA  ANEMIA  \n",
       "0  1.672565         1         9         5        3  12.2  11.733641     0.0  \n",
       "1 -2.970953         0         1         1        1  13.4  13.400000     0.0  \n",
       "2 -2.253719         0         2         1        1  11.6  11.600000     0.0  \n",
       "3 -3.659110         1         1         1        1  11.3  11.300000     0.0  \n",
       "4 -3.338322         6         1         1        1  11.0  11.000000     0.0  \n",
       "\n",
       "[5 rows x 33 columns]"
      ]
     },
     "execution_count": 41,
     "metadata": {},
     "output_type": "execute_result"
    }
   ],
   "source": [
    "anemia_pres.head()"
   ]
  },
  {
   "cell_type": "code",
   "execution_count": 42,
   "metadata": {},
   "outputs": [],
   "source": [
    "anemia_pres = anemia_pres.dropna(0, how='any')"
   ]
  },
  {
   "cell_type": "code",
   "execution_count": 43,
   "metadata": {},
   "outputs": [
    {
     "data": {
      "text/plain": [
       "FOLIO_C     0.0\n",
       "INTP        0.0\n",
       "ENTIDAD     0.0\n",
       "NOM_ENT     0.0\n",
       "MUNICI      0.0\n",
       "NOM_MUN     0.0\n",
       "LOCALI      0.0\n",
       "NOM_LOC     0.0\n",
       "ALTITUD     0.0\n",
       "SEXO        0.0\n",
       "HEMCAP      0.0\n",
       "FECHA_NA    0.0\n",
       "FECHA_VI    0.0\n",
       "EDADDIAS    0.0\n",
       "EDAD        0.0\n",
       "MESES       0.0\n",
       "CODE_UPM    0.0\n",
       "EST_DIS     0.0\n",
       "EST_URB     0.0\n",
       "EST_MARG    0.0\n",
       "PONDEF      0.0\n",
       "EST_VAR     0.0\n",
       "AREA        0.0\n",
       "REGION      0.0\n",
       "AGEB        0.0\n",
       "INDICEF     0.0\n",
       "AFILIACI    0.0\n",
       "NSEDECIL    0.0\n",
       "NSEQUINT    0.0\n",
       "NSETERCI    0.0\n",
       "HB          0.0\n",
       "HBAJUSTA    0.0\n",
       "ANEMIA      0.0\n",
       "dtype: float64"
      ]
     },
     "execution_count": 43,
     "metadata": {},
     "output_type": "execute_result"
    }
   ],
   "source": [
    "anemia_pres.isnull().mean()"
   ]
  },
  {
   "cell_type": "code",
   "execution_count": 46,
   "metadata": {},
   "outputs": [
    {
     "name": "stdout",
     "output_type": "stream",
     "text": [
      "Proportion: 3.38 : 1\n"
     ]
    }
   ],
   "source": [
    "target_count = anemia_pres.ANEMIA.value_counts()\n",
    "print('Proportion:', round(target_count[0] / target_count[1], 2), ': 1')"
   ]
  },
  {
   "cell_type": "code",
   "execution_count": 48,
   "metadata": {},
   "outputs": [
    {
     "data": {
      "image/png": "[encoded data removed]",
      "text/plain": [
       "<Figure size 432x288 with 1 Axes>"
      ]
     },
     "metadata": {
      "needs_background": "light"
     },
     "output_type": "display_data"
    }
   ],
   "source": [
    "target_count.plot(kind='bar', title='Count (Anemia)');"
   ]
  },
  {
   "cell_type": "markdown",
   "metadata": {},
   "source": [
    "## Random under-sampling"
   ]
  },
  {
   "cell_type": "code",
   "execution_count": null,
   "metadata": {},
   "outputs": [],
   "source": []
  }
 ],
 "metadata": {
  "kernelspec": {
   "display_name": "Python [conda env:pyml]",
   "language": "python",
   "name": "conda-env-pyml-py"
  },
  "language_info": {
   "codemirror_mode": {
    "name": "ipython",
    "version": 3
   },
   "file_extension": ".py",
   "mimetype": "text/x-python",
   "name": "python",
   "nbconvert_exporter": "python",
   "pygments_lexer": "ipython3",
   "version": "3.5.6"
  }
 },
 "nbformat": 4,
 "nbformat_minor": 2
}
