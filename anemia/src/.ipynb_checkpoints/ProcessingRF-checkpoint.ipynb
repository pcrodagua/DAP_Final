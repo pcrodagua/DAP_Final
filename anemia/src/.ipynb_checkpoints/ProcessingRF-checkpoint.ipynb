{
 "cells": [
  {
   "cell_type": "code",
   "execution_count": 1,
   "metadata": {},
   "outputs": [],
   "source": [
    "from sklearn.model_selection import train_test_split\n",
    "from sklearn.metrics import mean_squared_error\n",
    "from sklearn import linear_model\n",
    "from sklearn import datasets\n",
    "from math import sqrt\n",
    "\n",
    "import matplotlib.pyplot as plt\n",
    "import statsmodels.api as sm\n",
    "import scipy.optimize as opt\n",
    "from scipy import stats\n",
    "import seaborn as sns\n",
    "import pandas as pd\n",
    "import numpy as np\n",
    "\n",
    "sns.set_style(\"ticks\")\n",
    "%matplotlib inline"
   ]
  },
  {
   "cell_type": "code",
   "execution_count": 2,
   "metadata": {},
   "outputs": [],
   "source": [
    "from sklearn.ensemble import RandomForestClassifier\n",
    "from sklearn.model_selection import cross_val_score\n",
    "from sklearn.metrics import accuracy_score, classification_report, confusion_matrix, roc_curve, roc_auc_score"
   ]
  },
  {
   "cell_type": "markdown",
   "metadata": {},
   "source": [
    "## Data Split"
   ]
  },
  {
   "cell_type": "code",
   "execution_count": 3,
   "metadata": {},
   "outputs": [],
   "source": [
    "anemia_df = pd.read_csv('../data/clean/anemia_balanced_clean.csv', index_col=False)\n",
    "x_values = anemia_df.drop(columns=[\"ANEMIA\"])\n",
    "x_values = anemia_df[['INTP', 'SEXO', 'EST_URB', 'EST_MARG', 'HB']]\n",
    "y_values = anemia_df[\"ANEMIA\"]"
   ]
  },
  {
   "cell_type": "code",
   "execution_count": 4,
   "metadata": {},
   "outputs": [],
   "source": [
    "# Data Split\n",
    "from sklearn.model_selection import train_test_split\n",
    "seed = 1234\n",
    "x_train, x_test, y_train, y_test = train_test_split(x_values, y_values, test_size=0.3, random_state=seed)"
   ]
  },
  {
   "cell_type": "markdown",
   "metadata": {},
   "source": [
    "## Metrics Used"
   ]
  },
  {
   "cell_type": "code",
   "execution_count": 5,
   "metadata": {},
   "outputs": [],
   "source": [
    "def print_metrics(y_test, y_pred):\n",
    "    cm = confusion_matrix(y_test, y_pred=y_pred)\n",
    "    sns.heatmap(cm, annot=True)\n",
    "    target_names = ['0', '1']\n",
    "    print(classification_report(y_test, y_pred, target_names=target_names))\n",
    "    print('Accuracy: {0}'.format(accuracy_score(y_test, y_pred)))\n",
    "    \n",
    "def plot_roc(y_test, y_pred, model):\n",
    "    # calculate roc curve\n",
    "    fpr, tpr, thresholds = roc_curve(y_test, y_pred)\n",
    "    auc = roc_auc_score(y_test, y_pred)\n",
    "\n",
    "    plt.plot([0, 1], [0, 1], color='red', linestyle='--')\n",
    "    plt.plot(fpr, tpr, marker='.', label = 'AUC: %0.2f' % auc, color= 'green')\n",
    "    plt.title('{0} (ROC + AUC)'.format(model))\n",
    "    plt.xlabel('False Positive Rate (x)')\n",
    "    plt.ylabel('True Positive Rate (y)')\n",
    "    plt.legend(loc=\"lower right\")\n",
    "    plt.grid()\n",
    "    plt.show()"
   ]
  },
  {
   "cell_type": "markdown",
   "metadata": {},
   "source": [
    "## Random Forest (No Normalized)"
   ]
  },
  {
   "cell_type": "code",
   "execution_count": 6,
   "metadata": {},
   "outputs": [
    {
     "name": "stdout",
     "output_type": "stream",
     "text": [
      "              precision    recall  f1-score   support\n",
      "\n",
      "           0       0.87      0.88      0.88       490\n",
      "           1       0.89      0.88      0.89       544\n",
      "\n",
      "   micro avg       0.88      0.88      0.88      1034\n",
      "   macro avg       0.88      0.88      0.88      1034\n",
      "weighted avg       0.88      0.88      0.88      1034\n",
      "\n",
      "Accuracy: 0.8829787234042553\n"
     ]
    },
    {
     "data": {
      "image/png": "[encoded data removed]",
      "text/plain": [
       "<Figure size 432x288 with 2 Axes>"
      ]
     },
     "metadata": {
      "needs_background": "light"
     },
     "output_type": "display_data"
    }
   ],
   "source": [
    "lr_model = RandomForestClassifier(n_estimators=100, max_depth=5, random_state=0)\n",
    "lr_model.fit(x_train, y_train)\n",
    "y_pred = lr_model.predict(x_test)\n",
    "print_metrics(y_test, y_pred)"
   ]
  },
  {
   "cell_type": "code",
   "execution_count": 7,
   "metadata": {},
   "outputs": [
    {
     "data": {
      "image/png": "[encoded data removed]",
      "text/plain": [
       "<Figure size 432x288 with 1 Axes>"
      ]
     },
     "metadata": {
      "needs_background": "light"
     },
     "output_type": "display_data"
    }
   ],
   "source": [
    "plot_roc(y_test, y_pred, 'Random Forest')"
   ]
  },
  {
   "cell_type": "markdown",
   "metadata": {},
   "source": [
    "## Random Forest (Normalized Z-Score)"
   ]
  },
  {
   "cell_type": "code",
   "execution_count": 8,
   "metadata": {},
   "outputs": [
    {
     "data": {
      "text/html": [
       "<div>\n",
       "<style scoped>\n",
       "    .dataframe tbody tr th:only-of-type {\n",
       "        vertical-align: middle;\n",
       "    }\n",
       "\n",
       "    .dataframe tbody tr th {\n",
       "        vertical-align: top;\n",
       "    }\n",
       "\n",
       "    .dataframe thead th {\n",
       "        text-align: right;\n",
       "    }\n",
       "</style>\n",
       "<table border=\"1\" class=\"dataframe\">\n",
       "  <thead>\n",
       "    <tr style=\"text-align: right;\">\n",
       "      <th></th>\n",
       "      <th>INTP</th>\n",
       "      <th>ENTIDAD</th>\n",
       "      <th>MUNICI</th>\n",
       "      <th>LOCALI</th>\n",
       "      <th>ALTITUD</th>\n",
       "      <th>SEXO</th>\n",
       "      <th>EDADDIAS</th>\n",
       "      <th>EST_URB</th>\n",
       "      <th>EST_MARG</th>\n",
       "      <th>PONDEF</th>\n",
       "      <th>AREA</th>\n",
       "      <th>REGION</th>\n",
       "      <th>INDICEF</th>\n",
       "      <th>AFILIACI</th>\n",
       "      <th>HB</th>\n",
       "      <th>ANEMIA</th>\n",
       "    </tr>\n",
       "  </thead>\n",
       "  <tbody>\n",
       "    <tr>\n",
       "      <th>0</th>\n",
       "      <td>-1.133700</td>\n",
       "      <td>-0.044379</td>\n",
       "      <td>1.097101</td>\n",
       "      <td>0.314451</td>\n",
       "      <td>1.490116</td>\n",
       "      <td>-0.970262</td>\n",
       "      <td>0.162654</td>\n",
       "      <td>-1.121081</td>\n",
       "      <td>1.096962</td>\n",
       "      <td>-0.383646</td>\n",
       "      <td>1.228752</td>\n",
       "      <td>-0.448387</td>\n",
       "      <td>-1.023651</td>\n",
       "      <td>0.479607</td>\n",
       "      <td>1.389024</td>\n",
       "      <td>0.0</td>\n",
       "    </tr>\n",
       "    <tr>\n",
       "      <th>1</th>\n",
       "      <td>1.135346</td>\n",
       "      <td>0.823923</td>\n",
       "      <td>-0.394738</td>\n",
       "      <td>-0.174607</td>\n",
       "      <td>-0.799723</td>\n",
       "      <td>-0.970262</td>\n",
       "      <td>-0.850721</td>\n",
       "      <td>-1.121081</td>\n",
       "      <td>1.096962</td>\n",
       "      <td>-0.622282</td>\n",
       "      <td>1.228752</td>\n",
       "      <td>-0.448387</td>\n",
       "      <td>-1.008085</td>\n",
       "      <td>0.479607</td>\n",
       "      <td>-0.218353</td>\n",
       "      <td>0.0</td>\n",
       "    </tr>\n",
       "    <tr>\n",
       "      <th>2</th>\n",
       "      <td>0.000823</td>\n",
       "      <td>1.040998</td>\n",
       "      <td>-0.105504</td>\n",
       "      <td>0.027226</td>\n",
       "      <td>-1.119514</td>\n",
       "      <td>-0.970262</td>\n",
       "      <td>-0.034325</td>\n",
       "      <td>-1.121081</td>\n",
       "      <td>1.096962</td>\n",
       "      <td>-0.665360</td>\n",
       "      <td>1.228752</td>\n",
       "      <td>-1.279554</td>\n",
       "      <td>-0.380735</td>\n",
       "      <td>0.479607</td>\n",
       "      <td>0.360302</td>\n",
       "      <td>0.0</td>\n",
       "    </tr>\n",
       "    <tr>\n",
       "      <th>3</th>\n",
       "      <td>0.568085</td>\n",
       "      <td>-0.152917</td>\n",
       "      <td>-0.394738</td>\n",
       "      <td>-0.124149</td>\n",
       "      <td>1.550145</td>\n",
       "      <td>1.030649</td>\n",
       "      <td>0.708500</td>\n",
       "      <td>-1.121081</td>\n",
       "      <td>1.096962</td>\n",
       "      <td>1.286565</td>\n",
       "      <td>1.228752</td>\n",
       "      <td>-0.448387</td>\n",
       "      <td>-1.302519</td>\n",
       "      <td>-0.349970</td>\n",
       "      <td>1.710499</td>\n",
       "      <td>0.0</td>\n",
       "    </tr>\n",
       "    <tr>\n",
       "      <th>4</th>\n",
       "      <td>2.269869</td>\n",
       "      <td>1.149536</td>\n",
       "      <td>-0.486075</td>\n",
       "      <td>-0.240591</td>\n",
       "      <td>-1.129337</td>\n",
       "      <td>-0.970262</td>\n",
       "      <td>-0.921918</td>\n",
       "      <td>-0.002273</td>\n",
       "      <td>-0.911609</td>\n",
       "      <td>-0.079317</td>\n",
       "      <td>-0.813834</td>\n",
       "      <td>1.213949</td>\n",
       "      <td>1.554346</td>\n",
       "      <td>0.479607</td>\n",
       "      <td>0.231712</td>\n",
       "      <td>0.0</td>\n",
       "    </tr>\n",
       "  </tbody>\n",
       "</table>\n",
       "</div>"
      ],
      "text/plain": [
       "       INTP   ENTIDAD    MUNICI    LOCALI   ALTITUD      SEXO  EDADDIAS  \\\n",
       "0 -1.133700 -0.044379  1.097101  0.314451  1.490116 -0.970262  0.162654   \n",
       "1  1.135346  0.823923 -0.394738 -0.174607 -0.799723 -0.970262 -0.850721   \n",
       "2  0.000823  1.040998 -0.105504  0.027226 -1.119514 -0.970262 -0.034325   \n",
       "3  0.568085 -0.152917 -0.394738 -0.124149  1.550145  1.030649  0.708500   \n",
       "4  2.269869  1.149536 -0.486075 -0.240591 -1.129337 -0.970262 -0.921918   \n",
       "\n",
       "    EST_URB  EST_MARG    PONDEF      AREA    REGION   INDICEF  AFILIACI  \\\n",
       "0 -1.121081  1.096962 -0.383646  1.228752 -0.448387 -1.023651  0.479607   \n",
       "1 -1.121081  1.096962 -0.622282  1.228752 -0.448387 -1.008085  0.479607   \n",
       "2 -1.121081  1.096962 -0.665360  1.228752 -1.279554 -0.380735  0.479607   \n",
       "3 -1.121081  1.096962  1.286565  1.228752 -0.448387 -1.302519 -0.349970   \n",
       "4 -0.002273 -0.911609 -0.079317 -0.813834  1.213949  1.554346  0.479607   \n",
       "\n",
       "         HB  ANEMIA  \n",
       "0  1.389024     0.0  \n",
       "1 -0.218353     0.0  \n",
       "2  0.360302     0.0  \n",
       "3  1.710499     0.0  \n",
       "4  0.231712     0.0  "
      ]
     },
     "execution_count": 8,
     "metadata": {},
     "output_type": "execute_result"
    }
   ],
   "source": [
    "from sklearn import preprocessing\n",
    "from scipy.stats import zscore\n",
    "anemia_ndf = anemia_df.drop(columns=[\"ANEMIA\"]).apply(zscore)\n",
    "anemia_ndf['ANEMIA'] = anemia_df['ANEMIA']\n",
    "anemia_ndf.head()"
   ]
  },
  {
   "cell_type": "code",
   "execution_count": 9,
   "metadata": {},
   "outputs": [],
   "source": [
    "nx_values = anemia_ndf.drop(columns=['ANEMIA']) \n",
    "ny_values = anemia_ndf['ANEMIA']\n",
    "nx_train, nx_test, ny_train, ny_test = train_test_split(nx_values, ny_values, test_size=0.3, random_state=seed)"
   ]
  },
  {
   "cell_type": "code",
   "execution_count": 10,
   "metadata": {},
   "outputs": [
    {
     "name": "stdout",
     "output_type": "stream",
     "text": [
      "              precision    recall  f1-score   support\n",
      "\n",
      "           0       0.93      0.91      0.92       490\n",
      "           1       0.92      0.94      0.93       544\n",
      "\n",
      "   micro avg       0.93      0.93      0.93      1034\n",
      "   macro avg       0.93      0.92      0.93      1034\n",
      "weighted avg       0.93      0.93      0.93      1034\n",
      "\n",
      "Accuracy: 0.925531914893617\n"
     ]
    },
    {
     "data": {
      "image/png": "[encoded data removed]",
      "text/plain": [
       "<Figure size 432x288 with 2 Axes>"
      ]
     },
     "metadata": {
      "needs_background": "light"
     },
     "output_type": "display_data"
    }
   ],
   "source": [
    "lr_model = RandomForestClassifier(n_estimators=100, max_depth=5, random_state=0)\n",
    "lr_model.fit(nx_train, ny_train)\n",
    "ny_pred = lr_model.predict(nx_test)\n",
    "print_metrics(ny_test, ny_pred)"
   ]
  },
  {
   "cell_type": "code",
   "execution_count": 11,
   "metadata": {},
   "outputs": [
    {
     "data": {
      "image/png": "[encoded data removed]",
      "text/plain": [
       "<Figure size 432x288 with 1 Axes>"
      ]
     },
     "metadata": {
      "needs_background": "light"
     },
     "output_type": "display_data"
    }
   ],
   "source": [
    "plot_roc(ny_test, ny_pred, 'Random Forest - Normalized')"
   ]
  },
  {
   "cell_type": "code",
   "execution_count": null,
   "metadata": {},
   "outputs": [],
   "source": []
  }
 ],
 "metadata": {
  "kernelspec": {
   "display_name": "Python [conda env:pyml]",
   "language": "python",
   "name": "conda-env-pyml-py"
  },
  "language_info": {
   "codemirror_mode": {
    "name": "ipython",
    "version": 3
   },
   "file_extension": ".py",
   "mimetype": "text/x-python",
   "name": "python",
   "nbconvert_exporter": "python",
   "pygments_lexer": "ipython3",
   "version": "3.5.6"
  }
 },
 "nbformat": 4,
 "nbformat_minor": 2
}
