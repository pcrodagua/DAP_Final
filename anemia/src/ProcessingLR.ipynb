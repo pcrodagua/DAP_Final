{
 "cells": [
  {
   "cell_type": "code",
   "execution_count": 1,
   "metadata": {},
   "outputs": [],
   "source": [
    "from sklearn.model_selection import train_test_split\n",
    "from sklearn.metrics import mean_squared_error\n",
    "from sklearn import linear_model\n",
    "from sklearn import datasets\n",
    "from math import sqrt\n",
    "\n",
    "import matplotlib.pyplot as plt\n",
    "import statsmodels.api as sm\n",
    "import scipy.optimize as opt\n",
    "from scipy import stats\n",
    "import seaborn as sns\n",
    "import pandas as pd\n",
    "import numpy as np\n",
    "\n",
    "sns.set_style(\"ticks\")\n",
    "%matplotlib inline"
   ]
  },
  {
   "cell_type": "code",
   "execution_count": 2,
   "metadata": {},
   "outputs": [],
   "source": [
    "from sklearn.linear_model import LogisticRegression\n",
    "from sklearn.model_selection import cross_val_score\n",
    "from sklearn.metrics import accuracy_score, classification_report, confusion_matrix, roc_curve, roc_auc_score"
   ]
  },
  {
   "cell_type": "markdown",
   "metadata": {},
   "source": [
    "## Data Split"
   ]
  },
  {
   "cell_type": "code",
   "execution_count": 3,
   "metadata": {},
   "outputs": [
    {
     "data": {
      "text/plain": [
       "(31320, 16)"
      ]
     },
     "execution_count": 3,
     "metadata": {},
     "output_type": "execute_result"
    }
   ],
   "source": [
    "anemia_df = pd.read_csv('../data/clean/test_full.csv', index_col=False)\n",
    "x_values = anemia_df.drop(columns=[\"ANEMIA\"])\n",
    "x_values = anemia_df#[['INTP', 'SEXO', 'EST_URB', 'EST_MARG', 'HB', 'ALTITUD']]\n",
    "y_values = anemia_df[\"ANEMIA\"]\n",
    "anemia_df.shape"
   ]
  },
  {
   "cell_type": "code",
   "execution_count": 4,
   "metadata": {},
   "outputs": [],
   "source": [
    "# Data Split\n",
    "from sklearn.model_selection import train_test_split\n",
    "seed = 1234\n",
    "x_train, x_test, y_train, y_test = train_test_split(x_values, y_values, test_size=0.3, random_state=seed)"
   ]
  },
  {
   "cell_type": "markdown",
   "metadata": {},
   "source": [
    "## Metrics Used"
   ]
  },
  {
   "cell_type": "code",
   "execution_count": 5,
   "metadata": {},
   "outputs": [],
   "source": [
    "def print_metrics(y_test, y_pred):\n",
    "    cm = confusion_matrix(y_test, y_pred=y_pred)\n",
    "    sns.heatmap(cm, annot=True)\n",
    "    target_names = ['0', '1']\n",
    "    print(classification_report(y_test, y_pred, target_names=target_names))\n",
    "    print('Accuracy: {0}'.format(accuracy_score(y_test, y_pred)))\n",
    "    \n",
    "def plot_roc(y_test, y_pred, model):\n",
    "    # calculate roc curve\n",
    "    fpr, tpr, thresholds = roc_curve(y_test, y_pred)\n",
    "    auc = roc_auc_score(y_test, y_pred)\n",
    "\n",
    "    plt.plot([0, 1], [0, 1], color='red', linestyle='--')\n",
    "    plt.plot(fpr, tpr, marker='.', label = 'AUC: %0.2f' % auc, color= 'green')\n",
    "    plt.title('{0} (ROC + AUC)'.format(model))\n",
    "    plt.xlabel('False Positive Rate (x)')\n",
    "    plt.ylabel('True Positive Rate (y)')\n",
    "    plt.legend(loc=\"lower right\")\n",
    "    plt.grid()\n",
    "    plt.show()"
   ]
  },
  {
   "cell_type": "markdown",
   "metadata": {},
   "source": [
    "## Logistic Regression (No Normalized)"
   ]
  },
  {
   "cell_type": "code",
   "execution_count": 6,
   "metadata": {},
   "outputs": [
    {
     "name": "stderr",
     "output_type": "stream",
     "text": [
      "/home/ospcx/anaconda3/envs/pyml/lib/python3.5/site-packages/sklearn/linear_model/logistic.py:432: FutureWarning: Default solver will be changed to 'lbfgs' in 0.22. Specify a solver to silence this warning.\n",
      "  FutureWarning)\n"
     ]
    },
    {
     "name": "stdout",
     "output_type": "stream",
     "text": [
      "              precision    recall  f1-score   support\n",
      "\n",
      "           0       1.00      1.00      1.00      8612\n",
      "           1       1.00      1.00      1.00       784\n",
      "\n",
      "   micro avg       1.00      1.00      1.00      9396\n",
      "   macro avg       1.00      1.00      1.00      9396\n",
      "weighted avg       1.00      1.00      1.00      9396\n",
      "\n",
      "Accuracy: 1.0\n"
     ]
    },
    {
     "data": {
      "image/png": "[encoded data removed]",
      "text/plain": [
       "<Figure size 432x288 with 2 Axes>"
      ]
     },
     "metadata": {
      "needs_background": "light"
     },
     "output_type": "display_data"
    }
   ],
   "source": [
    "lr_model = LogisticRegression()\n",
    "lr_model.fit(x_train, y_train)\n",
    "y_pred = lr_model.predict(x_test)\n",
    "print_metrics(y_test, y_pred)"
   ]
  },
  {
   "cell_type": "code",
   "execution_count": 7,
   "metadata": {},
   "outputs": [
    {
     "data": {
      "image/png": "[encoded data removed]",
      "text/plain": [
       "<Figure size 432x288 with 1 Axes>"
      ]
     },
     "metadata": {
      "needs_background": "light"
     },
     "output_type": "display_data"
    }
   ],
   "source": [
    "plot_roc(y_test, y_pred, 'Logistic Regression')"
   ]
  },
  {
   "cell_type": "markdown",
   "metadata": {},
   "source": [
    "## Logistic Regression (Normalized Z-Score)"
   ]
  },
  {
   "cell_type": "code",
   "execution_count": 8,
   "metadata": {},
   "outputs": [
    {
     "data": {
      "text/html": [
       "<div>\n",
       "<style scoped>\n",
       "    .dataframe tbody tr th:only-of-type {\n",
       "        vertical-align: middle;\n",
       "    }\n",
       "\n",
       "    .dataframe tbody tr th {\n",
       "        vertical-align: top;\n",
       "    }\n",
       "\n",
       "    .dataframe thead th {\n",
       "        text-align: right;\n",
       "    }\n",
       "</style>\n",
       "<table border=\"1\" class=\"dataframe\">\n",
       "  <thead>\n",
       "    <tr style=\"text-align: right;\">\n",
       "      <th></th>\n",
       "      <th>AFILIACI</th>\n",
       "      <th>ALTITUD</th>\n",
       "      <th>AREA</th>\n",
       "      <th>EDADDIAS</th>\n",
       "      <th>ENTIDAD</th>\n",
       "      <th>EST_MARG</th>\n",
       "      <th>EST_URB</th>\n",
       "      <th>HB</th>\n",
       "      <th>INDICEF</th>\n",
       "      <th>INTP</th>\n",
       "      <th>LOCALI</th>\n",
       "      <th>MUNICI</th>\n",
       "      <th>PONDEF</th>\n",
       "      <th>REGION</th>\n",
       "      <th>SEXO</th>\n",
       "      <th>ANEMIA</th>\n",
       "    </tr>\n",
       "  </thead>\n",
       "  <tbody>\n",
       "    <tr>\n",
       "      <th>0</th>\n",
       "      <td>-0.678155</td>\n",
       "      <td>0.048903</td>\n",
       "      <td>-0.760206</td>\n",
       "      <td>-1.534980</td>\n",
       "      <td>-1.251736</td>\n",
       "      <td>-0.854179</td>\n",
       "      <td>-0.064309</td>\n",
       "      <td>-0.511216</td>\n",
       "      <td>1.596926</td>\n",
       "      <td>0.759778</td>\n",
       "      <td>-0.292405</td>\n",
       "      <td>-0.493619</td>\n",
       "      <td>-0.414059</td>\n",
       "      <td>-1.223332</td>\n",
       "      <td>-1.208441</td>\n",
       "      <td>0.0</td>\n",
       "    </tr>\n",
       "    <tr>\n",
       "      <th>1</th>\n",
       "      <td>0.682534</td>\n",
       "      <td>0.085109</td>\n",
       "      <td>1.315433</td>\n",
       "      <td>-0.723271</td>\n",
       "      <td>-0.710519</td>\n",
       "      <td>-0.854179</td>\n",
       "      <td>-1.192058</td>\n",
       "      <td>-0.977704</td>\n",
       "      <td>-0.640512</td>\n",
       "      <td>0.029451</td>\n",
       "      <td>-0.184574</td>\n",
       "      <td>-0.443785</td>\n",
       "      <td>-0.537063</td>\n",
       "      <td>-1.223332</td>\n",
       "      <td>-1.208441</td>\n",
       "      <td>0.0</td>\n",
       "    </tr>\n",
       "    <tr>\n",
       "      <th>2</th>\n",
       "      <td>0.682534</td>\n",
       "      <td>-1.160154</td>\n",
       "      <td>1.315433</td>\n",
       "      <td>-1.506635</td>\n",
       "      <td>1.454351</td>\n",
       "      <td>-0.854179</td>\n",
       "      <td>-1.192058</td>\n",
       "      <td>0.246828</td>\n",
       "      <td>-0.083175</td>\n",
       "      <td>0.759778</td>\n",
       "      <td>-0.175198</td>\n",
       "      <td>0.104393</td>\n",
       "      <td>1.171396</td>\n",
       "      <td>1.288452</td>\n",
       "      <td>-1.208441</td>\n",
       "      <td>0.0</td>\n",
       "    </tr>\n",
       "    <tr>\n",
       "      <th>3</th>\n",
       "      <td>0.682534</td>\n",
       "      <td>1.049501</td>\n",
       "      <td>1.315433</td>\n",
       "      <td>-0.303244</td>\n",
       "      <td>-0.602275</td>\n",
       "      <td>1.170714</td>\n",
       "      <td>-1.192058</td>\n",
       "      <td>-0.161349</td>\n",
       "      <td>0.822351</td>\n",
       "      <td>-1.431204</td>\n",
       "      <td>0.438966</td>\n",
       "      <td>-0.161390</td>\n",
       "      <td>-0.499713</td>\n",
       "      <td>-0.386070</td>\n",
       "      <td>-1.208441</td>\n",
       "      <td>0.0</td>\n",
       "    </tr>\n",
       "    <tr>\n",
       "      <th>4</th>\n",
       "      <td>0.682534</td>\n",
       "      <td>-1.160154</td>\n",
       "      <td>-0.760206</td>\n",
       "      <td>-0.927487</td>\n",
       "      <td>-1.576467</td>\n",
       "      <td>-0.854179</td>\n",
       "      <td>1.063440</td>\n",
       "      <td>-2.785345</td>\n",
       "      <td>-1.030699</td>\n",
       "      <td>-0.700876</td>\n",
       "      <td>-0.292405</td>\n",
       "      <td>-0.609900</td>\n",
       "      <td>0.045832</td>\n",
       "      <td>-1.223332</td>\n",
       "      <td>-1.208441</td>\n",
       "      <td>1.0</td>\n",
       "    </tr>\n",
       "  </tbody>\n",
       "</table>\n",
       "</div>"
      ],
      "text/plain": [
       "   AFILIACI   ALTITUD      AREA  EDADDIAS   ENTIDAD  EST_MARG   EST_URB  \\\n",
       "0 -0.678155  0.048903 -0.760206 -1.534980 -1.251736 -0.854179 -0.064309   \n",
       "1  0.682534  0.085109  1.315433 -0.723271 -0.710519 -0.854179 -1.192058   \n",
       "2  0.682534 -1.160154  1.315433 -1.506635  1.454351 -0.854179 -1.192058   \n",
       "3  0.682534  1.049501  1.315433 -0.303244 -0.602275  1.170714 -1.192058   \n",
       "4  0.682534 -1.160154 -0.760206 -0.927487 -1.576467 -0.854179  1.063440   \n",
       "\n",
       "         HB   INDICEF      INTP    LOCALI    MUNICI    PONDEF    REGION  \\\n",
       "0 -0.511216  1.596926  0.759778 -0.292405 -0.493619 -0.414059 -1.223332   \n",
       "1 -0.977704 -0.640512  0.029451 -0.184574 -0.443785 -0.537063 -1.223332   \n",
       "2  0.246828 -0.083175  0.759778 -0.175198  0.104393  1.171396  1.288452   \n",
       "3 -0.161349  0.822351 -1.431204  0.438966 -0.161390 -0.499713 -0.386070   \n",
       "4 -2.785345 -1.030699 -0.700876 -0.292405 -0.609900  0.045832 -1.223332   \n",
       "\n",
       "       SEXO  ANEMIA  \n",
       "0 -1.208441     0.0  \n",
       "1 -1.208441     0.0  \n",
       "2 -1.208441     0.0  \n",
       "3 -1.208441     0.0  \n",
       "4 -1.208441     1.0  "
      ]
     },
     "execution_count": 8,
     "metadata": {},
     "output_type": "execute_result"
    }
   ],
   "source": [
    "from sklearn import preprocessing\n",
    "from scipy.stats import zscore\n",
    "anemia_ndf = anemia_df.drop(columns=[\"ANEMIA\"]).apply(zscore)\n",
    "anemia_ndf['ANEMIA'] = anemia_df['ANEMIA']\n",
    "anemia_ndf.head()"
   ]
  },
  {
   "cell_type": "code",
   "execution_count": 9,
   "metadata": {},
   "outputs": [],
   "source": [
    "nx_values = anemia_ndf.drop(columns=['ANEMIA']) \n",
    "ny_values = anemia_ndf['ANEMIA']\n",
    "nx_train, nx_test, ny_train, ny_test = train_test_split(nx_values, ny_values, test_size=0.3, random_state=seed)"
   ]
  },
  {
   "cell_type": "code",
   "execution_count": 10,
   "metadata": {},
   "outputs": [
    {
     "name": "stderr",
     "output_type": "stream",
     "text": [
      "/home/ospcx/anaconda3/envs/pyml/lib/python3.5/site-packages/sklearn/linear_model/logistic.py:432: FutureWarning: Default solver will be changed to 'lbfgs' in 0.22. Specify a solver to silence this warning.\n",
      "  FutureWarning)\n"
     ]
    },
    {
     "name": "stdout",
     "output_type": "stream",
     "text": [
      "              precision    recall  f1-score   support\n",
      "\n",
      "           0       0.99      0.99      0.99      8612\n",
      "           1       0.92      0.88      0.90       784\n",
      "\n",
      "   micro avg       0.98      0.98      0.98      9396\n",
      "   macro avg       0.95      0.93      0.94      9396\n",
      "weighted avg       0.98      0.98      0.98      9396\n",
      "\n",
      "Accuracy: 0.9831843337590465\n"
     ]
    },
    {
     "data": {
      "image/png": "[encoded data removed]",
      "text/plain": [
       "<Figure size 432x288 with 2 Axes>"
      ]
     },
     "metadata": {
      "needs_background": "light"
     },
     "output_type": "display_data"
    }
   ],
   "source": [
    "lr_model = LogisticRegression()\n",
    "lr_model.fit(nx_train, ny_train)\n",
    "ny_pred = lr_model.predict(nx_test)\n",
    "print_metrics(ny_test, ny_pred)"
   ]
  },
  {
   "cell_type": "code",
   "execution_count": 11,
   "metadata": {},
   "outputs": [
    {
     "data": {
      "image/png": "[encoded data removed]",
      "text/plain": [
       "<Figure size 432x288 with 1 Axes>"
      ]
     },
     "metadata": {
      "needs_background": "light"
     },
     "output_type": "display_data"
    }
   ],
   "source": [
    "plot_roc(ny_test, ny_pred, 'Logistic Regression(Normalized)')"
   ]
  },
  {
   "cell_type": "code",
   "execution_count": 12,
   "metadata": {},
   "outputs": [],
   "source": [
    "import numpy as np\n",
    "import matplotlib.pyplot as plt\n",
    "from sklearn.naive_bayes import GaussianNB\n",
    "from sklearn.svm import SVC\n",
    "from sklearn.datasets import load_digits\n",
    "from sklearn.model_selection import learning_curve\n",
    "from sklearn.model_selection import ShuffleSplit\n",
    "\n",
    "\n",
    "def plot_learning_curve(estimator, title, X, y, ylim=None, cv=None,\n",
    "                        n_jobs=None, train_sizes=np.linspace(.1, 1.0, 5)):\n",
    "    \"\"\"\n",
    "    Generate a simple plot of the test and training learning curve.\n",
    "\n",
    "    Parameters\n",
    "    ----------\n",
    "    estimator : object type that implements the \"fit\" and \"predict\" methods\n",
    "        An object of that type which is cloned for each validation.\n",
    "\n",
    "    title : string\n",
    "        Title for the chart.\n",
    "\n",
    "    X : array-like, shape (n_samples, n_features)\n",
    "        Training vector, where n_samples is the number of samples and\n",
    "        n_features is the number of features.\n",
    "\n",
    "    y : array-like, shape (n_samples) or (n_samples, n_features), optional\n",
    "        Target relative to X for classification or regression;\n",
    "        None for unsupervised learning.\n",
    "\n",
    "    ylim : tuple, shape (ymin, ymax), optional\n",
    "        Defines minimum and maximum yvalues plotted.\n",
    "\n",
    "    cv : int, cross-validation generator or an iterable, optional\n",
    "        Determines the cross-validation splitting strategy.\n",
    "        Possible inputs for cv are:\n",
    "          - None, to use the default 3-fold cross-validation,\n",
    "          - integer, to specify the number of folds.\n",
    "          - :term:`CV splitter`,\n",
    "          - An iterable yielding (train, test) splits as arrays of indices.\n",
    "\n",
    "        For integer/None inputs, if ``y`` is binary or multiclass,\n",
    "        :class:`StratifiedKFold` used. If the estimator is not a classifier\n",
    "        or if ``y`` is neither binary nor multiclass, :class:`KFold` is used.\n",
    "\n",
    "        Refer :ref:`User Guide <cross_validation>` for the various\n",
    "        cross-validators that can be used here.\n",
    "\n",
    "    n_jobs : int or None, optional (default=None)\n",
    "        Number of jobs to run in parallel.\n",
    "        ``None`` means 1 unless in a :obj:`joblib.parallel_backend` context.\n",
    "        ``-1`` means using all processors. See :term:`Glossary <n_jobs>`\n",
    "        for more details.\n",
    "\n",
    "    train_sizes : array-like, shape (n_ticks,), dtype float or int\n",
    "        Relative or absolute numbers of training examples that will be used to\n",
    "        generate the learning curve. If the dtype is float, it is regarded as a\n",
    "        fraction of the maximum size of the training set (that is determined\n",
    "        by the selected validation method), i.e. it has to be within (0, 1].\n",
    "        Otherwise it is interpreted as absolute sizes of the training sets.\n",
    "        Note that for classification the number of samples usually have to\n",
    "        be big enough to contain at least one sample from each class.\n",
    "        (default: np.linspace(0.1, 1.0, 5))\n",
    "    \"\"\"\n",
    "    plt.figure()\n",
    "    plt.title(title)\n",
    "    if ylim is not None:\n",
    "        plt.ylim(*ylim)\n",
    "    plt.xlabel(\"Training examples\")\n",
    "    plt.ylabel(\"Score\")\n",
    "    train_sizes, train_scores, test_scores = learning_curve(\n",
    "        estimator, X, y, cv=cv, n_jobs=n_jobs, train_sizes=train_sizes)\n",
    "    train_scores_mean = np.mean(train_scores, axis=1)\n",
    "    train_scores_std = np.std(train_scores, axis=1)\n",
    "    test_scores_mean = np.mean(test_scores, axis=1)\n",
    "    test_scores_std = np.std(test_scores, axis=1)\n",
    "    plt.grid()\n",
    "\n",
    "    plt.fill_between(train_sizes, train_scores_mean - train_scores_std,\n",
    "                     train_scores_mean + train_scores_std, alpha=0.1,\n",
    "                     color=\"r\")\n",
    "    plt.fill_between(train_sizes, test_scores_mean - test_scores_std,\n",
    "                     test_scores_mean + test_scores_std, alpha=0.1, color=\"g\")\n",
    "    plt.plot(train_sizes, train_scores_mean, 'o-', color=\"r\",\n",
    "             label=\"Training score\")\n",
    "    plt.plot(train_sizes, test_scores_mean, 'o-', color=\"g\",\n",
    "             label=\"Cross-validation score\")\n",
    "\n",
    "    plt.legend(loc=\"best\")\n",
    "    return plt"
   ]
  },
  {
   "cell_type": "code",
   "execution_count": null,
   "metadata": {},
   "outputs": [],
   "source": [
    "from sklearn.linear_model import LogisticRegression\n",
    "from sklearn.ensemble import RandomForestClassifier\n",
    "from sklearn.svm import SVC\n",
    "\n",
    "title = \"Learning Curves (Logistic Regression)\"\n",
    "# Cross validation with 100 iterations to get smoother mean test and train\n",
    "# score curves, each time with 30% data randomly selected as a validation set.\n",
    "cv = ShuffleSplit(n_splits=100, test_size=0.3, random_state=0)\n",
    "\n",
    "estimator = LogisticRegression()\n",
    "plot_learning_curve(estimator, title, x_values, y_values, ylim=(0.7, 1.01), cv=cv, n_jobs=4)\n",
    "\n",
    "title = r\"Learning Curves (RF)\"\n",
    "cv = ShuffleSplit(n_splits=10, test_size=0.3, random_state=0)\n",
    "\n",
    "\n",
    "estimator = RandomForestClassifier(n_estimators=100, max_depth=5, random_state=0)\n",
    "plot_learning_curve(estimator, title, x_values, y_values, (0.7, 1.01), cv=cv, n_jobs=4)\n",
    "\n",
    "title = r\"Learning Curves (SVM)\"\n",
    "cv = ShuffleSplit(n_splits=10, test_size=0.3, random_state=0)\n",
    "\n",
    "\n",
    "estimator = SVC()\n",
    "plot_learning_curve(estimator, title, x_values, y_values, (0.7, 1.01), cv=cv, n_jobs=4)\n",
    "\n",
    "plt.show()"
   ]
  },
  {
   "cell_type": "code",
   "execution_count": null,
   "metadata": {},
   "outputs": [],
   "source": []
  }
 ],
 "metadata": {
  "kernelspec": {
   "display_name": "Python [conda env:pyml]",
   "language": "python",
   "name": "conda-env-pyml-py"
  },
  "language_info": {
   "codemirror_mode": {
    "name": "ipython",
    "version": 3
   },
   "file_extension": ".py",
   "mimetype": "text/x-python",
   "name": "python",
   "nbconvert_exporter": "python",
   "pygments_lexer": "ipython3",
   "version": "3.5.6"
  }
 },
 "nbformat": 4,
 "nbformat_minor": 2
}
