{
 "cells": [
  {
   "cell_type": "code",
   "execution_count": 1,
   "metadata": {},
   "outputs": [],
   "source": [
    "from sklearn.model_selection import train_test_split\n",
    "from sklearn.metrics import mean_squared_error\n",
    "from sklearn import linear_model\n",
    "from sklearn import datasets\n",
    "from math import sqrt\n",
    "\n",
    "import matplotlib.pyplot as plt\n",
    "import statsmodels.api as sm\n",
    "import scipy.optimize as opt\n",
    "from scipy import stats\n",
    "import seaborn as sns\n",
    "import pandas as pd\n",
    "import numpy as np\n",
    "\n",
    "sns.set_style(\"ticks\")\n",
    "%matplotlib inline"
   ]
  },
  {
   "cell_type": "code",
   "execution_count": 2,
   "metadata": {},
   "outputs": [],
   "source": [
    "from sklearn.ensemble import RandomForestClassifier\n",
    "from sklearn.model_selection import cross_val_score\n",
    "from sklearn.metrics import accuracy_score, classification_report, confusion_matrix, roc_curve, roc_auc_score"
   ]
  },
  {
   "cell_type": "markdown",
   "metadata": {},
   "source": [
    "## Data Split"
   ]
  },
  {
   "cell_type": "code",
   "execution_count": 3,
   "metadata": {},
   "outputs": [
    {
     "name": "stdout",
     "output_type": "stream",
     "text": [
      "(200, 16)\n"
     ]
    }
   ],
   "source": [
    "anemia_df = pd.read_csv('../data/clean/anemia_bootstraped.csv', index_col=False)\n",
    "x_values = anemia_df.drop(columns=[\"ANEMIA\"])\n",
    "x_values = anemia_df[['INTP', 'SEXO', 'EST_URB', 'EST_MARG', 'HB']]\n",
    "y_values = anemia_df[\"ANEMIA\"]\n",
    "print(anemia_df.shape)"
   ]
  },
  {
   "cell_type": "code",
   "execution_count": 4,
   "metadata": {},
   "outputs": [],
   "source": [
    "# Data Split\n",
    "from sklearn.model_selection import train_test_split\n",
    "seed = 1234\n",
    "x_train, x_test, y_train, y_test = train_test_split(x_values, y_values, test_size=0.3, random_state=seed)"
   ]
  },
  {
   "cell_type": "markdown",
   "metadata": {},
   "source": [
    "## Metrics Used"
   ]
  },
  {
   "cell_type": "code",
   "execution_count": 5,
   "metadata": {},
   "outputs": [],
   "source": [
    "def print_metrics(y_test, y_pred):\n",
    "    cm = confusion_matrix(y_test, y_pred=y_pred)\n",
    "    sns.heatmap(cm, annot=True)\n",
    "    target_names = ['0', '1']\n",
    "    print(classification_report(y_test, y_pred, target_names=target_names))\n",
    "    print('Accuracy: {0}'.format(accuracy_score(y_test, y_pred)))\n",
    "    \n",
    "def plot_roc(y_test, y_pred, model):\n",
    "    # calculate roc curve\n",
    "    fpr, tpr, thresholds = roc_curve(y_test, y_pred)\n",
    "    auc = roc_auc_score(y_test, y_pred)\n",
    "\n",
    "    plt.plot([0, 1], [0, 1], color='red', linestyle='--')\n",
    "    plt.plot(fpr, tpr, marker='.', label = 'AUC: %0.2f' % auc, color= 'green')\n",
    "    plt.title('{0} (ROC + AUC)'.format(model))\n",
    "    plt.xlabel('False Positive Rate (x)')\n",
    "    plt.ylabel('True Positive Rate (y)')\n",
    "    plt.legend(loc=\"lower right\")\n",
    "    plt.grid()\n",
    "    plt.show()"
   ]
  },
  {
   "cell_type": "markdown",
   "metadata": {},
   "source": [
    "## Random Forest (No Normalized)"
   ]
  },
  {
   "cell_type": "code",
   "execution_count": 6,
   "metadata": {},
   "outputs": [
    {
     "name": "stdout",
     "output_type": "stream",
     "text": [
      "              precision    recall  f1-score   support\n",
      "\n",
      "           0       0.96      0.82      0.88        28\n",
      "           1       0.86      0.97      0.91        32\n",
      "\n",
      "   micro avg       0.90      0.90      0.90        60\n",
      "   macro avg       0.91      0.90      0.90        60\n",
      "weighted avg       0.91      0.90      0.90        60\n",
      "\n",
      "Accuracy: 0.9\n"
     ]
    },
    {
     "data": {
      "image/png": "[encoded data removed]",
      "text/plain": [
       "<Figure size 432x288 with 2 Axes>"
      ]
     },
     "metadata": {
      "needs_background": "light"
     },
     "output_type": "display_data"
    }
   ],
   "source": [
    "lr_model = RandomForestClassifier(n_estimators=100, max_depth=5, random_state=0)\n",
    "lr_model.fit(x_train, y_train)\n",
    "y_pred = lr_model.predict(x_test)\n",
    "print_metrics(y_test, y_pred)"
   ]
  },
  {
   "cell_type": "code",
   "execution_count": 7,
   "metadata": {},
   "outputs": [
    {
     "data": {
      "image/png": "[encoded data removed]",
      "text/plain": [
       "<Figure size 432x288 with 1 Axes>"
      ]
     },
     "metadata": {
      "needs_background": "light"
     },
     "output_type": "display_data"
    }
   ],
   "source": [
    "plot_roc(y_test, y_pred, 'Random Forest')"
   ]
  },
  {
   "cell_type": "markdown",
   "metadata": {},
   "source": [
    "## Random Forest (Normalized Z-Score)"
   ]
  },
  {
   "cell_type": "code",
   "execution_count": 8,
   "metadata": {},
   "outputs": [
    {
     "data": {
      "text/html": [
       "<div>\n",
       "<style scoped>\n",
       "    .dataframe tbody tr th:only-of-type {\n",
       "        vertical-align: middle;\n",
       "    }\n",
       "\n",
       "    .dataframe tbody tr th {\n",
       "        vertical-align: top;\n",
       "    }\n",
       "\n",
       "    .dataframe thead th {\n",
       "        text-align: right;\n",
       "    }\n",
       "</style>\n",
       "<table border=\"1\" class=\"dataframe\">\n",
       "  <thead>\n",
       "    <tr style=\"text-align: right;\">\n",
       "      <th></th>\n",
       "      <th>INTP</th>\n",
       "      <th>ENTIDAD</th>\n",
       "      <th>MUNICI</th>\n",
       "      <th>LOCALI</th>\n",
       "      <th>ALTITUD</th>\n",
       "      <th>SEXO</th>\n",
       "      <th>EDADDIAS</th>\n",
       "      <th>EST_URB</th>\n",
       "      <th>EST_MARG</th>\n",
       "      <th>PONDEF</th>\n",
       "      <th>AREA</th>\n",
       "      <th>REGION</th>\n",
       "      <th>INDICEF</th>\n",
       "      <th>AFILIACI</th>\n",
       "      <th>HB</th>\n",
       "      <th>ANEMIA</th>\n",
       "    </tr>\n",
       "  </thead>\n",
       "  <tbody>\n",
       "    <tr>\n",
       "      <th>0</th>\n",
       "      <td>-0.505004</td>\n",
       "      <td>1.523400</td>\n",
       "      <td>-0.257791</td>\n",
       "      <td>-0.200305</td>\n",
       "      <td>1.053404</td>\n",
       "      <td>-0.990050</td>\n",
       "      <td>-1.332723</td>\n",
       "      <td>-1.170328</td>\n",
       "      <td>1.105542</td>\n",
       "      <td>-0.419917</td>\n",
       "      <td>1.304877</td>\n",
       "      <td>1.217192</td>\n",
       "      <td>0.177599</td>\n",
       "      <td>-1.062059</td>\n",
       "      <td>0.144413</td>\n",
       "      <td>0.0</td>\n",
       "    </tr>\n",
       "    <tr>\n",
       "      <th>1</th>\n",
       "      <td>-0.972600</td>\n",
       "      <td>0.102428</td>\n",
       "      <td>-0.577631</td>\n",
       "      <td>-0.261356</td>\n",
       "      <td>-0.254913</td>\n",
       "      <td>-0.990050</td>\n",
       "      <td>0.146256</td>\n",
       "      <td>-0.022948</td>\n",
       "      <td>1.105542</td>\n",
       "      <td>-0.656073</td>\n",
       "      <td>-0.766356</td>\n",
       "      <td>-0.509321</td>\n",
       "      <td>-0.234795</td>\n",
       "      <td>0.848119</td>\n",
       "      <td>0.686810</td>\n",
       "      <td>0.0</td>\n",
       "    </tr>\n",
       "    <tr>\n",
       "      <th>2</th>\n",
       "      <td>2.768169</td>\n",
       "      <td>-1.081715</td>\n",
       "      <td>-0.257791</td>\n",
       "      <td>-0.072100</td>\n",
       "      <td>1.188631</td>\n",
       "      <td>-0.990050</td>\n",
       "      <td>1.155080</td>\n",
       "      <td>-1.170328</td>\n",
       "      <td>1.105542</td>\n",
       "      <td>-0.128654</td>\n",
       "      <td>1.304877</td>\n",
       "      <td>1.217192</td>\n",
       "      <td>0.133070</td>\n",
       "      <td>0.848119</td>\n",
       "      <td>1.093608</td>\n",
       "      <td>0.0</td>\n",
       "    </tr>\n",
       "    <tr>\n",
       "      <th>3</th>\n",
       "      <td>-0.505004</td>\n",
       "      <td>1.404986</td>\n",
       "      <td>-0.321759</td>\n",
       "      <td>0.019475</td>\n",
       "      <td>-0.929920</td>\n",
       "      <td>1.010051</td>\n",
       "      <td>0.793605</td>\n",
       "      <td>-1.170328</td>\n",
       "      <td>1.105542</td>\n",
       "      <td>-0.611524</td>\n",
       "      <td>1.304877</td>\n",
       "      <td>-1.372578</td>\n",
       "      <td>-1.235858</td>\n",
       "      <td>0.848119</td>\n",
       "      <td>0.144413</td>\n",
       "      <td>0.0</td>\n",
       "    </tr>\n",
       "    <tr>\n",
       "      <th>4</th>\n",
       "      <td>-0.505004</td>\n",
       "      <td>0.102428</td>\n",
       "      <td>-0.513663</td>\n",
       "      <td>-0.267461</td>\n",
       "      <td>0.276978</td>\n",
       "      <td>1.010051</td>\n",
       "      <td>1.703201</td>\n",
       "      <td>1.124433</td>\n",
       "      <td>-0.904534</td>\n",
       "      <td>0.215062</td>\n",
       "      <td>-0.766356</td>\n",
       "      <td>-0.509321</td>\n",
       "      <td>-0.189841</td>\n",
       "      <td>-1.444095</td>\n",
       "      <td>-0.262385</td>\n",
       "      <td>1.0</td>\n",
       "    </tr>\n",
       "  </tbody>\n",
       "</table>\n",
       "</div>"
      ],
      "text/plain": [
       "       INTP   ENTIDAD    MUNICI    LOCALI   ALTITUD      SEXO  EDADDIAS  \\\n",
       "0 -0.505004  1.523400 -0.257791 -0.200305  1.053404 -0.990050 -1.332723   \n",
       "1 -0.972600  0.102428 -0.577631 -0.261356 -0.254913 -0.990050  0.146256   \n",
       "2  2.768169 -1.081715 -0.257791 -0.072100  1.188631 -0.990050  1.155080   \n",
       "3 -0.505004  1.404986 -0.321759  0.019475 -0.929920  1.010051  0.793605   \n",
       "4 -0.505004  0.102428 -0.513663 -0.267461  0.276978  1.010051  1.703201   \n",
       "\n",
       "    EST_URB  EST_MARG    PONDEF      AREA    REGION   INDICEF  AFILIACI  \\\n",
       "0 -1.170328  1.105542 -0.419917  1.304877  1.217192  0.177599 -1.062059   \n",
       "1 -0.022948  1.105542 -0.656073 -0.766356 -0.509321 -0.234795  0.848119   \n",
       "2 -1.170328  1.105542 -0.128654  1.304877  1.217192  0.133070  0.848119   \n",
       "3 -1.170328  1.105542 -0.611524  1.304877 -1.372578 -1.235858  0.848119   \n",
       "4  1.124433 -0.904534  0.215062 -0.766356 -0.509321 -0.189841 -1.444095   \n",
       "\n",
       "         HB  ANEMIA  \n",
       "0  0.144413     0.0  \n",
       "1  0.686810     0.0  \n",
       "2  1.093608     0.0  \n",
       "3  0.144413     0.0  \n",
       "4 -0.262385     1.0  "
      ]
     },
     "execution_count": 8,
     "metadata": {},
     "output_type": "execute_result"
    }
   ],
   "source": [
    "from sklearn import preprocessing\n",
    "from scipy.stats import zscore\n",
    "anemia_ndf = anemia_df.drop(columns=[\"ANEMIA\"]).apply(zscore)\n",
    "anemia_ndf['ANEMIA'] = anemia_df['ANEMIA']\n",
    "anemia_ndf.head()"
   ]
  },
  {
   "cell_type": "code",
   "execution_count": 9,
   "metadata": {},
   "outputs": [],
   "source": [
    "nx_values = anemia_ndf.drop(columns=['ANEMIA']) \n",
    "ny_values = anemia_ndf['ANEMIA']\n",
    "nx_train, nx_test, ny_train, ny_test = train_test_split(nx_values, ny_values, test_size=0.3, random_state=seed)"
   ]
  },
  {
   "cell_type": "code",
   "execution_count": 10,
   "metadata": {},
   "outputs": [
    {
     "name": "stdout",
     "output_type": "stream",
     "text": [
      "              precision    recall  f1-score   support\n",
      "\n",
      "           0       1.00      0.82      0.90        28\n",
      "           1       0.86      1.00      0.93        32\n",
      "\n",
      "   micro avg       0.92      0.92      0.92        60\n",
      "   macro avg       0.93      0.91      0.91        60\n",
      "weighted avg       0.93      0.92      0.92        60\n",
      "\n",
      "Accuracy: 0.9166666666666666\n"
     ]
    },
    {
     "data": {
      "image/png": "[encoded data removed]",
      "text/plain": [
       "<Figure size 432x288 with 2 Axes>"
      ]
     },
     "metadata": {
      "needs_background": "light"
     },
     "output_type": "display_data"
    }
   ],
   "source": [
    "lr_model = RandomForestClassifier(n_estimators=100, max_depth=5, random_state=0)\n",
    "lr_model.fit(nx_train, ny_train)\n",
    "ny_pred = lr_model.predict(nx_test)\n",
    "print_metrics(ny_test, ny_pred)"
   ]
  },
  {
   "cell_type": "code",
   "execution_count": 11,
   "metadata": {},
   "outputs": [
    {
     "data": {
      "image/png": "[encoded data removed]",
      "text/plain": [
       "<Figure size 432x288 with 1 Axes>"
      ]
     },
     "metadata": {
      "needs_background": "light"
     },
     "output_type": "display_data"
    }
   ],
   "source": [
    "plot_roc(ny_test, ny_pred, 'Random Forest - Normalized')"
   ]
  },
  {
   "cell_type": "code",
   "execution_count": null,
   "metadata": {},
   "outputs": [],
   "source": []
  }
 ],
 "metadata": {
  "kernelspec": {
   "display_name": "Python [conda env:pyml]",
   "language": "python",
   "name": "conda-env-pyml-py"
  },
  "language_info": {
   "codemirror_mode": {
    "name": "ipython",
    "version": 3
   },
   "file_extension": ".py",
   "mimetype": "text/x-python",
   "name": "python",
   "nbconvert_exporter": "python",
   "pygments_lexer": "ipython3",
   "version": "3.5.6"
  }
 },
 "nbformat": 4,
 "nbformat_minor": 2
}
