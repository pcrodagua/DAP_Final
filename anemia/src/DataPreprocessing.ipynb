{
 "cells": [
  {
   "cell_type": "code",
   "execution_count": 1,
   "metadata": {},
   "outputs": [],
   "source": [
    "import pandas as pd\n",
    "import numpy as np\n",
    "from matplotlib import pyplot as plt"
   ]
  },
  {
   "cell_type": "code",
   "execution_count": 2,
   "metadata": {},
   "outputs": [
    {
     "data": {
      "text/plain": [
       "0.0    5841\n",
       "1.0    1729\n",
       "Name: ANEMIA, dtype: int64"
      ]
     },
     "execution_count": 2,
     "metadata": {},
     "output_type": "execute_result"
    }
   ],
   "source": [
    "anemia_pres = pd.read_csv('../data/messy/anemia_preescolar5_N2012U.csv', index_col=False)\n",
    "anemia_pres.ANEMIA.value_counts()"
   ]
  },
  {
   "cell_type": "code",
   "execution_count": 3,
   "metadata": {},
   "outputs": [
    {
     "data": {
      "text/plain": [
       "0.0    12404\n",
       "1.0     1462\n",
       "Name: ANEMIA, dtype: int64"
      ]
     },
     "execution_count": 3,
     "metadata": {},
     "output_type": "execute_result"
    }
   ],
   "source": [
    "anemia_child = pd.read_csv('../data/messy/anemia_escolar5_11_N2012.csv', index_col=False,encoding='latin-1')\n",
    "anemia_child.ANEMIA.value_counts()"
   ]
  },
  {
   "cell_type": "code",
   "execution_count": 4,
   "metadata": {},
   "outputs": [
    {
     "data": {
      "text/plain": [
       "0.0    10908\n",
       "1.0      730\n",
       "Name: ANEMIA, dtype: int64"
      ]
     },
     "execution_count": 4,
     "metadata": {},
     "output_type": "execute_result"
    }
   ],
   "source": [
    "anemia_teen = pd.read_csv('../data/messy/anemia_adolescente12_19_N2012.csv', index_col=False,encoding='latin-1')\n",
    "anemia_teen.ANEMIA.value_counts()"
   ]
  },
  {
   "cell_type": "code",
   "execution_count": 5,
   "metadata": {},
   "outputs": [
    {
     "name": "stderr",
     "output_type": "stream",
     "text": [
      "/home/cyborx/anaconda3/envs/biopython/lib/python3.5/site-packages/ipykernel_launcher.py:2: FutureWarning: Sorting because non-concatenation axis is not aligned. A future version\n",
      "of pandas will change to not sort by default.\n",
      "\n",
      "To accept the future behavior, pass 'sort=False'.\n",
      "\n",
      "To retain the current behavior and silence the warning, pass 'sort=True'.\n",
      "\n",
      "  \n"
     ]
    },
    {
     "data": {
      "text/plain": [
       "(38098, 34)"
      ]
     },
     "execution_count": 5,
     "metadata": {},
     "output_type": "execute_result"
    }
   ],
   "source": [
    "anemia_gen = pd.concat([anemia_child, anemia_pres])\n",
    "anemia_gen = pd.concat([anemia_gen, anemia_teen])\n",
    "#anemia_gen.to_csv('../data/clean/full_data.csv', index=False)\n",
    "anemia_gen.shape"
   ]
  },
  {
   "cell_type": "code",
   "execution_count": 6,
   "metadata": {},
   "outputs": [
    {
     "data": {
      "text/plain": [
       "0.0    29153\n",
       "1.0     3921\n",
       "Name: ANEMIA, dtype: int64"
      ]
     },
     "execution_count": 6,
     "metadata": {},
     "output_type": "execute_result"
    }
   ],
   "source": [
    "anemia_gen.ANEMIA.value_counts()"
   ]
  },
  {
   "cell_type": "code",
   "execution_count": 7,
   "metadata": {},
   "outputs": [
    {
     "data": {
      "text/plain": [
       "AFILIACI     0.000000\n",
       "AGEB         0.000000\n",
       "ALTITUD      0.041997\n",
       "ANEMIA      13.187044\n",
       "AREA         0.000000\n",
       "CODE_UPM    12.693580\n",
       "EDAD         0.000000\n",
       "EDADDIAS     0.000000\n",
       "EDOFISIO    81.132868\n",
       "ENTIDAD      0.000000\n",
       "EST_DIS     12.693580\n",
       "EST_MARG    12.693580\n",
       "EST_URB     12.693580\n",
       "EST_VAR     12.693580\n",
       "FECHA_NA     0.498714\n",
       "FECHA_VI     0.000000\n",
       "FOLIO_C      0.000000\n",
       "HB          12.693580\n",
       "HBAJUSTA    13.187044\n",
       "HEMCAP       7.173605\n",
       "INDICEF      0.000000\n",
       "INTP         0.000000\n",
       "LOCALI       0.000000\n",
       "MESES        0.000000\n",
       "MUNICI       0.000000\n",
       "NOM_ENT      0.041997\n",
       "NOM_LOC      0.041997\n",
       "NOM_MUN      0.041997\n",
       "NSEDECIL     0.000000\n",
       "NSEQUINT     0.000000\n",
       "NSETERCI     0.000000\n",
       "PONDEF      12.693580\n",
       "REGION       0.000000\n",
       "SEXO         0.000000\n",
       "dtype: float64"
      ]
     },
     "execution_count": 7,
     "metadata": {},
     "output_type": "execute_result"
    }
   ],
   "source": [
    "anemia_gen.isnull().mean()*100"
   ]
  },
  {
   "cell_type": "code",
   "execution_count": 8,
   "metadata": {},
   "outputs": [],
   "source": [
    "anemia_gen = anemia_gen[np.isfinite(anemia_gen['ANEMIA'])]"
   ]
  },
  {
   "cell_type": "code",
   "execution_count": 9,
   "metadata": {},
   "outputs": [
    {
     "data": {
      "text/plain": [
       "AFILIACI    0.000000\n",
       "AGEB        0.000000\n",
       "ALTITUD     0.000000\n",
       "ANEMIA      0.000000\n",
       "AREA        0.000000\n",
       "CODE_UPM    0.000000\n",
       "EDAD        0.000000\n",
       "EDADDIAS    0.000000\n",
       "EDOFISIO    0.823245\n",
       "ENTIDAD     0.000000\n",
       "EST_DIS     0.000000\n",
       "EST_MARG    0.000000\n",
       "EST_URB     0.000000\n",
       "EST_VAR     0.000000\n",
       "FECHA_NA    0.004263\n",
       "FECHA_VI    0.000000\n",
       "FOLIO_C     0.000000\n",
       "HB          0.000000\n",
       "HBAJUSTA    0.000000\n",
       "HEMCAP      0.000000\n",
       "INDICEF     0.000000\n",
       "INTP        0.000000\n",
       "LOCALI      0.000000\n",
       "MESES       0.000000\n",
       "MUNICI      0.000000\n",
       "NOM_ENT     0.000000\n",
       "NOM_LOC     0.000000\n",
       "NOM_MUN     0.000000\n",
       "NSEDECIL    0.000000\n",
       "NSEQUINT    0.000000\n",
       "NSETERCI    0.000000\n",
       "PONDEF      0.000000\n",
       "REGION      0.000000\n",
       "SEXO        0.000000\n",
       "dtype: float64"
      ]
     },
     "execution_count": 9,
     "metadata": {},
     "output_type": "execute_result"
    }
   ],
   "source": [
    "anemia_gen.isnull().mean()"
   ]
  },
  {
   "cell_type": "code",
   "execution_count": 10,
   "metadata": {},
   "outputs": [
    {
     "data": {
      "text/plain": [
       "0.0    29153\n",
       "1.0     3921\n",
       "Name: ANEMIA, dtype: int64"
      ]
     },
     "execution_count": 10,
     "metadata": {},
     "output_type": "execute_result"
    }
   ],
   "source": [
    "anemia_gen.ANEMIA.value_counts()"
   ]
  },
  {
   "cell_type": "code",
   "execution_count": 11,
   "metadata": {},
   "outputs": [
    {
     "name": "stdout",
     "output_type": "stream",
     "text": [
      "Proportion: 7.44 : 1\n"
     ]
    }
   ],
   "source": [
    "anemia_gen.to_csv('../data/clean/anemia_gen_notclean.csv', index=False)\n",
    "target_count = anemia_gen.ANEMIA.value_counts()\n",
    "print('Proportion:', round(target_count[0] / target_count[1], 2), ': 1')"
   ]
  },
  {
   "cell_type": "code",
   "execution_count": 12,
   "metadata": {},
   "outputs": [
    {
     "data": {
      "image/png": "[encoded data removed]",
      "text/plain": [
       "<matplotlib.figure.Figure at 0x7ff9c76944e0>"
      ]
     },
     "metadata": {
      "needs_background": "light"
     },
     "output_type": "display_data"
    }
   ],
   "source": [
    "target_count.plot(kind='bar', title='Count (Anemia)');"
   ]
  },
  {
   "cell_type": "markdown",
   "metadata": {},
   "source": [
    "## Random under-sampling"
   ]
  },
  {
   "cell_type": "code",
   "execution_count": 13,
   "metadata": {},
   "outputs": [
    {
     "name": "stdout",
     "output_type": "stream",
     "text": [
      "Random under-sampling:\n",
      "1.0    3921\n",
      "0.0    3921\n",
      "Name: ANEMIA, dtype: int64\n"
     ]
    },
    {
     "data": {
      "image/png": "[encoded data removed]",
      "text/plain": [
       "<matplotlib.figure.Figure at 0x7ff9c76c1668>"
      ]
     },
     "metadata": {
      "needs_background": "light"
     },
     "output_type": "display_data"
    }
   ],
   "source": [
    "count_class_0, count_class_1 = anemia_gen.ANEMIA.value_counts()\n",
    "\n",
    "# Divide by class\n",
    "df_class_0 = anemia_gen[anemia_gen['ANEMIA'] == 0]\n",
    "df_class_1 = anemia_gen[anemia_gen['ANEMIA'] == 1]\n",
    "\n",
    "df_class_0_under = df_class_0.sample(count_class_1)\n",
    "df_test_under = pd.concat([df_class_0_under, df_class_1], axis=0)\n",
    "\n",
    "print('Random under-sampling:')\n",
    "print(df_test_under.ANEMIA.value_counts())\n",
    "\n",
    "df_test_under.ANEMIA.value_counts().plot(kind='bar', title='Count (ANEMIA)');"
   ]
  },
  {
   "cell_type": "code",
   "execution_count": 14,
   "metadata": {},
   "outputs": [
    {
     "data": {
      "text/html": [
       "<div>\n",
       "<style scoped>\n",
       "    .dataframe tbody tr th:only-of-type {\n",
       "        vertical-align: middle;\n",
       "    }\n",
       "\n",
       "    .dataframe tbody tr th {\n",
       "        vertical-align: top;\n",
       "    }\n",
       "\n",
       "    .dataframe thead th {\n",
       "        text-align: right;\n",
       "    }\n",
       "</style>\n",
       "<table border=\"1\" class=\"dataframe\">\n",
       "  <thead>\n",
       "    <tr style=\"text-align: right;\">\n",
       "      <th></th>\n",
       "      <th>AFILIACI</th>\n",
       "      <th>AGEB</th>\n",
       "      <th>ALTITUD</th>\n",
       "      <th>ANEMIA</th>\n",
       "      <th>AREA</th>\n",
       "      <th>CODE_UPM</th>\n",
       "      <th>EDAD</th>\n",
       "      <th>EDADDIAS</th>\n",
       "      <th>EDOFISIO</th>\n",
       "      <th>ENTIDAD</th>\n",
       "      <th>...</th>\n",
       "      <th>MUNICI</th>\n",
       "      <th>NOM_ENT</th>\n",
       "      <th>NOM_LOC</th>\n",
       "      <th>NOM_MUN</th>\n",
       "      <th>NSEDECIL</th>\n",
       "      <th>NSEQUINT</th>\n",
       "      <th>NSETERCI</th>\n",
       "      <th>PONDEF</th>\n",
       "      <th>REGION</th>\n",
       "      <th>SEXO</th>\n",
       "    </tr>\n",
       "  </thead>\n",
       "  <tbody>\n",
       "    <tr>\n",
       "      <th>5779</th>\n",
       "      <td>1</td>\n",
       "      <td>0698</td>\n",
       "      <td>40.0</td>\n",
       "      <td>0.0</td>\n",
       "      <td>1</td>\n",
       "      <td>M2635</td>\n",
       "      <td>1.448323</td>\n",
       "      <td>529.0</td>\n",
       "      <td>NaN</td>\n",
       "      <td>26</td>\n",
       "      <td>...</td>\n",
       "      <td>42</td>\n",
       "      <td>Sonora</td>\n",
       "      <td>Navojoa</td>\n",
       "      <td>Navojoa</td>\n",
       "      <td>7</td>\n",
       "      <td>4</td>\n",
       "      <td>2</td>\n",
       "      <td>1143.290</td>\n",
       "      <td>1</td>\n",
       "      <td>2</td>\n",
       "    </tr>\n",
       "    <tr>\n",
       "      <th>5516</th>\n",
       "      <td>6</td>\n",
       "      <td>2025</td>\n",
       "      <td>1400.0</td>\n",
       "      <td>0.0</td>\n",
       "      <td>2</td>\n",
       "      <td>M0827</td>\n",
       "      <td>9.774127</td>\n",
       "      <td>3570.0</td>\n",
       "      <td>NaN</td>\n",
       "      <td>8</td>\n",
       "      <td>...</td>\n",
       "      <td>36</td>\n",
       "      <td>Chihuahua</td>\n",
       "      <td>El Triunfo</td>\n",
       "      <td>Jiménez</td>\n",
       "      <td>4</td>\n",
       "      <td>2</td>\n",
       "      <td>2</td>\n",
       "      <td>281.149</td>\n",
       "      <td>1</td>\n",
       "      <td>1</td>\n",
       "    </tr>\n",
       "    <tr>\n",
       "      <th>5400</th>\n",
       "      <td>0</td>\n",
       "      <td>31</td>\n",
       "      <td>2587.0</td>\n",
       "      <td>0.0</td>\n",
       "      <td>2</td>\n",
       "      <td>M1309</td>\n",
       "      <td>12.766598</td>\n",
       "      <td>4663.0</td>\n",
       "      <td>0.0</td>\n",
       "      <td>13</td>\n",
       "      <td>...</td>\n",
       "      <td>16</td>\n",
       "      <td>Hidalgo</td>\n",
       "      <td>Las ï¿½nimas</td>\n",
       "      <td>Cuautepec de Hinojosa</td>\n",
       "      <td>8</td>\n",
       "      <td>4</td>\n",
       "      <td>3</td>\n",
       "      <td>704.133</td>\n",
       "      <td>4</td>\n",
       "      <td>2</td>\n",
       "    </tr>\n",
       "    <tr>\n",
       "      <th>10199</th>\n",
       "      <td>6</td>\n",
       "      <td>233</td>\n",
       "      <td>1.0</td>\n",
       "      <td>0.0</td>\n",
       "      <td>2</td>\n",
       "      <td>M2340</td>\n",
       "      <td>13.574264</td>\n",
       "      <td>4958.0</td>\n",
       "      <td>0.0</td>\n",
       "      <td>23</td>\n",
       "      <td>...</td>\n",
       "      <td>7</td>\n",
       "      <td>Quintana Roo</td>\n",
       "      <td>Holbox</td>\n",
       "      <td>Lï¿½zaro Cï¿½rdenas</td>\n",
       "      <td>8</td>\n",
       "      <td>4</td>\n",
       "      <td>3</td>\n",
       "      <td>140.381</td>\n",
       "      <td>4</td>\n",
       "      <td>2</td>\n",
       "    </tr>\n",
       "    <tr>\n",
       "      <th>109</th>\n",
       "      <td>0</td>\n",
       "      <td>2210</td>\n",
       "      <td>1885.0</td>\n",
       "      <td>0.0</td>\n",
       "      <td>1</td>\n",
       "      <td>M0116</td>\n",
       "      <td>19.126625</td>\n",
       "      <td>6986.0</td>\n",
       "      <td>NaN</td>\n",
       "      <td>1</td>\n",
       "      <td>...</td>\n",
       "      <td>1</td>\n",
       "      <td>Aguascalientes</td>\n",
       "      <td>Aguascalientes</td>\n",
       "      <td>Aguascalientes</td>\n",
       "      <td>5</td>\n",
       "      <td>3</td>\n",
       "      <td>2</td>\n",
       "      <td>176.596</td>\n",
       "      <td>2</td>\n",
       "      <td>1</td>\n",
       "    </tr>\n",
       "  </tbody>\n",
       "</table>\n",
       "<p>5 rows × 34 columns</p>\n",
       "</div>"
      ],
      "text/plain": [
       "       AFILIACI  AGEB  ALTITUD  ANEMIA  AREA CODE_UPM       EDAD  EDADDIAS  \\\n",
       "5779          1  0698     40.0     0.0     1    M2635   1.448323     529.0   \n",
       "5516          6  2025   1400.0     0.0     2    M0827   9.774127    3570.0   \n",
       "5400          0    31   2587.0     0.0     2    M1309  12.766598    4663.0   \n",
       "10199         6   233      1.0     0.0     2    M2340  13.574264    4958.0   \n",
       "109           0  2210   1885.0     0.0     1    M0116  19.126625    6986.0   \n",
       "\n",
       "       EDOFISIO  ENTIDAD  ...   MUNICI         NOM_ENT         NOM_LOC  \\\n",
       "5779        NaN       26  ...       42          Sonora         Navojoa   \n",
       "5516        NaN        8  ...       36       Chihuahua      El Triunfo   \n",
       "5400        0.0       13  ...       16         Hidalgo    Las ï¿½nimas   \n",
       "10199       0.0       23  ...        7    Quintana Roo          Holbox   \n",
       "109         NaN        1  ...        1  Aguascalientes  Aguascalientes   \n",
       "\n",
       "                     NOM_MUN  NSEDECIL  NSEQUINT  NSETERCI    PONDEF  REGION  \\\n",
       "5779                 Navojoa         7         4         2  1143.290       1   \n",
       "5516                 Jiménez         4         2         2   281.149       1   \n",
       "5400   Cuautepec de Hinojosa         8         4         3   704.133       4   \n",
       "10199    Lï¿½zaro Cï¿½rdenas         8         4         3   140.381       4   \n",
       "109           Aguascalientes         5         3         2   176.596       2   \n",
       "\n",
       "       SEXO  \n",
       "5779      2  \n",
       "5516      1  \n",
       "5400      2  \n",
       "10199     2  \n",
       "109       1  \n",
       "\n",
       "[5 rows x 34 columns]"
      ]
     },
     "execution_count": 14,
     "metadata": {},
     "output_type": "execute_result"
    }
   ],
   "source": [
    "df_test_under.head()"
   ]
  },
  {
   "cell_type": "code",
   "execution_count": 15,
   "metadata": {},
   "outputs": [],
   "source": [
    "df_test_under.to_csv('../data/clean/anemia_balanced_pres.csv', index=False)"
   ]
  },
  {
   "cell_type": "code",
   "execution_count": 16,
   "metadata": {},
   "outputs": [],
   "source": [
    "anemia_balanced_pres = pd.read_csv('../data/clean/anemia_balanced_pres.csv', index_col=False)"
   ]
  },
  {
   "cell_type": "code",
   "execution_count": 17,
   "metadata": {},
   "outputs": [
    {
     "data": {
      "text/html": [
       "<div>\n",
       "<style scoped>\n",
       "    .dataframe tbody tr th:only-of-type {\n",
       "        vertical-align: middle;\n",
       "    }\n",
       "\n",
       "    .dataframe tbody tr th {\n",
       "        vertical-align: top;\n",
       "    }\n",
       "\n",
       "    .dataframe thead th {\n",
       "        text-align: right;\n",
       "    }\n",
       "</style>\n",
       "<table border=\"1\" class=\"dataframe\">\n",
       "  <thead>\n",
       "    <tr style=\"text-align: right;\">\n",
       "      <th></th>\n",
       "      <th>AFILIACI</th>\n",
       "      <th>AGEB</th>\n",
       "      <th>ALTITUD</th>\n",
       "      <th>ANEMIA</th>\n",
       "      <th>AREA</th>\n",
       "      <th>CODE_UPM</th>\n",
       "      <th>EDAD</th>\n",
       "      <th>EDADDIAS</th>\n",
       "      <th>EDOFISIO</th>\n",
       "      <th>ENTIDAD</th>\n",
       "      <th>...</th>\n",
       "      <th>MUNICI</th>\n",
       "      <th>NOM_ENT</th>\n",
       "      <th>NOM_LOC</th>\n",
       "      <th>NOM_MUN</th>\n",
       "      <th>NSEDECIL</th>\n",
       "      <th>NSEQUINT</th>\n",
       "      <th>NSETERCI</th>\n",
       "      <th>PONDEF</th>\n",
       "      <th>REGION</th>\n",
       "      <th>SEXO</th>\n",
       "    </tr>\n",
       "  </thead>\n",
       "  <tbody>\n",
       "    <tr>\n",
       "      <th>0</th>\n",
       "      <td>1</td>\n",
       "      <td>0698</td>\n",
       "      <td>40.0</td>\n",
       "      <td>0.0</td>\n",
       "      <td>1</td>\n",
       "      <td>M2635</td>\n",
       "      <td>1.448323</td>\n",
       "      <td>529.0</td>\n",
       "      <td>NaN</td>\n",
       "      <td>26</td>\n",
       "      <td>...</td>\n",
       "      <td>42</td>\n",
       "      <td>Sonora</td>\n",
       "      <td>Navojoa</td>\n",
       "      <td>Navojoa</td>\n",
       "      <td>7</td>\n",
       "      <td>4</td>\n",
       "      <td>2</td>\n",
       "      <td>1143.290</td>\n",
       "      <td>1</td>\n",
       "      <td>2</td>\n",
       "    </tr>\n",
       "    <tr>\n",
       "      <th>1</th>\n",
       "      <td>6</td>\n",
       "      <td>2025</td>\n",
       "      <td>1400.0</td>\n",
       "      <td>0.0</td>\n",
       "      <td>2</td>\n",
       "      <td>M0827</td>\n",
       "      <td>9.774127</td>\n",
       "      <td>3570.0</td>\n",
       "      <td>NaN</td>\n",
       "      <td>8</td>\n",
       "      <td>...</td>\n",
       "      <td>36</td>\n",
       "      <td>Chihuahua</td>\n",
       "      <td>El Triunfo</td>\n",
       "      <td>Jiménez</td>\n",
       "      <td>4</td>\n",
       "      <td>2</td>\n",
       "      <td>2</td>\n",
       "      <td>281.149</td>\n",
       "      <td>1</td>\n",
       "      <td>1</td>\n",
       "    </tr>\n",
       "    <tr>\n",
       "      <th>2</th>\n",
       "      <td>0</td>\n",
       "      <td>31</td>\n",
       "      <td>2587.0</td>\n",
       "      <td>0.0</td>\n",
       "      <td>2</td>\n",
       "      <td>M1309</td>\n",
       "      <td>12.766598</td>\n",
       "      <td>4663.0</td>\n",
       "      <td>0.0</td>\n",
       "      <td>13</td>\n",
       "      <td>...</td>\n",
       "      <td>16</td>\n",
       "      <td>Hidalgo</td>\n",
       "      <td>Las ï¿½nimas</td>\n",
       "      <td>Cuautepec de Hinojosa</td>\n",
       "      <td>8</td>\n",
       "      <td>4</td>\n",
       "      <td>3</td>\n",
       "      <td>704.133</td>\n",
       "      <td>4</td>\n",
       "      <td>2</td>\n",
       "    </tr>\n",
       "    <tr>\n",
       "      <th>3</th>\n",
       "      <td>6</td>\n",
       "      <td>233</td>\n",
       "      <td>1.0</td>\n",
       "      <td>0.0</td>\n",
       "      <td>2</td>\n",
       "      <td>M2340</td>\n",
       "      <td>13.574264</td>\n",
       "      <td>4958.0</td>\n",
       "      <td>0.0</td>\n",
       "      <td>23</td>\n",
       "      <td>...</td>\n",
       "      <td>7</td>\n",
       "      <td>Quintana Roo</td>\n",
       "      <td>Holbox</td>\n",
       "      <td>Lï¿½zaro Cï¿½rdenas</td>\n",
       "      <td>8</td>\n",
       "      <td>4</td>\n",
       "      <td>3</td>\n",
       "      <td>140.381</td>\n",
       "      <td>4</td>\n",
       "      <td>2</td>\n",
       "    </tr>\n",
       "    <tr>\n",
       "      <th>4</th>\n",
       "      <td>0</td>\n",
       "      <td>2210</td>\n",
       "      <td>1885.0</td>\n",
       "      <td>0.0</td>\n",
       "      <td>1</td>\n",
       "      <td>M0116</td>\n",
       "      <td>19.126625</td>\n",
       "      <td>6986.0</td>\n",
       "      <td>NaN</td>\n",
       "      <td>1</td>\n",
       "      <td>...</td>\n",
       "      <td>1</td>\n",
       "      <td>Aguascalientes</td>\n",
       "      <td>Aguascalientes</td>\n",
       "      <td>Aguascalientes</td>\n",
       "      <td>5</td>\n",
       "      <td>3</td>\n",
       "      <td>2</td>\n",
       "      <td>176.596</td>\n",
       "      <td>2</td>\n",
       "      <td>1</td>\n",
       "    </tr>\n",
       "  </tbody>\n",
       "</table>\n",
       "<p>5 rows × 34 columns</p>\n",
       "</div>"
      ],
      "text/plain": [
       "   AFILIACI  AGEB  ALTITUD  ANEMIA  AREA CODE_UPM       EDAD  EDADDIAS  \\\n",
       "0         1  0698     40.0     0.0     1    M2635   1.448323     529.0   \n",
       "1         6  2025   1400.0     0.0     2    M0827   9.774127    3570.0   \n",
       "2         0    31   2587.0     0.0     2    M1309  12.766598    4663.0   \n",
       "3         6   233      1.0     0.0     2    M2340  13.574264    4958.0   \n",
       "4         0  2210   1885.0     0.0     1    M0116  19.126625    6986.0   \n",
       "\n",
       "   EDOFISIO  ENTIDAD  ...   MUNICI         NOM_ENT         NOM_LOC  \\\n",
       "0       NaN       26  ...       42          Sonora         Navojoa   \n",
       "1       NaN        8  ...       36       Chihuahua      El Triunfo   \n",
       "2       0.0       13  ...       16         Hidalgo    Las ï¿½nimas   \n",
       "3       0.0       23  ...        7    Quintana Roo          Holbox   \n",
       "4       NaN        1  ...        1  Aguascalientes  Aguascalientes   \n",
       "\n",
       "                 NOM_MUN  NSEDECIL  NSEQUINT  NSETERCI    PONDEF  REGION  SEXO  \n",
       "0                Navojoa         7         4         2  1143.290       1     2  \n",
       "1                Jiménez         4         2         2   281.149       1     1  \n",
       "2  Cuautepec de Hinojosa         8         4         3   704.133       4     2  \n",
       "3    Lï¿½zaro Cï¿½rdenas         8         4         3   140.381       4     2  \n",
       "4         Aguascalientes         5         3         2   176.596       2     1  \n",
       "\n",
       "[5 rows x 34 columns]"
      ]
     },
     "execution_count": 17,
     "metadata": {},
     "output_type": "execute_result"
    }
   ],
   "source": [
    "anemia_balanced_pres.head()"
   ]
  },
  {
   "cell_type": "code",
   "execution_count": 18,
   "metadata": {},
   "outputs": [
    {
     "data": {
      "text/html": [
       "<div>\n",
       "<style scoped>\n",
       "    .dataframe tbody tr th:only-of-type {\n",
       "        vertical-align: middle;\n",
       "    }\n",
       "\n",
       "    .dataframe tbody tr th {\n",
       "        vertical-align: top;\n",
       "    }\n",
       "\n",
       "    .dataframe thead th {\n",
       "        text-align: right;\n",
       "    }\n",
       "</style>\n",
       "<table border=\"1\" class=\"dataframe\">\n",
       "  <thead>\n",
       "    <tr style=\"text-align: right;\">\n",
       "      <th></th>\n",
       "      <th>AFILIACI</th>\n",
       "      <th>AGEB</th>\n",
       "      <th>ALTITUD</th>\n",
       "      <th>ANEMIA</th>\n",
       "      <th>AREA</th>\n",
       "      <th>CODE_UPM</th>\n",
       "      <th>EDAD</th>\n",
       "      <th>EDADDIAS</th>\n",
       "      <th>EDOFISIO</th>\n",
       "      <th>ENTIDAD</th>\n",
       "      <th>...</th>\n",
       "      <th>MUNICI</th>\n",
       "      <th>NOM_ENT</th>\n",
       "      <th>NOM_LOC</th>\n",
       "      <th>NOM_MUN</th>\n",
       "      <th>NSEDECIL</th>\n",
       "      <th>NSEQUINT</th>\n",
       "      <th>NSETERCI</th>\n",
       "      <th>PONDEF</th>\n",
       "      <th>REGION</th>\n",
       "      <th>SEXO</th>\n",
       "    </tr>\n",
       "  </thead>\n",
       "  <tbody>\n",
       "    <tr>\n",
       "      <th>7837</th>\n",
       "      <td>6</td>\n",
       "      <td>116</td>\n",
       "      <td>2389.0</td>\n",
       "      <td>1.0</td>\n",
       "      <td>2</td>\n",
       "      <td>M3230</td>\n",
       "      <td>17.330595</td>\n",
       "      <td>6330.0</td>\n",
       "      <td>0.0</td>\n",
       "      <td>32</td>\n",
       "      <td>...</td>\n",
       "      <td>38</td>\n",
       "      <td>Zacatecas</td>\n",
       "      <td>El Chiquihuitillo</td>\n",
       "      <td>Pinos</td>\n",
       "      <td>3</td>\n",
       "      <td>2</td>\n",
       "      <td>1</td>\n",
       "      <td>965.969</td>\n",
       "      <td>2</td>\n",
       "      <td>2</td>\n",
       "    </tr>\n",
       "    <tr>\n",
       "      <th>7838</th>\n",
       "      <td>6</td>\n",
       "      <td>135</td>\n",
       "      <td>2139.0</td>\n",
       "      <td>1.0</td>\n",
       "      <td>2</td>\n",
       "      <td>M3231</td>\n",
       "      <td>12.881587</td>\n",
       "      <td>4705.0</td>\n",
       "      <td>0.0</td>\n",
       "      <td>32</td>\n",
       "      <td>...</td>\n",
       "      <td>38</td>\n",
       "      <td>Zacatecas</td>\n",
       "      <td>Huertas del Mezquite</td>\n",
       "      <td>Pinos</td>\n",
       "      <td>4</td>\n",
       "      <td>2</td>\n",
       "      <td>2</td>\n",
       "      <td>243.837</td>\n",
       "      <td>2</td>\n",
       "      <td>2</td>\n",
       "    </tr>\n",
       "    <tr>\n",
       "      <th>7839</th>\n",
       "      <td>6</td>\n",
       "      <td>60</td>\n",
       "      <td>1843.0</td>\n",
       "      <td>1.0</td>\n",
       "      <td>2</td>\n",
       "      <td>M3236</td>\n",
       "      <td>18.822724</td>\n",
       "      <td>6875.0</td>\n",
       "      <td>0.0</td>\n",
       "      <td>32</td>\n",
       "      <td>...</td>\n",
       "      <td>41</td>\n",
       "      <td>Zacatecas</td>\n",
       "      <td>Clavellinas</td>\n",
       "      <td>El Salvador</td>\n",
       "      <td>2</td>\n",
       "      <td>1</td>\n",
       "      <td>1</td>\n",
       "      <td>136.947</td>\n",
       "      <td>2</td>\n",
       "      <td>2</td>\n",
       "    </tr>\n",
       "    <tr>\n",
       "      <th>7840</th>\n",
       "      <td>1</td>\n",
       "      <td>146</td>\n",
       "      <td>1697.0</td>\n",
       "      <td>1.0</td>\n",
       "      <td>1</td>\n",
       "      <td>M3240</td>\n",
       "      <td>13.311430</td>\n",
       "      <td>4862.0</td>\n",
       "      <td>0.0</td>\n",
       "      <td>32</td>\n",
       "      <td>...</td>\n",
       "      <td>48</td>\n",
       "      <td>Zacatecas</td>\n",
       "      <td>Tlaltenango de Sï¿½nchez Romï¿½n</td>\n",
       "      <td>Tlaltenango de Sï¿½nchez Romï¿½n</td>\n",
       "      <td>9</td>\n",
       "      <td>5</td>\n",
       "      <td>3</td>\n",
       "      <td>478.898</td>\n",
       "      <td>2</td>\n",
       "      <td>2</td>\n",
       "    </tr>\n",
       "    <tr>\n",
       "      <th>7841</th>\n",
       "      <td>1</td>\n",
       "      <td>125</td>\n",
       "      <td>2533.0</td>\n",
       "      <td>1.0</td>\n",
       "      <td>2</td>\n",
       "      <td>M3241</td>\n",
       "      <td>19.572895</td>\n",
       "      <td>7149.0</td>\n",
       "      <td>0.0</td>\n",
       "      <td>32</td>\n",
       "      <td>...</td>\n",
       "      <td>50</td>\n",
       "      <td>Zacatecas</td>\n",
       "      <td>Vetagrande</td>\n",
       "      <td>Vetagrande</td>\n",
       "      <td>9</td>\n",
       "      <td>5</td>\n",
       "      <td>3</td>\n",
       "      <td>503.661</td>\n",
       "      <td>2</td>\n",
       "      <td>2</td>\n",
       "    </tr>\n",
       "  </tbody>\n",
       "</table>\n",
       "<p>5 rows × 34 columns</p>\n",
       "</div>"
      ],
      "text/plain": [
       "      AFILIACI AGEB  ALTITUD  ANEMIA  AREA CODE_UPM       EDAD  EDADDIAS  \\\n",
       "7837         6  116   2389.0     1.0     2    M3230  17.330595    6330.0   \n",
       "7838         6  135   2139.0     1.0     2    M3231  12.881587    4705.0   \n",
       "7839         6   60   1843.0     1.0     2    M3236  18.822724    6875.0   \n",
       "7840         1  146   1697.0     1.0     1    M3240  13.311430    4862.0   \n",
       "7841         1  125   2533.0     1.0     2    M3241  19.572895    7149.0   \n",
       "\n",
       "      EDOFISIO  ENTIDAD  ...   MUNICI    NOM_ENT  \\\n",
       "7837       0.0       32  ...       38  Zacatecas   \n",
       "7838       0.0       32  ...       38  Zacatecas   \n",
       "7839       0.0       32  ...       41  Zacatecas   \n",
       "7840       0.0       32  ...       48  Zacatecas   \n",
       "7841       0.0       32  ...       50  Zacatecas   \n",
       "\n",
       "                               NOM_LOC                           NOM_MUN  \\\n",
       "7837                 El Chiquihuitillo                             Pinos   \n",
       "7838              Huertas del Mezquite                             Pinos   \n",
       "7839                       Clavellinas                       El Salvador   \n",
       "7840  Tlaltenango de Sï¿½nchez Romï¿½n  Tlaltenango de Sï¿½nchez Romï¿½n   \n",
       "7841                        Vetagrande                        Vetagrande   \n",
       "\n",
       "      NSEDECIL  NSEQUINT  NSETERCI   PONDEF  REGION  SEXO  \n",
       "7837         3         2         1  965.969       2     2  \n",
       "7838         4         2         2  243.837       2     2  \n",
       "7839         2         1         1  136.947       2     2  \n",
       "7840         9         5         3  478.898       2     2  \n",
       "7841         9         5         3  503.661       2     2  \n",
       "\n",
       "[5 rows x 34 columns]"
      ]
     },
     "execution_count": 18,
     "metadata": {},
     "output_type": "execute_result"
    }
   ],
   "source": [
    "anemia_balanced_pres.tail()"
   ]
  },
  {
   "cell_type": "code",
   "execution_count": 19,
   "metadata": {},
   "outputs": [
    {
     "data": {
      "text/plain": [
       "AFILIACI    0.000000\n",
       "AGEB        0.000000\n",
       "ALTITUD     0.000000\n",
       "ANEMIA      0.000000\n",
       "AREA        0.000000\n",
       "CODE_UPM    0.000000\n",
       "EDAD        0.000000\n",
       "EDADDIAS    0.000000\n",
       "EDOFISIO    0.842642\n",
       "ENTIDAD     0.000000\n",
       "EST_DIS     0.000000\n",
       "EST_MARG    0.000000\n",
       "EST_URB     0.000000\n",
       "EST_VAR     0.000000\n",
       "FECHA_NA    0.002423\n",
       "FECHA_VI    0.000000\n",
       "FOLIO_C     0.000000\n",
       "HB          0.000000\n",
       "HBAJUSTA    0.000000\n",
       "HEMCAP      0.000000\n",
       "INDICEF     0.000000\n",
       "INTP        0.000000\n",
       "LOCALI      0.000000\n",
       "MESES       0.000000\n",
       "MUNICI      0.000000\n",
       "NOM_ENT     0.000000\n",
       "NOM_LOC     0.000000\n",
       "NOM_MUN     0.000000\n",
       "NSEDECIL    0.000000\n",
       "NSEQUINT    0.000000\n",
       "NSETERCI    0.000000\n",
       "PONDEF      0.000000\n",
       "REGION      0.000000\n",
       "SEXO        0.000000\n",
       "dtype: float64"
      ]
     },
     "execution_count": 19,
     "metadata": {},
     "output_type": "execute_result"
    }
   ],
   "source": [
    "anemia_balanced_pres.isnull().mean()"
   ]
  }
 ],
 "metadata": {
  "kernelspec": {
   "display_name": "Python 3",
   "language": "python",
   "name": "python3"
  },
  "language_info": {
   "codemirror_mode": {
    "name": "ipython",
    "version": 3
   },
   "file_extension": ".py",
   "mimetype": "text/x-python",
   "name": "python",
   "nbconvert_exporter": "python",
   "pygments_lexer": "ipython3",
   "version": "3.5.6"
  }
 },
 "nbformat": 4,
 "nbformat_minor": 2
}
