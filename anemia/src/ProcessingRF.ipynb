{
 "cells": [
  {
   "cell_type": "code",
   "execution_count": 1,
   "metadata": {},
   "outputs": [],
   "source": [
    "from sklearn.model_selection import train_test_split\n",
    "from sklearn.metrics import mean_squared_error\n",
    "from sklearn import linear_model\n",
    "from sklearn import datasets\n",
    "from math import sqrt\n",
    "\n",
    "import matplotlib.pyplot as plt\n",
    "import statsmodels.api as sm\n",
    "import scipy.optimize as opt\n",
    "from scipy import stats\n",
    "import seaborn as sns\n",
    "import pandas as pd\n",
    "import numpy as np\n",
    "\n",
    "sns.set_style(\"ticks\")\n",
    "%matplotlib inline"
   ]
  },
  {
   "cell_type": "code",
   "execution_count": 2,
   "metadata": {},
   "outputs": [],
   "source": [
    "from sklearn.ensemble import RandomForestClassifier\n",
    "from sklearn.model_selection import cross_val_score\n",
    "from sklearn.metrics import accuracy_score, classification_report, confusion_matrix, roc_curve, roc_auc_score"
   ]
  },
  {
   "cell_type": "markdown",
   "metadata": {},
   "source": [
    "## Data Split"
   ]
  },
  {
   "cell_type": "code",
   "execution_count": 3,
   "metadata": {},
   "outputs": [],
   "source": [
    "anemia_df = pd.read_csv('../data/clean/anemia_balanced_clean.csv', index_col=False)\n",
    "x_values = anemia_df.drop(columns=[\"ANEMIA\"])\n",
    "x_values = anemia_df[['INTP', 'SEXO', 'EST_URB', 'EST_MARG', 'HB']]\n",
    "y_values = anemia_df[\"ANEMIA\"]"
   ]
  },
  {
   "cell_type": "code",
   "execution_count": 4,
   "metadata": {},
   "outputs": [],
   "source": [
    "# Data Split\n",
    "from sklearn.model_selection import train_test_split\n",
    "seed = 1234\n",
    "x_train, x_test, y_train, y_test = train_test_split(x_values, y_values, test_size=0.3, random_state=seed)"
   ]
  },
  {
   "cell_type": "markdown",
   "metadata": {},
   "source": [
    "## Metrics Used"
   ]
  },
  {
   "cell_type": "code",
   "execution_count": 5,
   "metadata": {},
   "outputs": [],
   "source": [
    "def print_metrics(y_test, y_pred):\n",
    "    cm = confusion_matrix(y_test, y_pred=y_pred)\n",
    "    sns.heatmap(cm, annot=True)\n",
    "    target_names = ['0', '1']\n",
    "    print(classification_report(y_test, y_pred, target_names=target_names))\n",
    "    print('Accuracy: {0}'.format(accuracy_score(y_test, y_pred)))\n",
    "    \n",
    "def plot_roc(y_test, y_pred, model):\n",
    "    # calculate roc curve\n",
    "    fpr, tpr, thresholds = roc_curve(y_test, y_pred)\n",
    "    auc = roc_auc_score(y_test, y_pred)\n",
    "\n",
    "    plt.plot([0, 1], [0, 1], color='red', linestyle='--')\n",
    "    plt.plot(fpr, tpr, marker='.', label = 'AUC: %0.2f' % auc, color= 'green')\n",
    "    plt.title('{0} (ROC + AUC)'.format(model))\n",
    "    plt.xlabel('False Positive Rate (x)')\n",
    "    plt.ylabel('True Positive Rate (y)')\n",
    "    plt.legend(loc=\"lower right\")\n",
    "    plt.grid()\n",
    "    plt.show()"
   ]
  },
  {
   "cell_type": "markdown",
   "metadata": {},
   "source": [
    "## Random Forest (No Normalized)"
   ]
  },
  {
   "cell_type": "code",
   "execution_count": 6,
   "metadata": {},
   "outputs": [
    {
     "name": "stdout",
     "output_type": "stream",
     "text": [
      "              precision    recall  f1-score   support\n",
      "\n",
      "           0       0.94      0.91      0.92       817\n",
      "           1       0.91      0.94      0.92       794\n",
      "\n",
      "   micro avg       0.92      0.92      0.92      1611\n",
      "   macro avg       0.92      0.92      0.92      1611\n",
      "weighted avg       0.92      0.92      0.92      1611\n",
      "\n",
      "Accuracy: 0.9224084419615146\n"
     ]
    },
    {
     "data": {
      "image/png": "[encoded data removed]",
      "text/plain": [
       "<Figure size 432x288 with 2 Axes>"
      ]
     },
     "metadata": {
      "needs_background": "light"
     },
     "output_type": "display_data"
    }
   ],
   "source": [
    "lr_model = RandomForestClassifier(n_estimators=100, max_depth=5, random_state=0)\n",
    "lr_model.fit(x_train, y_train)\n",
    "y_pred = lr_model.predict(x_test)\n",
    "print_metrics(y_test, y_pred)"
   ]
  },
  {
   "cell_type": "code",
   "execution_count": 7,
   "metadata": {},
   "outputs": [
    {
     "data": {
      "image/png": "[encoded data removed]",
      "text/plain": [
       "<Figure size 432x288 with 1 Axes>"
      ]
     },
     "metadata": {
      "needs_background": "light"
     },
     "output_type": "display_data"
    }
   ],
   "source": [
    "plot_roc(y_test, y_pred, 'Random Forest')"
   ]
  },
  {
   "cell_type": "markdown",
   "metadata": {},
   "source": [
    "## Random Forest (Normalized Z-Score)"
   ]
  },
  {
   "cell_type": "code",
   "execution_count": 8,
   "metadata": {},
   "outputs": [
    {
     "data": {
      "text/html": [
       "<div>\n",
       "<style scoped>\n",
       "    .dataframe tbody tr th:only-of-type {\n",
       "        vertical-align: middle;\n",
       "    }\n",
       "\n",
       "    .dataframe tbody tr th {\n",
       "        vertical-align: top;\n",
       "    }\n",
       "\n",
       "    .dataframe thead th {\n",
       "        text-align: right;\n",
       "    }\n",
       "</style>\n",
       "<table border=\"1\" class=\"dataframe\">\n",
       "  <thead>\n",
       "    <tr style=\"text-align: right;\">\n",
       "      <th></th>\n",
       "      <th>AFILIACI</th>\n",
       "      <th>ALTITUD</th>\n",
       "      <th>AREA</th>\n",
       "      <th>EDADDIAS</th>\n",
       "      <th>ENTIDAD</th>\n",
       "      <th>EST_MARG</th>\n",
       "      <th>EST_URB</th>\n",
       "      <th>HB</th>\n",
       "      <th>INDICEF</th>\n",
       "      <th>INTP</th>\n",
       "      <th>LOCALI</th>\n",
       "      <th>MUNICI</th>\n",
       "      <th>PONDEF</th>\n",
       "      <th>REGION</th>\n",
       "      <th>SEXO</th>\n",
       "      <th>ANEMIA</th>\n",
       "    </tr>\n",
       "  </thead>\n",
       "  <tbody>\n",
       "    <tr>\n",
       "      <th>0</th>\n",
       "      <td>-0.435208</td>\n",
       "      <td>-0.631150</td>\n",
       "      <td>-0.777678</td>\n",
       "      <td>-0.769910</td>\n",
       "      <td>1.403903</td>\n",
       "      <td>-0.894502</td>\n",
       "      <td>-0.027884</td>\n",
       "      <td>-0.398322</td>\n",
       "      <td>1.101105</td>\n",
       "      <td>0.725929</td>\n",
       "      <td>-0.295741</td>\n",
       "      <td>0.281188</td>\n",
       "      <td>2.233303</td>\n",
       "      <td>1.189316</td>\n",
       "      <td>-1.274228</td>\n",
       "      <td>0.0</td>\n",
       "    </tr>\n",
       "    <tr>\n",
       "      <th>1</th>\n",
       "      <td>0.628391</td>\n",
       "      <td>0.786085</td>\n",
       "      <td>-0.777678</td>\n",
       "      <td>-1.184101</td>\n",
       "      <td>0.019168</td>\n",
       "      <td>-0.894502</td>\n",
       "      <td>1.106058</td>\n",
       "      <td>0.448211</td>\n",
       "      <td>-0.200467</td>\n",
       "      <td>0.725929</td>\n",
       "      <td>-0.295741</td>\n",
       "      <td>-0.296838</td>\n",
       "      <td>-0.211745</td>\n",
       "      <td>-0.453780</td>\n",
       "      <td>-1.274228</td>\n",
       "      <td>0.0</td>\n",
       "    </tr>\n",
       "    <tr>\n",
       "      <th>2</th>\n",
       "      <td>-0.967007</td>\n",
       "      <td>-1.015613</td>\n",
       "      <td>1.285879</td>\n",
       "      <td>-0.538286</td>\n",
       "      <td>-1.365566</td>\n",
       "      <td>-0.894502</td>\n",
       "      <td>-1.161826</td>\n",
       "      <td>0.647395</td>\n",
       "      <td>-0.279062</td>\n",
       "      <td>0.003901</td>\n",
       "      <td>0.186469</td>\n",
       "      <td>-0.612124</td>\n",
       "      <td>-0.692147</td>\n",
       "      <td>1.189316</td>\n",
       "      <td>0.784789</td>\n",
       "      <td>0.0</td>\n",
       "    </tr>\n",
       "    <tr>\n",
       "      <th>3</th>\n",
       "      <td>-0.967007</td>\n",
       "      <td>-1.012383</td>\n",
       "      <td>-0.777678</td>\n",
       "      <td>-0.623360</td>\n",
       "      <td>1.190867</td>\n",
       "      <td>-0.894502</td>\n",
       "      <td>1.106058</td>\n",
       "      <td>0.697191</td>\n",
       "      <td>0.538749</td>\n",
       "      <td>-0.718128</td>\n",
       "      <td>-0.295741</td>\n",
       "      <td>-0.086646</td>\n",
       "      <td>0.145138</td>\n",
       "      <td>-1.275327</td>\n",
       "      <td>-1.274228</td>\n",
       "      <td>0.0</td>\n",
       "    </tr>\n",
       "    <tr>\n",
       "      <th>4</th>\n",
       "      <td>1.160190</td>\n",
       "      <td>1.364395</td>\n",
       "      <td>-0.777678</td>\n",
       "      <td>0.504332</td>\n",
       "      <td>-0.193868</td>\n",
       "      <td>-0.894502</td>\n",
       "      <td>1.106058</td>\n",
       "      <td>1.842501</td>\n",
       "      <td>0.368408</td>\n",
       "      <td>-0.718128</td>\n",
       "      <td>-0.295741</td>\n",
       "      <td>1.489787</td>\n",
       "      <td>1.030368</td>\n",
       "      <td>0.367768</td>\n",
       "      <td>0.784789</td>\n",
       "      <td>0.0</td>\n",
       "    </tr>\n",
       "  </tbody>\n",
       "</table>\n",
       "</div>"
      ],
      "text/plain": [
       "   AFILIACI   ALTITUD      AREA  EDADDIAS   ENTIDAD  EST_MARG   EST_URB  \\\n",
       "0 -0.435208 -0.631150 -0.777678 -0.769910  1.403903 -0.894502 -0.027884   \n",
       "1  0.628391  0.786085 -0.777678 -1.184101  0.019168 -0.894502  1.106058   \n",
       "2 -0.967007 -1.015613  1.285879 -0.538286 -1.365566 -0.894502 -1.161826   \n",
       "3 -0.967007 -1.012383 -0.777678 -0.623360  1.190867 -0.894502  1.106058   \n",
       "4  1.160190  1.364395 -0.777678  0.504332 -0.193868 -0.894502  1.106058   \n",
       "\n",
       "         HB   INDICEF      INTP    LOCALI    MUNICI    PONDEF    REGION  \\\n",
       "0 -0.398322  1.101105  0.725929 -0.295741  0.281188  2.233303  1.189316   \n",
       "1  0.448211 -0.200467  0.725929 -0.295741 -0.296838 -0.211745 -0.453780   \n",
       "2  0.647395 -0.279062  0.003901  0.186469 -0.612124 -0.692147  1.189316   \n",
       "3  0.697191  0.538749 -0.718128 -0.295741 -0.086646  0.145138 -1.275327   \n",
       "4  1.842501  0.368408 -0.718128 -0.295741  1.489787  1.030368  0.367768   \n",
       "\n",
       "       SEXO  ANEMIA  \n",
       "0 -1.274228     0.0  \n",
       "1 -1.274228     0.0  \n",
       "2  0.784789     0.0  \n",
       "3 -1.274228     0.0  \n",
       "4  0.784789     0.0  "
      ]
     },
     "execution_count": 8,
     "metadata": {},
     "output_type": "execute_result"
    }
   ],
   "source": [
    "from sklearn import preprocessing\n",
    "from scipy.stats import zscore\n",
    "anemia_ndf = anemia_df.drop(columns=[\"ANEMIA\"]).apply(zscore)\n",
    "anemia_ndf['ANEMIA'] = anemia_df['ANEMIA']\n",
    "anemia_ndf.head()"
   ]
  },
  {
   "cell_type": "code",
   "execution_count": 9,
   "metadata": {},
   "outputs": [],
   "source": [
    "nx_values = anemia_ndf.drop(columns=['ANEMIA']) \n",
    "ny_values = anemia_ndf['ANEMIA']\n",
    "nx_train, nx_test, ny_train, ny_test = train_test_split(nx_values, ny_values, test_size=0.3, random_state=seed)"
   ]
  },
  {
   "cell_type": "code",
   "execution_count": 10,
   "metadata": {},
   "outputs": [
    {
     "name": "stdout",
     "output_type": "stream",
     "text": [
      "              precision    recall  f1-score   support\n",
      "\n",
      "           0       0.95      0.94      0.94       817\n",
      "           1       0.93      0.95      0.94       794\n",
      "\n",
      "   micro avg       0.94      0.94      0.94      1611\n",
      "   macro avg       0.94      0.94      0.94      1611\n",
      "weighted avg       0.94      0.94      0.94      1611\n",
      "\n",
      "Accuracy: 0.9422718808193669\n"
     ]
    },
    {
     "data": {
      "image/png": "[encoded data removed]",
      "text/plain": [
       "<Figure size 432x288 with 2 Axes>"
      ]
     },
     "metadata": {
      "needs_background": "light"
     },
     "output_type": "display_data"
    }
   ],
   "source": [
    "lr_model = RandomForestClassifier(n_estimators=100, max_depth=5, random_state=0)\n",
    "lr_model.fit(nx_train, ny_train)\n",
    "ny_pred = lr_model.predict(nx_test)\n",
    "print_metrics(ny_test, ny_pred)"
   ]
  },
  {
   "cell_type": "code",
   "execution_count": 11,
   "metadata": {},
   "outputs": [
    {
     "data": {
      "image/png": "[encoded data removed]",
      "text/plain": [
       "<Figure size 432x288 with 1 Axes>"
      ]
     },
     "metadata": {
      "needs_background": "light"
     },
     "output_type": "display_data"
    }
   ],
   "source": [
    "plot_roc(ny_test, ny_pred, 'Random Forest - Normalized')"
   ]
  },
  {
   "cell_type": "code",
   "execution_count": 14,
   "metadata": {},
   "outputs": [],
   "source": [
    "from sklearn import metrics\n",
    "\n",
    "def aucGraph(y_test,y_pred_prob,mod):\n",
    "    lw=2\n",
    "    fpr,tpr,thresholds=metrics.roc_curve(y_test,y_pred_prob)\n",
    "    print(thresholds)\n",
    "    plt.plot(fpr,tpr,lw=lw,color=\"red\",label='ROC curve (area = %0.2f)' % metrics.auc(fpr, tpr))\n",
    "    plt.xlim([0.0,1.0])\n",
    "    plt.ylim([0.0,1.0])\n",
    "    plt.plot([0, 1], [0, 1], color='navy', lw=lw, linestyle='--')\n",
    "    string=\"ROC curve for\"+mod\n",
    "    plt.title(string)\n",
    "    plt.xlabel(\"false positive Rate 1- specfity\")\n",
    "    plt.ylabel(\"True positive rate (sensitivity)\")\n",
    "    plt.grid(True)\n",
    "    plt.legend(loc=\"lower right\")\n",
    "    plt.show()"
   ]
  },
  {
   "cell_type": "code",
   "execution_count": 15,
   "metadata": {},
   "outputs": [
    {
     "name": "stdout",
     "output_type": "stream",
     "text": [
      "[ 2.  1.  0.]\n"
     ]
    },
    {
     "data": {
      "image/png": "[encoded data removed]",
      "text/plain": [
       "<Figure size 432x288 with 1 Axes>"
      ]
     },
     "metadata": {
      "needs_background": "light"
     },
     "output_type": "display_data"
    }
   ],
   "source": [
    "aucGraph(ny_test, ny_pred, 'Random Forest - Normalized')"
   ]
  },
  {
   "cell_type": "code",
   "execution_count": null,
   "metadata": {},
   "outputs": [],
   "source": []
  }
 ],
 "metadata": {
  "kernelspec": {
   "display_name": "Python 3",
   "language": "python",
   "name": "python3"
  },
  "language_info": {
   "codemirror_mode": {
    "name": "ipython",
    "version": 3
   },
   "file_extension": ".py",
   "mimetype": "text/x-python",
   "name": "python",
   "nbconvert_exporter": "python",
   "pygments_lexer": "ipython3",
   "version": "3.5.6"
  }
 },
 "nbformat": 4,
 "nbformat_minor": 2
}
