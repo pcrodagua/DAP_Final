{
 "cells": [
  {
   "cell_type": "code",
   "execution_count": 1,
   "metadata": {},
   "outputs": [],
   "source": [
    "from sklearn.model_selection import train_test_split\n",
    "from sklearn.metrics import mean_squared_error\n",
    "from sklearn import linear_model\n",
    "from sklearn import datasets\n",
    "from math import sqrt\n",
    "\n",
    "import matplotlib.pyplot as plt\n",
    "import statsmodels.api as sm\n",
    "import scipy.optimize as opt\n",
    "from scipy import stats\n",
    "import seaborn as sns\n",
    "import pandas as pd\n",
    "import numpy as np\n",
    "\n",
    "sns.set_style(\"ticks\")\n",
    "%matplotlib inline"
   ]
  },
  {
   "cell_type": "code",
   "execution_count": 2,
   "metadata": {},
   "outputs": [],
   "source": [
    "from sklearn.svm import SVC\n",
    "from sklearn.model_selection import cross_val_score\n",
    "from sklearn.metrics import accuracy_score, classification_report, confusion_matrix, roc_curve, roc_auc_score"
   ]
  },
  {
   "cell_type": "markdown",
   "metadata": {},
   "source": [
    "## Data Split"
   ]
  },
  {
   "cell_type": "code",
   "execution_count": 3,
   "metadata": {},
   "outputs": [],
   "source": [
    "anemia_df = pd.read_csv('../data/clean/anemia_balanced_clean.csv', index_col=False)\n",
    "x_values = anemia_df.drop(columns=[\"ANEMIA\"])\n",
    "x_values = anemia_df[['INTP', 'SEXO', 'EST_URB', 'EST_MARG', 'HB']]\n",
    "y_values = anemia_df[\"ANEMIA\"]"
   ]
  },
  {
   "cell_type": "code",
   "execution_count": 4,
   "metadata": {},
   "outputs": [],
   "source": [
    "# Data Split\n",
    "from sklearn.model_selection import train_test_split\n",
    "seed = 1234\n",
    "x_train, x_test, y_train, y_test = train_test_split(x_values, y_values, test_size=0.3, random_state=seed)"
   ]
  },
  {
   "cell_type": "markdown",
   "metadata": {},
   "source": [
    "## Metrics Used"
   ]
  },
  {
   "cell_type": "code",
   "execution_count": 5,
   "metadata": {},
   "outputs": [],
   "source": [
    "def print_metrics(y_test, y_pred):\n",
    "    cm = confusion_matrix(y_test, y_pred=y_pred)\n",
    "    sns.heatmap(cm, annot=True)\n",
    "    target_names = ['0', '1']\n",
    "    print(classification_report(y_test, y_pred, target_names=target_names))\n",
    "    print('Accuracy: {0}'.format(accuracy_score(y_test, y_pred)))\n",
    "    \n",
    "def plot_roc(y_test, y_pred, model):\n",
    "    # calculate roc curve\n",
    "    fpr, tpr, thresholds = roc_curve(y_test, y_pred)\n",
    "    auc = roc_auc_score(y_test, y_pred)\n",
    "\n",
    "    plt.plot([0, 1], [0, 1], color='red', linestyle='--')\n",
    "    plt.plot(fpr, tpr, marker='.', label = 'AUC: %0.2f' % auc, color= 'green')\n",
    "    plt.title('{0} (ROC + AUC)'.format(model))\n",
    "    plt.xlabel('False Positive Rate (x)')\n",
    "    plt.ylabel('True Positive Rate (y)')\n",
    "    plt.legend(loc=\"lower right\")\n",
    "    plt.grid()\n",
    "    plt.show()"
   ]
  },
  {
   "cell_type": "markdown",
   "metadata": {},
   "source": [
    "## Support Vector Machine (No Normalized)"
   ]
  },
  {
   "cell_type": "code",
   "execution_count": 6,
   "metadata": {},
   "outputs": [
    {
     "name": "stderr",
     "output_type": "stream",
     "text": [
      "/home/ospcx/anaconda3/envs/pyml/lib/python3.5/site-packages/sklearn/svm/base.py:196: FutureWarning: The default value of gamma will change from 'auto' to 'scale' in version 0.22 to account better for unscaled features. Set gamma explicitly to 'auto' or 'scale' to avoid this warning.\n",
      "  \"avoid this warning.\", FutureWarning)\n"
     ]
    },
    {
     "name": "stdout",
     "output_type": "stream",
     "text": [
      "              precision    recall  f1-score   support\n",
      "\n",
      "           0       0.87      0.89      0.88       490\n",
      "           1       0.90      0.88      0.89       544\n",
      "\n",
      "   micro avg       0.88      0.88      0.88      1034\n",
      "   macro avg       0.88      0.88      0.88      1034\n",
      "weighted avg       0.88      0.88      0.88      1034\n",
      "\n",
      "Accuracy: 0.8820116054158608\n"
     ]
    },
    {
     "data": {
      "image/png": "[encoded data removed]",
      "text/plain": [
       "<Figure size 432x288 with 2 Axes>"
      ]
     },
     "metadata": {
      "needs_background": "light"
     },
     "output_type": "display_data"
    }
   ],
   "source": [
    "lr_model = SVC()\n",
    "lr_model.fit(x_train, y_train)\n",
    "y_pred = lr_model.predict(x_test)\n",
    "print_metrics(y_test, y_pred)"
   ]
  },
  {
   "cell_type": "code",
   "execution_count": 28,
   "metadata": {},
   "outputs": [
    {
     "data": {
      "image/png": "[encoded data removed]",
      "text/plain": [
       "<Figure size 432x288 with 1 Axes>"
      ]
     },
     "metadata": {
      "needs_background": "light"
     },
     "output_type": "display_data"
    }
   ],
   "source": [
    "plot_roc(y_test, y_pred, 'SVM')"
   ]
  },
  {
   "cell_type": "markdown",
   "metadata": {},
   "source": [
    "## Logistic Regression (Normalized Z-Score)"
   ]
  },
  {
   "cell_type": "code",
   "execution_count": 8,
   "metadata": {},
   "outputs": [
    {
     "data": {
      "text/html": [
       "<div>\n",
       "<style scoped>\n",
       "    .dataframe tbody tr th:only-of-type {\n",
       "        vertical-align: middle;\n",
       "    }\n",
       "\n",
       "    .dataframe tbody tr th {\n",
       "        vertical-align: top;\n",
       "    }\n",
       "\n",
       "    .dataframe thead th {\n",
       "        text-align: right;\n",
       "    }\n",
       "</style>\n",
       "<table border=\"1\" class=\"dataframe\">\n",
       "  <thead>\n",
       "    <tr style=\"text-align: right;\">\n",
       "      <th></th>\n",
       "      <th>INTP</th>\n",
       "      <th>ENTIDAD</th>\n",
       "      <th>MUNICI</th>\n",
       "      <th>LOCALI</th>\n",
       "      <th>ALTITUD</th>\n",
       "      <th>SEXO</th>\n",
       "      <th>EDADDIAS</th>\n",
       "      <th>EST_URB</th>\n",
       "      <th>EST_MARG</th>\n",
       "      <th>PONDEF</th>\n",
       "      <th>AREA</th>\n",
       "      <th>REGION</th>\n",
       "      <th>INDICEF</th>\n",
       "      <th>AFILIACI</th>\n",
       "      <th>HB</th>\n",
       "      <th>ANEMIA</th>\n",
       "    </tr>\n",
       "  </thead>\n",
       "  <tbody>\n",
       "    <tr>\n",
       "      <th>0</th>\n",
       "      <td>-1.133700</td>\n",
       "      <td>-0.044379</td>\n",
       "      <td>1.097101</td>\n",
       "      <td>0.314451</td>\n",
       "      <td>1.490116</td>\n",
       "      <td>-0.970262</td>\n",
       "      <td>0.162654</td>\n",
       "      <td>-1.121081</td>\n",
       "      <td>1.096962</td>\n",
       "      <td>-0.383646</td>\n",
       "      <td>1.228752</td>\n",
       "      <td>-0.448387</td>\n",
       "      <td>-1.023651</td>\n",
       "      <td>0.479607</td>\n",
       "      <td>1.389024</td>\n",
       "      <td>0.0</td>\n",
       "    </tr>\n",
       "    <tr>\n",
       "      <th>1</th>\n",
       "      <td>1.135346</td>\n",
       "      <td>0.823923</td>\n",
       "      <td>-0.394738</td>\n",
       "      <td>-0.174607</td>\n",
       "      <td>-0.799723</td>\n",
       "      <td>-0.970262</td>\n",
       "      <td>-0.850721</td>\n",
       "      <td>-1.121081</td>\n",
       "      <td>1.096962</td>\n",
       "      <td>-0.622282</td>\n",
       "      <td>1.228752</td>\n",
       "      <td>-0.448387</td>\n",
       "      <td>-1.008085</td>\n",
       "      <td>0.479607</td>\n",
       "      <td>-0.218353</td>\n",
       "      <td>0.0</td>\n",
       "    </tr>\n",
       "    <tr>\n",
       "      <th>2</th>\n",
       "      <td>0.000823</td>\n",
       "      <td>1.040998</td>\n",
       "      <td>-0.105504</td>\n",
       "      <td>0.027226</td>\n",
       "      <td>-1.119514</td>\n",
       "      <td>-0.970262</td>\n",
       "      <td>-0.034325</td>\n",
       "      <td>-1.121081</td>\n",
       "      <td>1.096962</td>\n",
       "      <td>-0.665360</td>\n",
       "      <td>1.228752</td>\n",
       "      <td>-1.279554</td>\n",
       "      <td>-0.380735</td>\n",
       "      <td>0.479607</td>\n",
       "      <td>0.360302</td>\n",
       "      <td>0.0</td>\n",
       "    </tr>\n",
       "    <tr>\n",
       "      <th>3</th>\n",
       "      <td>0.568085</td>\n",
       "      <td>-0.152917</td>\n",
       "      <td>-0.394738</td>\n",
       "      <td>-0.124149</td>\n",
       "      <td>1.550145</td>\n",
       "      <td>1.030649</td>\n",
       "      <td>0.708500</td>\n",
       "      <td>-1.121081</td>\n",
       "      <td>1.096962</td>\n",
       "      <td>1.286565</td>\n",
       "      <td>1.228752</td>\n",
       "      <td>-0.448387</td>\n",
       "      <td>-1.302519</td>\n",
       "      <td>-0.349970</td>\n",
       "      <td>1.710499</td>\n",
       "      <td>0.0</td>\n",
       "    </tr>\n",
       "    <tr>\n",
       "      <th>4</th>\n",
       "      <td>2.269869</td>\n",
       "      <td>1.149536</td>\n",
       "      <td>-0.486075</td>\n",
       "      <td>-0.240591</td>\n",
       "      <td>-1.129337</td>\n",
       "      <td>-0.970262</td>\n",
       "      <td>-0.921918</td>\n",
       "      <td>-0.002273</td>\n",
       "      <td>-0.911609</td>\n",
       "      <td>-0.079317</td>\n",
       "      <td>-0.813834</td>\n",
       "      <td>1.213949</td>\n",
       "      <td>1.554346</td>\n",
       "      <td>0.479607</td>\n",
       "      <td>0.231712</td>\n",
       "      <td>0.0</td>\n",
       "    </tr>\n",
       "  </tbody>\n",
       "</table>\n",
       "</div>"
      ],
      "text/plain": [
       "       INTP   ENTIDAD    MUNICI    LOCALI   ALTITUD      SEXO  EDADDIAS  \\\n",
       "0 -1.133700 -0.044379  1.097101  0.314451  1.490116 -0.970262  0.162654   \n",
       "1  1.135346  0.823923 -0.394738 -0.174607 -0.799723 -0.970262 -0.850721   \n",
       "2  0.000823  1.040998 -0.105504  0.027226 -1.119514 -0.970262 -0.034325   \n",
       "3  0.568085 -0.152917 -0.394738 -0.124149  1.550145  1.030649  0.708500   \n",
       "4  2.269869  1.149536 -0.486075 -0.240591 -1.129337 -0.970262 -0.921918   \n",
       "\n",
       "    EST_URB  EST_MARG    PONDEF      AREA    REGION   INDICEF  AFILIACI  \\\n",
       "0 -1.121081  1.096962 -0.383646  1.228752 -0.448387 -1.023651  0.479607   \n",
       "1 -1.121081  1.096962 -0.622282  1.228752 -0.448387 -1.008085  0.479607   \n",
       "2 -1.121081  1.096962 -0.665360  1.228752 -1.279554 -0.380735  0.479607   \n",
       "3 -1.121081  1.096962  1.286565  1.228752 -0.448387 -1.302519 -0.349970   \n",
       "4 -0.002273 -0.911609 -0.079317 -0.813834  1.213949  1.554346  0.479607   \n",
       "\n",
       "         HB  ANEMIA  \n",
       "0  1.389024     0.0  \n",
       "1 -0.218353     0.0  \n",
       "2  0.360302     0.0  \n",
       "3  1.710499     0.0  \n",
       "4  0.231712     0.0  "
      ]
     },
     "execution_count": 8,
     "metadata": {},
     "output_type": "execute_result"
    }
   ],
   "source": [
    "from sklearn import preprocessing\n",
    "from scipy.stats import zscore\n",
    "anemia_ndf = anemia_df.drop(columns=[\"ANEMIA\"]).apply(zscore)\n",
    "anemia_ndf['ANEMIA'] = anemia_df['ANEMIA']\n",
    "anemia_ndf.head()"
   ]
  },
  {
   "cell_type": "code",
   "execution_count": 9,
   "metadata": {},
   "outputs": [],
   "source": [
    "nx_values = anemia_ndf.drop(columns=['ANEMIA']) \n",
    "ny_values = anemia_ndf['ANEMIA']\n",
    "nx_train, nx_test, ny_train, ny_test = train_test_split(nx_values, ny_values, test_size=0.3, random_state=seed)"
   ]
  },
  {
   "cell_type": "code",
   "execution_count": 10,
   "metadata": {},
   "outputs": [
    {
     "name": "stderr",
     "output_type": "stream",
     "text": [
      "/home/ospcx/anaconda3/envs/pyml/lib/python3.5/site-packages/sklearn/svm/base.py:196: FutureWarning: The default value of gamma will change from 'auto' to 'scale' in version 0.22 to account better for unscaled features. Set gamma explicitly to 'auto' or 'scale' to avoid this warning.\n",
      "  \"avoid this warning.\", FutureWarning)\n"
     ]
    },
    {
     "name": "stdout",
     "output_type": "stream",
     "text": [
      "              precision    recall  f1-score   support\n",
      "\n",
      "           0       0.98      0.92      0.95       490\n",
      "           1       0.93      0.98      0.96       544\n",
      "\n",
      "   micro avg       0.95      0.95      0.95      1034\n",
      "   macro avg       0.95      0.95      0.95      1034\n",
      "weighted avg       0.95      0.95      0.95      1034\n",
      "\n",
      "Accuracy: 0.9526112185686654\n"
     ]
    },
    {
     "data": {
      "image/png": "[encoded data removed]",
      "text/plain": [
       "<Figure size 432x288 with 2 Axes>"
      ]
     },
     "metadata": {
      "needs_background": "light"
     },
     "output_type": "display_data"
    }
   ],
   "source": [
    "lr_model = SVC()\n",
    "lr_model.fit(nx_train, ny_train)\n",
    "ny_pred = lr_model.predict(nx_test)\n",
    "print_metrics(ny_test, ny_pred)"
   ]
  },
  {
   "cell_type": "code",
   "execution_count": 26,
   "metadata": {},
   "outputs": [
    {
     "data": {
      "image/png": "[encoded data removed]",
      "text/plain": [
       "<Figure size 432x288 with 1 Axes>"
      ]
     },
     "metadata": {
      "needs_background": "light"
     },
     "output_type": "display_data"
    }
   ],
   "source": [
    "plot_roc(ny_test, ny_pred, 'SVM - Normalized')"
   ]
  },
  {
   "cell_type": "markdown",
   "metadata": {},
   "source": [
    "## IMPROVING THE MODEL"
   ]
  },
  {
   "cell_type": "code",
   "execution_count": 15,
   "metadata": {},
   "outputs": [],
   "source": [
    "from sklearn.model_selection import GridSearchCV"
   ]
  },
  {
   "cell_type": "code",
   "execution_count": 20,
   "metadata": {},
   "outputs": [
    {
     "name": "stderr",
     "output_type": "stream",
     "text": [
      "/home/ospcx/anaconda3/envs/pyml/lib/python3.5/site-packages/sklearn/model_selection/_split.py:1943: FutureWarning: You should specify a value for 'cv' instead of relying on the default value. The default value will change from 3 to 5 in version 0.22.\n",
      "  warnings.warn(CV_WARNING, FutureWarning)\n",
      "[Parallel(n_jobs=1)]: Using backend SequentialBackend with 1 concurrent workers.\n"
     ]
    },
    {
     "name": "stdout",
     "output_type": "stream",
     "text": [
      "Fitting 3 folds for each of 16 candidates, totalling 48 fits\n",
      "[CV] kernel=rbf, C=0.1, gamma=1 ......................................\n",
      "[CV]  kernel=rbf, C=0.1, gamma=1, score=0.5111940298507462, total=   0.3s\n",
      "[CV] kernel=rbf, C=0.1, gamma=1 ......................................\n"
     ]
    },
    {
     "name": "stderr",
     "output_type": "stream",
     "text": [
      "[Parallel(n_jobs=1)]: Done   1 out of   1 | elapsed:    0.4s remaining:    0.0s\n"
     ]
    },
    {
     "name": "stdout",
     "output_type": "stream",
     "text": [
      "[CV]  kernel=rbf, C=0.1, gamma=1, score=0.5111940298507462, total=   0.2s\n",
      "[CV] kernel=rbf, C=0.1, gamma=1 ......................................\n"
     ]
    },
    {
     "name": "stderr",
     "output_type": "stream",
     "text": [
      "[Parallel(n_jobs=1)]: Done   2 out of   2 | elapsed:    0.8s remaining:    0.0s\n"
     ]
    },
    {
     "name": "stdout",
     "output_type": "stream",
     "text": [
      "[CV]  kernel=rbf, C=0.1, gamma=1, score=0.5111940298507462, total=   0.2s\n",
      "[CV] kernel=rbf, C=0.1, gamma=0.1 ....................................\n"
     ]
    },
    {
     "name": "stderr",
     "output_type": "stream",
     "text": [
      "[Parallel(n_jobs=1)]: Done   3 out of   3 | elapsed:    1.1s remaining:    0.0s\n"
     ]
    },
    {
     "name": "stdout",
     "output_type": "stream",
     "text": [
      "[CV]  kernel=rbf, C=0.1, gamma=0.1, score=0.914179104477612, total=   0.2s\n",
      "[CV] kernel=rbf, C=0.1, gamma=0.1 ....................................\n",
      "[CV]  kernel=rbf, C=0.1, gamma=0.1, score=0.917910447761194, total=   0.2s\n",
      "[CV] kernel=rbf, C=0.1, gamma=0.1 ....................................\n",
      "[CV]  kernel=rbf, C=0.1, gamma=0.1, score=0.917910447761194, total=   0.2s\n",
      "[CV] kernel=rbf, C=0.1, gamma=0.01 ...................................\n",
      "[CV]  kernel=rbf, C=0.1, gamma=0.01, score=0.9216417910447762, total=   0.2s\n",
      "[CV] kernel=rbf, C=0.1, gamma=0.01 ...................................\n",
      "[CV]  kernel=rbf, C=0.1, gamma=0.01, score=0.9191542288557214, total=   0.2s\n",
      "[CV] kernel=rbf, C=0.1, gamma=0.01 ...................................\n",
      "[CV]  kernel=rbf, C=0.1, gamma=0.01, score=0.9154228855721394, total=   0.2s\n",
      "[CV] kernel=rbf, C=0.1, gamma=0.001 ..................................\n",
      "[CV]  kernel=rbf, C=0.1, gamma=0.001, score=0.5509950248756219, total=   0.2s\n",
      "[CV] kernel=rbf, C=0.1, gamma=0.001 ..................................\n",
      "[CV]  kernel=rbf, C=0.1, gamma=0.001, score=0.5534825870646766, total=   0.2s\n",
      "[CV] kernel=rbf, C=0.1, gamma=0.001 ..................................\n",
      "[CV]  kernel=rbf, C=0.1, gamma=0.001, score=0.5559701492537313, total=   0.2s\n",
      "[CV] kernel=rbf, C=1, gamma=1 ........................................\n",
      "[CV]  kernel=rbf, C=1, gamma=1, score=0.7972636815920398, total=   0.2s\n",
      "[CV] kernel=rbf, C=1, gamma=1 ........................................\n",
      "[CV] ............. kernel=rbf, C=1, gamma=1, score=0.75, total=   0.2s\n",
      "[CV] kernel=rbf, C=1, gamma=1 ........................................\n",
      "[CV]  kernel=rbf, C=1, gamma=1, score=0.7798507462686567, total=   0.3s\n",
      "[CV] kernel=rbf, C=1, gamma=0.1 ......................................\n",
      "[CV]  kernel=rbf, C=1, gamma=0.1, score=0.9477611940298507, total=   0.1s\n",
      "[CV] kernel=rbf, C=1, gamma=0.1 ......................................\n",
      "[CV]  kernel=rbf, C=1, gamma=0.1, score=0.945273631840796, total=   0.1s\n",
      "[CV] kernel=rbf, C=1, gamma=0.1 ......................................\n",
      "[CV]  kernel=rbf, C=1, gamma=0.1, score=0.9440298507462687, total=   0.1s\n",
      "[CV] kernel=rbf, C=1, gamma=0.01 .....................................\n",
      "[CV]  kernel=rbf, C=1, gamma=0.01, score=0.9651741293532339, total=   0.1s\n",
      "[CV] kernel=rbf, C=1, gamma=0.01 .....................................\n",
      "[CV]  kernel=rbf, C=1, gamma=0.01, score=0.9601990049751243, total=   0.1s\n",
      "[CV] kernel=rbf, C=1, gamma=0.01 .....................................\n",
      "[CV]  kernel=rbf, C=1, gamma=0.01, score=0.9527363184079602, total=   0.1s\n",
      "[CV] kernel=rbf, C=1, gamma=0.001 ....................................\n",
      "[CV]  kernel=rbf, C=1, gamma=0.001, score=0.9378109452736318, total=   0.2s\n",
      "[CV] kernel=rbf, C=1, gamma=0.001 ....................................\n",
      "[CV]  kernel=rbf, C=1, gamma=0.001, score=0.927860696517413, total=   0.2s\n",
      "[CV] kernel=rbf, C=1, gamma=0.001 ....................................\n",
      "[CV]  kernel=rbf, C=1, gamma=0.001, score=0.9253731343283582, total=   0.2s\n",
      "[CV] kernel=rbf, C=10, gamma=1 .......................................\n",
      "[CV]  kernel=rbf, C=10, gamma=1, score=0.7997512437810945, total=   0.2s\n",
      "[CV] kernel=rbf, C=10, gamma=1 .......................................\n",
      "[CV]  kernel=rbf, C=10, gamma=1, score=0.7549751243781094, total=   0.3s\n",
      "[CV] kernel=rbf, C=10, gamma=1 .......................................\n",
      "[CV]  kernel=rbf, C=10, gamma=1, score=0.7873134328358209, total=   0.2s\n",
      "[CV] kernel=rbf, C=10, gamma=0.1 .....................................\n",
      "[CV]  kernel=rbf, C=10, gamma=0.1, score=0.9552238805970149, total=   0.1s\n",
      "[CV] kernel=rbf, C=10, gamma=0.1 .....................................\n",
      "[CV]  kernel=rbf, C=10, gamma=0.1, score=0.9639303482587065, total=   0.1s\n",
      "[CV] kernel=rbf, C=10, gamma=0.1 .....................................\n",
      "[CV]  kernel=rbf, C=10, gamma=0.1, score=0.945273631840796, total=   0.1s\n",
      "[CV] kernel=rbf, C=10, gamma=0.01 ....................................\n",
      "[CV]  kernel=rbf, C=10, gamma=0.01, score=0.9713930348258707, total=   0.1s\n",
      "[CV] kernel=rbf, C=10, gamma=0.01 ....................................\n",
      "[CV]  kernel=rbf, C=10, gamma=0.01, score=0.9713930348258707, total=   0.1s\n",
      "[CV] kernel=rbf, C=10, gamma=0.01 ....................................\n",
      "[CV]  kernel=rbf, C=10, gamma=0.01, score=0.9738805970149254, total=   0.1s\n",
      "[CV] kernel=rbf, C=10, gamma=0.001 ...................................\n",
      "[CV]  kernel=rbf, C=10, gamma=0.001, score=0.9614427860696517, total=   0.1s\n",
      "[CV] kernel=rbf, C=10, gamma=0.001 ...................................\n",
      "[CV]  kernel=rbf, C=10, gamma=0.001, score=0.9626865671641791, total=   0.1s\n",
      "[CV] kernel=rbf, C=10, gamma=0.001 ...................................\n",
      "[CV]  kernel=rbf, C=10, gamma=0.001, score=0.9577114427860697, total=   0.1s\n",
      "[CV] kernel=rbf, C=100, gamma=1 ......................................\n",
      "[CV]  kernel=rbf, C=100, gamma=1, score=0.7997512437810945, total=   0.3s\n",
      "[CV] kernel=rbf, C=100, gamma=1 ......................................\n",
      "[CV]  kernel=rbf, C=100, gamma=1, score=0.7549751243781094, total=   0.3s\n",
      "[CV] kernel=rbf, C=100, gamma=1 ......................................\n",
      "[CV]  kernel=rbf, C=100, gamma=1, score=0.7873134328358209, total=   0.3s\n",
      "[CV] kernel=rbf, C=100, gamma=0.1 ....................................\n",
      "[CV]  kernel=rbf, C=100, gamma=0.1, score=0.9502487562189055, total=   0.1s\n",
      "[CV] kernel=rbf, C=100, gamma=0.1 ....................................\n",
      "[CV]  kernel=rbf, C=100, gamma=0.1, score=0.9552238805970149, total=   0.1s\n",
      "[CV] kernel=rbf, C=100, gamma=0.1 ....................................\n",
      "[CV]  kernel=rbf, C=100, gamma=0.1, score=0.9427860696517413, total=   0.1s\n",
      "[CV] kernel=rbf, C=100, gamma=0.01 ...................................\n",
      "[CV]  kernel=rbf, C=100, gamma=0.01, score=0.9751243781094527, total=   0.1s\n",
      "[CV] kernel=rbf, C=100, gamma=0.01 ...................................\n",
      "[CV]  kernel=rbf, C=100, gamma=0.01, score=0.9800995024875622, total=   0.1s\n",
      "[CV] kernel=rbf, C=100, gamma=0.01 ...................................\n",
      "[CV]  kernel=rbf, C=100, gamma=0.01, score=0.9701492537313433, total=   0.0s\n",
      "[CV] kernel=rbf, C=100, gamma=0.001 ..................................\n",
      "[CV]  kernel=rbf, C=100, gamma=0.001, score=0.9713930348258707, total=   0.1s\n",
      "[CV] kernel=rbf, C=100, gamma=0.001 ..................................\n",
      "[CV]  kernel=rbf, C=100, gamma=0.001, score=0.9776119402985075, total=   0.1s\n",
      "[CV] kernel=rbf, C=100, gamma=0.001 ..................................\n",
      "[CV]  kernel=rbf, C=100, gamma=0.001, score=0.972636815920398, total=   0.0s\n"
     ]
    },
    {
     "name": "stderr",
     "output_type": "stream",
     "text": [
      "[Parallel(n_jobs=1)]: Done  48 out of  48 | elapsed:   10.7s finished\n"
     ]
    },
    {
     "data": {
      "text/plain": [
       "{'C': 100, 'gamma': 0.01, 'kernel': 'rbf'}"
      ]
     },
     "execution_count": 20,
     "metadata": {},
     "output_type": "execute_result"
    }
   ],
   "source": [
    "param_grid = {'C':[0.1,1,10,100], 'gamma':[1, 0.1, 0.01, 0.001], 'kernel': ['rbf']}\n",
    "grid = GridSearchCV(SVC(), param_grid, refit=True, verbose=4)\n",
    "grid.fit(nx_train, ny_train)\n",
    "grid.best_params_"
   ]
  },
  {
   "cell_type": "code",
   "execution_count": 22,
   "metadata": {},
   "outputs": [
    {
     "data": {
      "text/plain": [
       "<matplotlib.axes._subplots.AxesSubplot at 0x7f2061fbd668>"
      ]
     },
     "execution_count": 22,
     "metadata": {},
     "output_type": "execute_result"
    },
    {
     "data": {
      "image/png": "[encoded data removed]",
      "text/plain": [
       "<Figure size 432x288 with 2 Axes>"
      ]
     },
     "metadata": {
      "needs_background": "light"
     },
     "output_type": "display_data"
    }
   ],
   "source": [
    "grid_predictions = grid.predict(nx_test)\n",
    "cm = confusion_matrix(y_test, grid_predictions)\n",
    "sns.heatmap(cm, annot=True)"
   ]
  },
  {
   "cell_type": "code",
   "execution_count": 23,
   "metadata": {},
   "outputs": [
    {
     "name": "stdout",
     "output_type": "stream",
     "text": [
      "              precision    recall  f1-score   support\n",
      "\n",
      "           0       0.99      0.97      0.98       490\n",
      "           1       0.97      0.99      0.98       544\n",
      "\n",
      "   micro avg       0.98      0.98      0.98      1034\n",
      "   macro avg       0.98      0.98      0.98      1034\n",
      "weighted avg       0.98      0.98      0.98      1034\n",
      "\n",
      "Accuracy: 0.9787234042553191\n"
     ]
    },
    {
     "data": {
      "image/png": "[encoded data removed]",
      "text/plain": [
       "<Figure size 432x288 with 2 Axes>"
      ]
     },
     "metadata": {
      "needs_background": "light"
     },
     "output_type": "display_data"
    }
   ],
   "source": [
    "print_metrics(ny_test, grid_predictions)"
   ]
  },
  {
   "cell_type": "code",
   "execution_count": 25,
   "metadata": {},
   "outputs": [
    {
     "data": {
      "image/png": "[encoded data removed]",
      "text/plain": [
       "<Figure size 432x288 with 1 Axes>"
      ]
     },
     "metadata": {
      "needs_background": "light"
     },
     "output_type": "display_data"
    }
   ],
   "source": [
    "plot_roc(ny_test, ny_pred, 'SVM - Grid Search')"
   ]
  },
  {
   "cell_type": "code",
   "execution_count": null,
   "metadata": {},
   "outputs": [],
   "source": []
  }
 ],
 "metadata": {
  "kernelspec": {
   "display_name": "Python [conda env:pyml]",
   "language": "python",
   "name": "conda-env-pyml-py"
  },
  "language_info": {
   "codemirror_mode": {
    "name": "ipython",
    "version": 3
   },
   "file_extension": ".py",
   "mimetype": "text/x-python",
   "name": "python",
   "nbconvert_exporter": "python",
   "pygments_lexer": "ipython3",
   "version": "3.5.6"
  }
 },
 "nbformat": 4,
 "nbformat_minor": 2
}
