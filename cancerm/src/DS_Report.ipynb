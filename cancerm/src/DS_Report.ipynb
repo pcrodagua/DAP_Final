{
 "cells": [
  {
   "cell_type": "markdown",
   "metadata": {},
   "source": [
    "## 1. Business Understanding(Problem Description)"
   ]
  },
  {
   "cell_type": "markdown",
   "metadata": {},
   "source": [
    "### 1.1 Determine business objetives(Research Objetive)"
   ]
  },
  {
   "cell_type": "code",
   "execution_count": null,
   "metadata": {},
   "outputs": [],
   "source": []
  },
  {
   "cell_type": "markdown",
   "metadata": {},
   "source": [
    "### 1.2 Assess situation"
   ]
  },
  {
   "cell_type": "code",
   "execution_count": null,
   "metadata": {},
   "outputs": [],
   "source": []
  },
  {
   "cell_type": "markdown",
   "metadata": {},
   "source": [
    "### 1.3 Determine Data Mining Goals"
   ]
  },
  {
   "cell_type": "code",
   "execution_count": null,
   "metadata": {},
   "outputs": [],
   "source": []
  },
  {
   "cell_type": "markdown",
   "metadata": {},
   "source": [
    "## 2. Data Understanding"
   ]
  },
  {
   "cell_type": "markdown",
   "metadata": {},
   "source": [
    "The data understanding phase starts with an initial data collection and proceeds with\n",
    "data related to mammography in order to get familiar with the data, to identify data quality problems, to\n",
    "discover first insights into the data or to detect interesting subsets to form hypothesis\n",
    "for hidden information."
   ]
  },
  {
   "cell_type": "markdown",
   "metadata": {},
   "source": [
    "### 2.1 Collect Initial Data"
   ]
  },
  {
   "cell_type": "markdown",
   "metadata": {},
   "source": [
    "BCDR-D01 (Digital Mammography dataset number 1) is the first dataset of BCDR for full-field\n",
    "digital mammography and is composed by 79 biopsy-proven lesions of 64 women, rendering\n",
    "143 segmentations (average of 1.81 images per lesion) including clinical data and image-based\n",
    "descriptors. All lesions are nodules or a combination of nodules with other abnormalities. The\n",
    "raw images (craniocaudal and mediolateral oblique mammograms) associated to BCDR-D01\n",
    "dataset are also available together with the coordinates of the lesion’s contours and numerical\n",
    "anonymous identifiers for linking instances and lesions. __BCDR-D01 is a binary class dataset\n",
    "due to the initial BI-RADS classification of the radiologist being replaced by the result of the\n",
    "biopsy (Benign vs. Malign finding)__. Missing values are represented by the text __NaN__ (not a\n",
    "number). The attributes of the dataset are described at the end of the document."
   ]
  },
  {
   "cell_type": "markdown",
   "metadata": {},
   "source": [
    "### 2.2 Describe Data***"
   ]
  },
  {
   "cell_type": "markdown",
   "metadata": {},
   "source": [
    "The data used in this research was obtained from the Breast Cancer Digital Repository\n",
    "(bcdr.inegi.up.pt). \n",
    "\n",
    "**Clinical and general data**\n",
    "\n",
    "- **Age:** The age of the patient at the time of the study\n",
    "- **Breast Density:** The density of the breast at the time of the study according to the BI- **RADS standard\n",
    "- **Mammography Nodule:** The lesion contains a mass \n",
    "- **Mammography Calcification:** Calcifications were detected in the lesion\n",
    "- **Mammography Microcalcification:** Microcalcifications were detected in the lesion \n",
    "- **Mammography Axillary Adenopathy:** Axillary adenopathy detected\n",
    "- **Mammography Architectural Distortion:** Signs of architectural distortion\n",
    "- **Mammography Stroma Distortion:** Signs of architectural distortion\n",
    "- **Classification:** Classification of lesion given by the biopsy result.\n",
    "- **Image ViewType of image view:** (1-RCC, 2-LCC, 3-RO, 4-LO).\n",
    "- **Mammography Type:** Presence of abnormality. \n",
    "\n",
    "**Set of intensity descriptors computed directly from the grey-levels of the pixels inside the\n",
    "lesion’s contour identified by the radiologists**\n",
    "\n",
    "...\n",
    "**Set of texture descriptors computed from the Grey-level co-occurrence matrix related to\n",
    "the bounding box of lesion’s contour identified by the radiologists.**\n",
    "...\n",
    "**Set of shape and location descriptors of the lesion’s contour identified by the radiologists.**\n",
    "\n",
    "...\n"
   ]
  },
  {
   "cell_type": "markdown",
   "metadata": {},
   "source": [
    "### 2.3 Explore Data"
   ]
  },
  {
   "cell_type": "markdown",
   "metadata": {},
   "source": []
  },
  {
   "cell_type": "markdown",
   "metadata": {},
   "source": [
    "### 2.4 Verify Data Quality"
   ]
  },
  {
   "cell_type": "code",
   "execution_count": null,
   "metadata": {},
   "outputs": [],
   "source": []
  },
  {
   "cell_type": "markdown",
   "metadata": {},
   "source": [
    "## 3. Data Preparation"
   ]
  },
  {
   "cell_type": "markdown",
   "metadata": {},
   "source": [
    "The data preparation phase covers all activities to construct the final dataset (data that\n",
    "will be fed into the modeling tool(s)) from the initial raw data. Data preparation tasks\n",
    "are likely to be performed multiple times and not in any prescribed order. Tasks include\n",
    "table, record and attribute selection as well as transformation and cleaning of data for\n",
    "modeling tools."
   ]
  },
  {
   "cell_type": "markdown",
   "metadata": {},
   "source": [
    "### 3.1 Select Data"
   ]
  },
  {
   "cell_type": "markdown",
   "metadata": {},
   "source": [
    "1. First all columns with an average of missing values(NA) greater than 80% were deleted(47 features to 42)\n",
    "2. "
   ]
  },
  {
   "cell_type": "markdown",
   "metadata": {},
   "source": [
    "### 3.2 Clean Data"
   ]
  },
  {
   "cell_type": "markdown",
   "metadata": {},
   "source": [
    "### 3.3 Construct Data"
   ]
  },
  {
   "cell_type": "markdown",
   "metadata": {},
   "source": [
    "### 3.4 Integrate Data"
   ]
  },
  {
   "cell_type": "markdown",
   "metadata": {},
   "source": [
    "### 3.5 Format Data"
   ]
  },
  {
   "cell_type": "markdown",
   "metadata": {},
   "source": [
    "## 4. Modeling"
   ]
  },
  {
   "cell_type": "markdown",
   "metadata": {},
   "source": [
    "In this phase, various modeling techniques are selected and applied and their parameters\n",
    "are calibrated to optimal values. Typically, there are several techniques for the same\n",
    "data mining problem type. Some techniques have specific requirements on the form\n",
    "of data. Therefore, stepping back to the data preparation phase is often necessary."
   ]
  },
  {
   "cell_type": "markdown",
   "metadata": {},
   "source": [
    "### 4.1 Select Modeling Technique"
   ]
  },
  {
   "cell_type": "markdown",
   "metadata": {},
   "source": [
    "### 4.2 Generate Test Design"
   ]
  },
  {
   "cell_type": "markdown",
   "metadata": {},
   "source": [
    "### 4.3 Build Models"
   ]
  },
  {
   "cell_type": "markdown",
   "metadata": {},
   "source": [
    "### 4.4 Assess Models"
   ]
  },
  {
   "cell_type": "markdown",
   "metadata": {},
   "source": [
    "## 5. Evaluation"
   ]
  },
  {
   "cell_type": "markdown",
   "metadata": {},
   "source": [
    "At this stage in the project you have built a model (or models) that appears to have high\n",
    "quality from a data analysis perspective. Before proceeding to final deployment of the\n",
    "model, it is important to more thoroughly evaluate the model and review the steps executed to construct the model to be certain it properly achieves the business objectives.\n",
    "A key objective is to determine if there is some important business issue that has not\n",
    "been sufficiently considered. At the end of this phase, a decision on the use of the data\n",
    "mining results should be reached."
   ]
  },
  {
   "cell_type": "markdown",
   "metadata": {},
   "source": [
    "### 5.1 Evaluate Results"
   ]
  },
  {
   "cell_type": "markdown",
   "metadata": {},
   "source": [
    "### 5.2 Review Process"
   ]
  },
  {
   "cell_type": "markdown",
   "metadata": {},
   "source": [
    "### 5.3 Determinate Next Steps"
   ]
  },
  {
   "cell_type": "code",
   "execution_count": null,
   "metadata": {},
   "outputs": [],
   "source": []
  }
 ],
 "metadata": {
  "kernelspec": {
   "display_name": "Python [default]",
   "language": "python",
   "name": "python3"
  },
  "language_info": {
   "codemirror_mode": {
    "name": "ipython",
    "version": 3
   },
   "file_extension": ".py",
   "mimetype": "text/x-python",
   "name": "python",
   "nbconvert_exporter": "python",
   "pygments_lexer": "ipython3",
   "version": "3.5.6"
  }
 },
 "nbformat": 4,
 "nbformat_minor": 2
}
