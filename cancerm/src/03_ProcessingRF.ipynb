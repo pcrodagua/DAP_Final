{
 "cells": [
  {
   "cell_type": "code",
   "execution_count": 1,
   "metadata": {},
   "outputs": [],
   "source": [
    "from sklearn.model_selection import train_test_split\n",
    "from sklearn.metrics import mean_squared_error\n",
    "from sklearn.utils import shuffle\n",
    "from sklearn import linear_model\n",
    "from sklearn import datasets\n",
    "from math import sqrt\n",
    "\n",
    "import matplotlib.pyplot as plt\n",
    "import statsmodels.api as sm\n",
    "import scipy.optimize as opt\n",
    "from scipy import stats\n",
    "import seaborn as sns\n",
    "import pandas as pd\n",
    "import numpy as np\n",
    "import warnings\n",
    "\n",
    "warnings.filterwarnings(\"ignore\")\n",
    "sns.set_style(\"ticks\")\n",
    "%matplotlib inline"
   ]
  },
  {
   "cell_type": "code",
   "execution_count": 2,
   "metadata": {},
   "outputs": [],
   "source": [
    "from sklearn.ensemble import RandomForestClassifier\n",
    "from sklearn.model_selection import cross_val_score\n",
    "from sklearn.metrics import accuracy_score, classification_report, confusion_matrix, roc_curve, roc_auc_score"
   ]
  },
  {
   "cell_type": "code",
   "execution_count": 3,
   "metadata": {},
   "outputs": [
    {
     "data": {
      "text/html": [
       "<div>\n",
       "<style scoped>\n",
       "    .dataframe tbody tr th:only-of-type {\n",
       "        vertical-align: middle;\n",
       "    }\n",
       "\n",
       "    .dataframe tbody tr th {\n",
       "        vertical-align: top;\n",
       "    }\n",
       "\n",
       "    .dataframe thead th {\n",
       "        text-align: right;\n",
       "    }\n",
       "</style>\n",
       "<table border=\"1\" class=\"dataframe\">\n",
       "  <thead>\n",
       "    <tr style=\"text-align: right;\">\n",
       "      <th></th>\n",
       "      <th>i_mean</th>\n",
       "      <th>i_std_dev</th>\n",
       "      <th>i_maximum</th>\n",
       "      <th>i_minimum</th>\n",
       "      <th>i_kurtosis</th>\n",
       "      <th>i_skewness</th>\n",
       "      <th>s_area</th>\n",
       "      <th>s_perimeter</th>\n",
       "      <th>s_x_center_mass</th>\n",
       "      <th>s_y_center_mass</th>\n",
       "      <th>...</th>\n",
       "      <th>t_homo</th>\n",
       "      <th>t_savgh</th>\n",
       "      <th>t_svarh</th>\n",
       "      <th>t_senth</th>\n",
       "      <th>t_entro</th>\n",
       "      <th>t_dvarh</th>\n",
       "      <th>t_denth</th>\n",
       "      <th>t_inf1h</th>\n",
       "      <th>t_inf2h</th>\n",
       "      <th>diagnosis</th>\n",
       "    </tr>\n",
       "  </thead>\n",
       "  <tbody>\n",
       "    <tr>\n",
       "      <th>330</th>\n",
       "      <td>0.84488</td>\n",
       "      <td>0.107010</td>\n",
       "      <td>1.00000</td>\n",
       "      <td>0.46275</td>\n",
       "      <td>0.37293</td>\n",
       "      <td>-0.39779</td>\n",
       "      <td>821</td>\n",
       "      <td>110.2254</td>\n",
       "      <td>0.24914</td>\n",
       "      <td>0.65481</td>\n",
       "      <td>...</td>\n",
       "      <td>0.33753</td>\n",
       "      <td>53.6607</td>\n",
       "      <td>2604.2744</td>\n",
       "      <td>2.8050</td>\n",
       "      <td>4.5703</td>\n",
       "      <td>19.9619</td>\n",
       "      <td>2.2568</td>\n",
       "      <td>-0.060994</td>\n",
       "      <td>0.49603</td>\n",
       "      <td>0</td>\n",
       "    </tr>\n",
       "    <tr>\n",
       "      <th>214</th>\n",
       "      <td>0.60594</td>\n",
       "      <td>0.104740</td>\n",
       "      <td>0.93725</td>\n",
       "      <td>0.32157</td>\n",
       "      <td>-0.53583</td>\n",
       "      <td>0.43392</td>\n",
       "      <td>35352</td>\n",
       "      <td>747.2102</td>\n",
       "      <td>0.45088</td>\n",
       "      <td>0.48224</td>\n",
       "      <td>...</td>\n",
       "      <td>0.48475</td>\n",
       "      <td>39.6157</td>\n",
       "      <td>1366.7410</td>\n",
       "      <td>3.1614</td>\n",
       "      <td>4.6640</td>\n",
       "      <td>5.0605</td>\n",
       "      <td>1.6540</td>\n",
       "      <td>-0.171470</td>\n",
       "      <td>0.75935</td>\n",
       "      <td>0</td>\n",
       "    </tr>\n",
       "    <tr>\n",
       "      <th>391</th>\n",
       "      <td>0.57147</td>\n",
       "      <td>0.103020</td>\n",
       "      <td>1.00000</td>\n",
       "      <td>0.38824</td>\n",
       "      <td>5.03590</td>\n",
       "      <td>1.95350</td>\n",
       "      <td>1068</td>\n",
       "      <td>138.5685</td>\n",
       "      <td>0.12689</td>\n",
       "      <td>0.57942</td>\n",
       "      <td>...</td>\n",
       "      <td>0.38948</td>\n",
       "      <td>38.5244</td>\n",
       "      <td>1296.2720</td>\n",
       "      <td>2.9177</td>\n",
       "      <td>4.6163</td>\n",
       "      <td>25.8336</td>\n",
       "      <td>2.2627</td>\n",
       "      <td>-0.084365</td>\n",
       "      <td>0.57743</td>\n",
       "      <td>0</td>\n",
       "    </tr>\n",
       "    <tr>\n",
       "      <th>141</th>\n",
       "      <td>0.64085</td>\n",
       "      <td>0.113310</td>\n",
       "      <td>1.00000</td>\n",
       "      <td>0.37647</td>\n",
       "      <td>1.56470</td>\n",
       "      <td>1.05970</td>\n",
       "      <td>18669</td>\n",
       "      <td>555.7300</td>\n",
       "      <td>0.19030</td>\n",
       "      <td>0.66976</td>\n",
       "      <td>...</td>\n",
       "      <td>0.48639</td>\n",
       "      <td>41.9297</td>\n",
       "      <td>1543.3750</td>\n",
       "      <td>3.1519</td>\n",
       "      <td>4.6466</td>\n",
       "      <td>9.6976</td>\n",
       "      <td>1.7967</td>\n",
       "      <td>-0.152660</td>\n",
       "      <td>0.72895</td>\n",
       "      <td>0</td>\n",
       "    </tr>\n",
       "    <tr>\n",
       "      <th>41</th>\n",
       "      <td>0.69425</td>\n",
       "      <td>0.065343</td>\n",
       "      <td>1.00000</td>\n",
       "      <td>0.49804</td>\n",
       "      <td>1.57680</td>\n",
       "      <td>0.69089</td>\n",
       "      <td>9037</td>\n",
       "      <td>366.8183</td>\n",
       "      <td>0.65172</td>\n",
       "      <td>0.46979</td>\n",
       "      <td>...</td>\n",
       "      <td>0.51629</td>\n",
       "      <td>45.1205</td>\n",
       "      <td>1817.2442</td>\n",
       "      <td>2.6306</td>\n",
       "      <td>4.0176</td>\n",
       "      <td>4.8484</td>\n",
       "      <td>1.6155</td>\n",
       "      <td>-0.074377</td>\n",
       "      <td>0.51490</td>\n",
       "      <td>0</td>\n",
       "    </tr>\n",
       "  </tbody>\n",
       "</table>\n",
       "<p>5 rows × 29 columns</p>\n",
       "</div>"
      ],
      "text/plain": [
       "      i_mean  i_std_dev  i_maximum  i_minimum  i_kurtosis  i_skewness  s_area  \\\n",
       "330  0.84488   0.107010    1.00000    0.46275     0.37293    -0.39779     821   \n",
       "214  0.60594   0.104740    0.93725    0.32157    -0.53583     0.43392   35352   \n",
       "391  0.57147   0.103020    1.00000    0.38824     5.03590     1.95350    1068   \n",
       "141  0.64085   0.113310    1.00000    0.37647     1.56470     1.05970   18669   \n",
       "41   0.69425   0.065343    1.00000    0.49804     1.57680     0.69089    9037   \n",
       "\n",
       "     s_perimeter  s_x_center_mass  s_y_center_mass    ...       t_homo  \\\n",
       "330     110.2254          0.24914          0.65481    ...      0.33753   \n",
       "214     747.2102          0.45088          0.48224    ...      0.48475   \n",
       "391     138.5685          0.12689          0.57942    ...      0.38948   \n",
       "141     555.7300          0.19030          0.66976    ...      0.48639   \n",
       "41      366.8183          0.65172          0.46979    ...      0.51629   \n",
       "\n",
       "     t_savgh    t_svarh  t_senth  t_entro  t_dvarh  t_denth   t_inf1h  \\\n",
       "330  53.6607  2604.2744   2.8050   4.5703  19.9619   2.2568 -0.060994   \n",
       "214  39.6157  1366.7410   3.1614   4.6640   5.0605   1.6540 -0.171470   \n",
       "391  38.5244  1296.2720   2.9177   4.6163  25.8336   2.2627 -0.084365   \n",
       "141  41.9297  1543.3750   3.1519   4.6466   9.6976   1.7967 -0.152660   \n",
       "41   45.1205  1817.2442   2.6306   4.0176   4.8484   1.6155 -0.074377   \n",
       "\n",
       "     t_inf2h  diagnosis  \n",
       "330  0.49603          0  \n",
       "214  0.75935          0  \n",
       "391  0.57743          0  \n",
       "141  0.72895          0  \n",
       "41   0.51490          0  \n",
       "\n",
       "[5 rows x 29 columns]"
      ]
     },
     "execution_count": 3,
     "metadata": {},
     "output_type": "execute_result"
    }
   ],
   "source": [
    "fs_data = pd.read_csv('../data/clean/bcdr_d0G_medc.csv')\n",
    "fs_data = shuffle(fs_data, random_state=4321)\n",
    "fs_data.head()"
   ]
  },
  {
   "cell_type": "code",
   "execution_count": 4,
   "metadata": {},
   "outputs": [],
   "source": [
    "x_values = fs_data[\n",
    "    ['i_std_dev', 'i_maximum', 'i_minimum', 'i_kurtosis', 'i_skewness', 's_area', 's_perimeter', 's_y_center_mass', 's_elongation', 's_form', 's_solidity', 't_energ', 't_contr', 't_homo', 't_senth', 't_denth', 't_inf2h']]\n",
    "y_values = fs_data[\"diagnosis\"]\n"
   ]
  },
  {
   "cell_type": "code",
   "execution_count": 5,
   "metadata": {},
   "outputs": [
    {
     "name": "stdout",
     "output_type": "stream",
     "text": [
      "Proportion: 4.59 : 1\n"
     ]
    },
    {
     "data": {
      "text/plain": [
       "<matplotlib.axes._subplots.AxesSubplot at 0x7f06af5e9f28>"
      ]
     },
     "execution_count": 5,
     "metadata": {},
     "output_type": "execute_result"
    },
    {
     "data": {
      "image/png": "[encoded data removed]",
      "text/plain": [
       "<Figure size 432x288 with 1 Axes>"
      ]
     },
     "metadata": {
      "needs_background": "light"
     },
     "output_type": "display_data"
    }
   ],
   "source": [
    "target_count = fs_data.diagnosis.value_counts()\n",
    "print('Proportion:', round(target_count[0] / target_count[1], 2), ': 1')\n",
    "target_count.plot(kind='bar', title='Count (Malign)')"
   ]
  },
  {
   "cell_type": "code",
   "execution_count": 6,
   "metadata": {},
   "outputs": [],
   "source": [
    "# Data Split\n",
    "from sklearn.model_selection import train_test_split\n",
    "seed = 1234\n",
    "x_train, x_test, y_train, y_test = train_test_split(x_values, y_values, test_size=0.2, random_state=seed)"
   ]
  },
  {
   "cell_type": "code",
   "execution_count": 7,
   "metadata": {},
   "outputs": [
    {
     "name": "stdout",
     "output_type": "stream",
     "text": [
      "Proportion: 4.56 : 1\n"
     ]
    },
    {
     "data": {
      "text/plain": [
       "<matplotlib.axes._subplots.AxesSubplot at 0x7f06a4a713c8>"
      ]
     },
     "execution_count": 7,
     "metadata": {},
     "output_type": "execute_result"
    },
    {
     "data": {
      "image/png": "[encoded data removed]",
      "text/plain": [
       "<Figure size 432x288 with 1 Axes>"
      ]
     },
     "metadata": {
      "needs_background": "light"
     },
     "output_type": "display_data"
    }
   ],
   "source": [
    "# train\n",
    "target_count = y_train.value_counts()\n",
    "print('Proportion:', round(target_count[0] / target_count[1], 2), ': 1')\n",
    "target_count.plot(kind='bar', title='Count (Malign)')"
   ]
  },
  {
   "cell_type": "code",
   "execution_count": 8,
   "metadata": {},
   "outputs": [
    {
     "name": "stdout",
     "output_type": "stream",
     "text": [
      "<class 'pandas.core.series.Series'>\n",
      "Proportion: 4.71 : 1\n"
     ]
    },
    {
     "data": {
      "text/plain": [
       "<matplotlib.axes._subplots.AxesSubplot at 0x7f06a49c8080>"
      ]
     },
     "execution_count": 8,
     "metadata": {},
     "output_type": "execute_result"
    },
    {
     "data": {
      "image/png": "[encoded data removed]",
      "text/plain": [
       "<Figure size 432x288 with 1 Axes>"
      ]
     },
     "metadata": {
      "needs_background": "light"
     },
     "output_type": "display_data"
    }
   ],
   "source": [
    "# test\n",
    "print(type(y_test))\n",
    "target_count = y_test.value_counts()\n",
    "print('Proportion:', round(target_count[0] / target_count[1], 2), ': 1')\n",
    "target_count.plot(kind='bar', title='Count (Malign)')"
   ]
  },
  {
   "cell_type": "markdown",
   "metadata": {},
   "source": [
    "## Metrics Used"
   ]
  },
  {
   "cell_type": "code",
   "execution_count": 9,
   "metadata": {},
   "outputs": [],
   "source": [
    "def print_metrics(y_test, y_pred):\n",
    "    cm = confusion_matrix(y_test, y_pred=y_pred)\n",
    "    sns.heatmap(cm, annot=True)\n",
    "    target_names = ['0', '1']\n",
    "    print(classification_report(y_test, y_pred, target_names=target_names))\n",
    "    \n",
    "    \n",
    "    \n",
    "    total1=sum(sum(cm))\n",
    "\n",
    "    print('Accuracy: {0}'.format(accuracy_score(y_test, y_pred)))\n",
    "\n",
    "    sensitivity1 = cm[0,0]/(cm[0,0]+cm[0,1])\n",
    "    print('Sensitivity : {0}'.format(sensitivity1))\n",
    "\n",
    "    specificity1 = cm[1,1]/(cm[1,0]+cm[1,1])\n",
    "    print('Specificity : {0}'.format(specificity1))\n",
    "   \n",
    "\n",
    "def plot_roc(y_test, y_pred, model):\n",
    "    # calculate roc curve\n",
    "    fpr, tpr, thresholds = roc_curve(y_test, y_pred)\n",
    "    auc = roc_auc_score(y_test, y_pred)\n",
    "\n",
    "    plt.plot([0, 1], [0, 1], color='red', linestyle='--')\n",
    "    plt.plot(fpr, tpr, marker='.', label = 'AUC: %0.2f' % auc, color= 'green')\n",
    "    plt.title('{0} (ROC + AUC)'.format(model))\n",
    "    plt.xlabel('False Positive Rate (x)')\n",
    "    plt.ylabel('True Positive Rate (y)')\n",
    "    plt.legend(loc=\"lower right\")\n",
    "    plt.grid()\n",
    "    plt.show()"
   ]
  },
  {
   "cell_type": "markdown",
   "metadata": {},
   "source": [
    "## Random Forest (No Normalized)"
   ]
  },
  {
   "cell_type": "code",
   "execution_count": 10,
   "metadata": {},
   "outputs": [
    {
     "name": "stdout",
     "output_type": "stream",
     "text": [
      "[ 0.97764228  0.98246951  0.97142857]\n",
      "Average 5-Fold CV Score: 0.9771801200154858\n"
     ]
    }
   ],
   "source": [
    "lr_model = RandomForestClassifier(random_state=2,n_estimators=100)\n",
    "lr_model.fit(x_train, y_train)\n",
    "# Compute 5-fold cross-validation scores: cv_scores\n",
    "cv_scores = cross_val_score(lr_model,x_values,y_values,scoring='roc_auc', cv=3)\n",
    "# Print the 5-fold cross-validation scores\n",
    "print(cv_scores)\n",
    "print(\"Average 5-Fold CV Score: {0}\".format(np.mean(cv_scores)))\n",
    "y_pred = lr_model.predict(x_test)"
   ]
  },
  {
   "cell_type": "code",
   "execution_count": 11,
   "metadata": {},
   "outputs": [
    {
     "data": {
      "image/png": "[encoded data removed]",
      "text/plain": [
       "<Figure size 432x288 with 1 Axes>"
      ]
     },
     "metadata": {
      "needs_background": "light"
     },
     "output_type": "display_data"
    }
   ],
   "source": [
    "plot_roc(y_test, y_pred, 'Random Forest')"
   ]
  },
  {
   "cell_type": "markdown",
   "metadata": {},
   "source": [
    "---\n",
    "---\n",
    "---"
   ]
  },
  {
   "cell_type": "markdown",
   "metadata": {},
   "source": [
    "## Random Forest (Normalized Z-Score)"
   ]
  },
  {
   "cell_type": "code",
   "execution_count": 12,
   "metadata": {},
   "outputs": [
    {
     "data": {
      "text/html": [
       "<div>\n",
       "<style scoped>\n",
       "    .dataframe tbody tr th:only-of-type {\n",
       "        vertical-align: middle;\n",
       "    }\n",
       "\n",
       "    .dataframe tbody tr th {\n",
       "        vertical-align: top;\n",
       "    }\n",
       "\n",
       "    .dataframe thead th {\n",
       "        text-align: right;\n",
       "    }\n",
       "</style>\n",
       "<table border=\"1\" class=\"dataframe\">\n",
       "  <thead>\n",
       "    <tr style=\"text-align: right;\">\n",
       "      <th></th>\n",
       "      <th>i_mean</th>\n",
       "      <th>i_std_dev</th>\n",
       "      <th>i_maximum</th>\n",
       "      <th>i_minimum</th>\n",
       "      <th>i_kurtosis</th>\n",
       "      <th>i_skewness</th>\n",
       "      <th>s_area</th>\n",
       "      <th>s_perimeter</th>\n",
       "      <th>s_x_center_mass</th>\n",
       "      <th>s_y_center_mass</th>\n",
       "      <th>...</th>\n",
       "      <th>t_homo</th>\n",
       "      <th>t_savgh</th>\n",
       "      <th>t_svarh</th>\n",
       "      <th>t_senth</th>\n",
       "      <th>t_entro</th>\n",
       "      <th>t_dvarh</th>\n",
       "      <th>t_denth</th>\n",
       "      <th>t_inf1h</th>\n",
       "      <th>t_inf2h</th>\n",
       "      <th>diagnosis</th>\n",
       "    </tr>\n",
       "  </thead>\n",
       "  <tbody>\n",
       "    <tr>\n",
       "      <th>330</th>\n",
       "      <td>0.581686</td>\n",
       "      <td>-0.107090</td>\n",
       "      <td>0.377486</td>\n",
       "      <td>0.498675</td>\n",
       "      <td>-0.392593</td>\n",
       "      <td>0.134615</td>\n",
       "      <td>-0.363151</td>\n",
       "      <td>-0.591694</td>\n",
       "      <td>-0.758814</td>\n",
       "      <td>1.096846</td>\n",
       "      <td>...</td>\n",
       "      <td>-0.992944</td>\n",
       "      <td>0.579523</td>\n",
       "      <td>0.442242</td>\n",
       "      <td>0.302382</td>\n",
       "      <td>0.578196</td>\n",
       "      <td>0.066708</td>\n",
       "      <td>0.881464</td>\n",
       "      <td>0.681432</td>\n",
       "      <td>-0.336808</td>\n",
       "      <td>0</td>\n",
       "    </tr>\n",
       "    <tr>\n",
       "      <th>214</th>\n",
       "      <td>-0.734237</td>\n",
       "      <td>-0.164719</td>\n",
       "      <td>-0.234004</td>\n",
       "      <td>-0.433108</td>\n",
       "      <td>-0.579536</td>\n",
       "      <td>0.686167</td>\n",
       "      <td>-0.015603</td>\n",
       "      <td>0.242231</td>\n",
       "      <td>-0.054532</td>\n",
       "      <td>-0.140180</td>\n",
       "      <td>...</td>\n",
       "      <td>-0.079591</td>\n",
       "      <td>-0.710312</td>\n",
       "      <td>-0.797857</td>\n",
       "      <td>0.788206</td>\n",
       "      <td>0.652506</td>\n",
       "      <td>-0.760162</td>\n",
       "      <td>-0.322541</td>\n",
       "      <td>-0.533411</td>\n",
       "      <td>1.040429</td>\n",
       "      <td>0</td>\n",
       "    </tr>\n",
       "    <tr>\n",
       "      <th>391</th>\n",
       "      <td>-0.924075</td>\n",
       "      <td>-0.208386</td>\n",
       "      <td>0.377486</td>\n",
       "      <td>0.006912</td>\n",
       "      <td>0.566636</td>\n",
       "      <td>1.693883</td>\n",
       "      <td>-0.360665</td>\n",
       "      <td>-0.554588</td>\n",
       "      <td>-1.185594</td>\n",
       "      <td>0.556431</td>\n",
       "      <td>...</td>\n",
       "      <td>-0.670646</td>\n",
       "      <td>-0.810533</td>\n",
       "      <td>-0.868473</td>\n",
       "      <td>0.456008</td>\n",
       "      <td>0.614677</td>\n",
       "      <td>0.392526</td>\n",
       "      <td>0.893248</td>\n",
       "      <td>0.424434</td>\n",
       "      <td>0.088937</td>\n",
       "      <td>0</td>\n",
       "    </tr>\n",
       "    <tr>\n",
       "      <th>141</th>\n",
       "      <td>-0.541976</td>\n",
       "      <td>0.052852</td>\n",
       "      <td>0.377486</td>\n",
       "      <td>-0.070770</td>\n",
       "      <td>-0.147432</td>\n",
       "      <td>1.101156</td>\n",
       "      <td>-0.183515</td>\n",
       "      <td>-0.008450</td>\n",
       "      <td>-0.964227</td>\n",
       "      <td>1.204011</td>\n",
       "      <td>...</td>\n",
       "      <td>-0.069417</td>\n",
       "      <td>-0.497804</td>\n",
       "      <td>-0.620857</td>\n",
       "      <td>0.775256</td>\n",
       "      <td>0.638707</td>\n",
       "      <td>-0.502852</td>\n",
       "      <td>-0.037518</td>\n",
       "      <td>-0.326568</td>\n",
       "      <td>0.881428</td>\n",
       "      <td>0</td>\n",
       "    </tr>\n",
       "    <tr>\n",
       "      <th>41</th>\n",
       "      <td>-0.247884</td>\n",
       "      <td>-1.164912</td>\n",
       "      <td>0.377486</td>\n",
       "      <td>0.731588</td>\n",
       "      <td>-0.144943</td>\n",
       "      <td>0.856578</td>\n",
       "      <td>-0.280459</td>\n",
       "      <td>-0.255769</td>\n",
       "      <td>0.646608</td>\n",
       "      <td>-0.229424</td>\n",
       "      <td>...</td>\n",
       "      <td>0.116083</td>\n",
       "      <td>-0.204774</td>\n",
       "      <td>-0.346420</td>\n",
       "      <td>0.064650</td>\n",
       "      <td>0.139870</td>\n",
       "      <td>-0.771931</td>\n",
       "      <td>-0.399439</td>\n",
       "      <td>0.534267</td>\n",
       "      <td>-0.238112</td>\n",
       "      <td>0</td>\n",
       "    </tr>\n",
       "  </tbody>\n",
       "</table>\n",
       "<p>5 rows × 29 columns</p>\n",
       "</div>"
      ],
      "text/plain": [
       "       i_mean  i_std_dev  i_maximum  i_minimum  i_kurtosis  i_skewness  \\\n",
       "330  0.581686  -0.107090   0.377486   0.498675   -0.392593    0.134615   \n",
       "214 -0.734237  -0.164719  -0.234004  -0.433108   -0.579536    0.686167   \n",
       "391 -0.924075  -0.208386   0.377486   0.006912    0.566636    1.693883   \n",
       "141 -0.541976   0.052852   0.377486  -0.070770   -0.147432    1.101156   \n",
       "41  -0.247884  -1.164912   0.377486   0.731588   -0.144943    0.856578   \n",
       "\n",
       "       s_area  s_perimeter  s_x_center_mass  s_y_center_mass    ...      \\\n",
       "330 -0.363151    -0.591694        -0.758814         1.096846    ...       \n",
       "214 -0.015603     0.242231        -0.054532        -0.140180    ...       \n",
       "391 -0.360665    -0.554588        -1.185594         0.556431    ...       \n",
       "141 -0.183515    -0.008450        -0.964227         1.204011    ...       \n",
       "41  -0.280459    -0.255769         0.646608        -0.229424    ...       \n",
       "\n",
       "       t_homo   t_savgh   t_svarh   t_senth   t_entro   t_dvarh   t_denth  \\\n",
       "330 -0.992944  0.579523  0.442242  0.302382  0.578196  0.066708  0.881464   \n",
       "214 -0.079591 -0.710312 -0.797857  0.788206  0.652506 -0.760162 -0.322541   \n",
       "391 -0.670646 -0.810533 -0.868473  0.456008  0.614677  0.392526  0.893248   \n",
       "141 -0.069417 -0.497804 -0.620857  0.775256  0.638707 -0.502852 -0.037518   \n",
       "41   0.116083 -0.204774 -0.346420  0.064650  0.139870 -0.771931 -0.399439   \n",
       "\n",
       "      t_inf1h   t_inf2h  diagnosis  \n",
       "330  0.681432 -0.336808          0  \n",
       "214 -0.533411  1.040429          0  \n",
       "391  0.424434  0.088937          0  \n",
       "141 -0.326568  0.881428          0  \n",
       "41   0.534267 -0.238112          0  \n",
       "\n",
       "[5 rows x 29 columns]"
      ]
     },
     "execution_count": 12,
     "metadata": {},
     "output_type": "execute_result"
    }
   ],
   "source": [
    "from sklearn import preprocessing\n",
    "from scipy.stats import zscore\n",
    "fs_data_n = fs_data.drop(columns=[\"diagnosis\"]).apply(zscore)\n",
    "fs_data_n['diagnosis'] = fs_data['diagnosis']\n",
    "fs_data_n.head()"
   ]
  },
  {
   "cell_type": "code",
   "execution_count": 13,
   "metadata": {},
   "outputs": [],
   "source": [
    "nx_values = fs_data_n[\n",
    "    ['i_std_dev', 'i_maximum', 'i_minimum', 'i_kurtosis', 'i_skewness', 's_area', 's_perimeter', 's_y_center_mass', 's_elongation', 's_form', 's_solidity', 't_energ', 't_contr', 't_homo', 't_senth', 't_denth', 't_inf2h']]\n",
    "ny_values = fs_data_n[\"diagnosis\"]\n",
    "nx_values = fs_data_n.drop(columns=['diagnosis']) \n",
    "ny_values = fs_data_n['diagnosis']\n",
    "nx_train, nx_test, ny_train, ny_test = train_test_split(nx_values, ny_values, test_size=0.2, random_state=seed)"
   ]
  },
  {
   "cell_type": "code",
   "execution_count": 14,
   "metadata": {},
   "outputs": [
    {
     "name": "stdout",
     "output_type": "stream",
     "text": [
      "CPU times: user 397 ms, sys: 3.9 ms, total: 401 ms\n",
      "Wall time: 401 ms\n",
      "[ 0.98602642  0.99161585  0.9803681 ]\n",
      "Average 5-Fold CV Score: 0.9860034581940912\n"
     ]
    }
   ],
   "source": [
    "lr_model = RandomForestClassifier(random_state=2,n_estimators=100)\n",
    "lr_model.fit(x_train, y_train)\n",
    "# Compute 5-fold cross-validation scores: cv_scores\n",
    "%time cv_scores = cross_val_score(lr_model,nx_values,ny_values,scoring='roc_auc', cv=3)\n",
    "# Print the 5-fold cross-validation scores\n",
    "print(cv_scores)\n",
    "print(\"Average 5-Fold CV Score: {0}\".format(np.mean(cv_scores)))\n",
    "y_pred = lr_model.predict(x_test)"
   ]
  },
  {
   "cell_type": "code",
   "execution_count": 15,
   "metadata": {},
   "outputs": [
    {
     "name": "stdout",
     "output_type": "stream",
     "text": [
      "              precision    recall  f1-score   support\n",
      "\n",
      "           0       0.97      0.96      0.96        99\n",
      "           1       0.82      0.86      0.84        21\n",
      "\n",
      "   micro avg       0.94      0.94      0.94       120\n",
      "   macro avg       0.89      0.91      0.90       120\n",
      "weighted avg       0.94      0.94      0.94       120\n",
      "\n",
      "Accuracy: 0.9416666666666667\n",
      "Sensitivity : 0.9595959595959596\n",
      "Specificity : 0.8571428571428571\n"
     ]
    },
    {
     "data": {
      "image/png": "[encoded data removed]",
      "text/plain": [
       "<Figure size 432x288 with 2 Axes>"
      ]
     },
     "metadata": {
      "needs_background": "light"
     },
     "output_type": "display_data"
    }
   ],
   "source": [
    "lr_model = RandomForestClassifier(random_state=2,n_estimators=100)\n",
    "lr_model.fit(nx_train, ny_train)\n",
    "ny_pred = lr_model.predict(nx_test)\n",
    "print_metrics(ny_test, ny_pred)"
   ]
  },
  {
   "cell_type": "code",
   "execution_count": 16,
   "metadata": {},
   "outputs": [
    {
     "data": {
      "image/png": "[encoded data removed]",
      "text/plain": [
       "<Figure size 432x288 with 1 Axes>"
      ]
     },
     "metadata": {
      "needs_background": "light"
     },
     "output_type": "display_data"
    }
   ],
   "source": [
    "plot_roc(ny_test, ny_pred, 'Random Forest - Normalized')"
   ]
  },
  {
   "cell_type": "markdown",
   "metadata": {},
   "source": [
    "## Learning Curves w/Cross Validation"
   ]
  },
  {
   "cell_type": "code",
   "execution_count": 17,
   "metadata": {},
   "outputs": [],
   "source": [
    "import numpy as np\n",
    "import matplotlib.pyplot as plt\n",
    "from sklearn.datasets import load_digits\n",
    "from sklearn.model_selection import learning_curve\n",
    "from sklearn.model_selection import ShuffleSplit\n",
    "\n",
    "\n",
    "def plot_learning_curve(estimator, title, X, y, ylim=None, cv=None,\n",
    "                        n_jobs=None, train_sizes=np.linspace(.1, 1.0, 5)):\n",
    "    plt.figure()\n",
    "    plt.title(title)\n",
    "    if ylim is not None:\n",
    "        plt.ylim(*ylim)\n",
    "    plt.xlabel(\"Training examples\")\n",
    "    plt.ylabel(\"Score\")\n",
    "    train_sizes, train_scores, test_scores = learning_curve(\n",
    "        estimator, X, y, cv=cv, n_jobs=n_jobs, train_sizes=train_sizes)\n",
    "    train_scores_mean = np.mean(train_scores, axis=1)\n",
    "    train_scores_std = np.std(train_scores, axis=1)\n",
    "    test_scores_mean = np.mean(test_scores, axis=1)\n",
    "    test_scores_std = np.std(test_scores, axis=1)\n",
    "    plt.grid()\n",
    "\n",
    "    plt.fill_between(train_sizes, train_scores_mean - train_scores_std,\n",
    "                     train_scores_mean + train_scores_std, alpha=0.1,\n",
    "                     color=\"r\")\n",
    "    plt.fill_between(train_sizes, test_scores_mean - test_scores_std,\n",
    "                     test_scores_mean + test_scores_std, alpha=0.1, color=\"g\")\n",
    "    plt.plot(train_sizes, train_scores_mean, 'o-', color=\"r\",\n",
    "             label=\"Training score\")\n",
    "    plt.plot(train_sizes, test_scores_mean, 'o-', color=\"g\",\n",
    "             label=\"Cross-validation score\")\n",
    "\n",
    "    plt.legend(loc=\"best\")\n",
    "    return plt"
   ]
  },
  {
   "cell_type": "code",
   "execution_count": 18,
   "metadata": {},
   "outputs": [
    {
     "data": {
      "text/plain": [
       "<module 'matplotlib.pyplot' from '/home/ospcx/anaconda3/envs/pyml/lib/python3.5/site-packages/matplotlib/pyplot.py'>"
      ]
     },
     "execution_count": 18,
     "metadata": {},
     "output_type": "execute_result"
    },
    {
     "data": {
      "image/png": "[encoded data removed]",
      "text/plain": [
       "<Figure size 432x288 with 1 Axes>"
      ]
     },
     "metadata": {
      "needs_background": "light"
     },
     "output_type": "display_data"
    }
   ],
   "source": [
    "title = \"Learning Curves (Random Forest)\"\n",
    "cv = ShuffleSplit(n_splits=100, test_size=0.2, random_state=0)\n",
    "\n",
    "estimator = RandomForestClassifier(random_state=2,n_estimators=100)\n",
    "plot_learning_curve(estimator, title, x_values, y_values, ylim=(0.7, 1.01), cv=cv, n_jobs=4)"
   ]
  },
  {
   "cell_type": "code",
   "execution_count": 19,
   "metadata": {},
   "outputs": [
    {
     "data": {
      "text/plain": [
       "<module 'matplotlib.pyplot' from '/home/ospcx/anaconda3/envs/pyml/lib/python3.5/site-packages/matplotlib/pyplot.py'>"
      ]
     },
     "execution_count": 19,
     "metadata": {},
     "output_type": "execute_result"
    },
    {
     "data": {
      "image/png": "[encoded data removed]",
      "text/plain": [
       "<Figure size 432x288 with 1 Axes>"
      ]
     },
     "metadata": {
      "needs_background": "light"
     },
     "output_type": "display_data"
    }
   ],
   "source": [
    "title = \"Learning Curves (Random Forest)\"\n",
    "cv = ShuffleSplit(n_splits=100, test_size=0.2, random_state=0)\n",
    "\n",
    "estimator = RandomForestClassifier(random_state=2,n_estimators=100)\n",
    "plot_learning_curve(estimator, title, nx_values, ny_values, ylim=(0.7, 1.01), cv=cv, n_jobs=4)"
   ]
  },
  {
   "cell_type": "markdown",
   "metadata": {},
   "source": [
    "# Polinomial Degree curve"
   ]
  },
  {
   "cell_type": "code",
   "execution_count": 20,
   "metadata": {},
   "outputs": [],
   "source": [
    "def plot_curve(train_error, test_error):\n",
    "    plt.plot(np.arange(0,train_error.shape[0]-1), train_error[1:], label = 'train error')\n",
    "    plt.plot(np.arange(0,train_error.shape[0]-1),test_error[1:], label = 'test error', color= 'green')\n",
    "    plt.title('Polinomial Complexity Curve')\n",
    "    plt.xlabel('Polynomial Complexity (x)')\n",
    "    plt.ylabel('MSE (y)')\n",
    "    plt.grid()\n",
    "    plt.legend()\n",
    "    plt.show() \n",
    "\n",
    "    \n",
    "def obtain_error(x_train, y_train, x_test, y_test):\n",
    "    m, n = x_train.shape\n",
    "    train_error = 0\n",
    "    test_error = 0\n",
    "    hyp_model = None\n",
    "    cls_ = RandomForestClassifier(random_state=2,n_estimators=100).fit(x_train, y_train)\n",
    "    hyph_train = cls_.predict(x_train)\n",
    "    hyph_test = cls_.predict(x_test)\n",
    "    train_error = mean_squared_error(y_train, hyph_train)\n",
    "    test_error  = mean_squared_error(y_test, hyph_test)\n",
    "    return train_error, test_error\n",
    "\n",
    "\n",
    "def create_curve(fs_data, seed):\n",
    "    train, test = train_test_split(fs_data, test_size=0.2, random_state=seed)\n",
    "    \n",
    "    nx_train = train.iloc[:,:-1].values\n",
    "    ny_train = train.iloc[:,-1].values\n",
    "    # ---- \n",
    "    nx_test = test.iloc[:,:-1].values\n",
    "    ny_test = test.iloc[:,-1].values\n",
    "    # ------\n",
    "    train_error = np.zeros(nx_train.shape[1])\n",
    "    test_error = np.zeros(nx_train.shape[1])\n",
    "\n",
    "    n = nx_train.shape[1]\n",
    "    for i in range(1, n):\n",
    "        train_error[i], test_error[i] = obtain_error(nx_train[:,0:i], ny_train, nx_test[:,0:i], ny_test)\n",
    "    plot_curve(train_error, test_error)"
   ]
  },
  {
   "cell_type": "code",
   "execution_count": 21,
   "metadata": {},
   "outputs": [
    {
     "data": {
      "image/png": "[encoded data removed]",
      "text/plain": [
       "<Figure size 432x288 with 1 Axes>"
      ]
     },
     "metadata": {
      "needs_background": "light"
     },
     "output_type": "display_data"
    },
    {
     "name": "stdout",
     "output_type": "stream",
     "text": [
      "(598, 18)\n"
     ]
    }
   ],
   "source": [
    "new_data = fs_data[\n",
    "    ['i_std_dev', 'i_maximum', 'i_minimum', 'i_kurtosis', 'i_skewness', 's_area', 's_perimeter', 's_y_center_mass', 's_elongation', 's_form', 's_solidity', 't_energ', 't_contr', 't_homo', 't_senth', 't_denth', 't_inf2h',\n",
    "    'diagnosis']]\n",
    "create_curve(new_data, seed)\n",
    "print(new_data.shape)"
   ]
  },
  {
   "cell_type": "code",
   "execution_count": 22,
   "metadata": {},
   "outputs": [
    {
     "data": {
      "image/png": "[encoded data removed]",
      "text/plain": [
       "<Figure size 432x288 with 1 Axes>"
      ]
     },
     "metadata": {
      "needs_background": "light"
     },
     "output_type": "display_data"
    }
   ],
   "source": [
    "nnew_data = fs_data_n[\n",
    "    ['i_std_dev', 'i_maximum', 'i_minimum', 'i_kurtosis', 'i_skewness', 's_area', 's_perimeter', 's_y_center_mass', 's_elongation', 's_form', 's_solidity', 't_energ', 't_contr', 't_homo', 't_senth', 't_denth', 't_inf2h',\n",
    "    'diagnosis']]\n",
    "create_curve(nnew_data, seed)"
   ]
  },
  {
   "cell_type": "code",
   "execution_count": null,
   "metadata": {},
   "outputs": [],
   "source": []
  }
 ],
 "metadata": {
  "kernelspec": {
   "display_name": "Python [conda env:pyml]",
   "language": "python",
   "name": "conda-env-pyml-py"
  },
  "language_info": {
   "codemirror_mode": {
    "name": "ipython",
    "version": 3
   },
   "file_extension": ".py",
   "mimetype": "text/x-python",
   "name": "python",
   "nbconvert_exporter": "python",
   "pygments_lexer": "ipython3",
   "version": "3.5.6"
  }
 },
 "nbformat": 4,
 "nbformat_minor": 2
}
