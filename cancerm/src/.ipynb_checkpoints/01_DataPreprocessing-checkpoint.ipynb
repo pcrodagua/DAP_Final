{
 "cells": [
  {
   "cell_type": "code",
   "execution_count": 25,
   "metadata": {},
   "outputs": [],
   "source": [
    "import numpy as np\n",
    "import pandas as pd\n",
    "from matplotlib import pyplot as plt\n",
    "from scipy.stats.mstats import gmean\n",
    "%matplotlib inline  \n"
   ]
  },
  {
   "cell_type": "code",
   "execution_count": 26,
   "metadata": {},
   "outputs": [
    {
     "data": {
      "text/html": [
       "<div>\n",
       "<style scoped>\n",
       "    .dataframe tbody tr th:only-of-type {\n",
       "        vertical-align: middle;\n",
       "    }\n",
       "\n",
       "    .dataframe tbody tr th {\n",
       "        vertical-align: top;\n",
       "    }\n",
       "\n",
       "    .dataframe thead th {\n",
       "        text-align: right;\n",
       "    }\n",
       "</style>\n",
       "<table border=\"1\" class=\"dataframe\">\n",
       "  <thead>\n",
       "    <tr style=\"text-align: right;\">\n",
       "      <th></th>\n",
       "      <th>patient_id</th>\n",
       "      <th>study_id</th>\n",
       "      <th>series</th>\n",
       "      <th>lesion_id</th>\n",
       "      <th>segmentation_id</th>\n",
       "      <th>image_view</th>\n",
       "      <th>mammography_type</th>\n",
       "      <th>mammography_nodule</th>\n",
       "      <th>mammography_calcification</th>\n",
       "      <th>mammography_microcalcification</th>\n",
       "      <th>...</th>\n",
       "      <th>t_homo</th>\n",
       "      <th>t_savgh</th>\n",
       "      <th>t_svarh</th>\n",
       "      <th>t_senth</th>\n",
       "      <th>t_entro</th>\n",
       "      <th>t_dvarh</th>\n",
       "      <th>t_denth</th>\n",
       "      <th>t_inf1h</th>\n",
       "      <th>t_inf2h</th>\n",
       "      <th>classification</th>\n",
       "    </tr>\n",
       "  </thead>\n",
       "  <tbody>\n",
       "    <tr>\n",
       "      <th>0</th>\n",
       "      <td>3</td>\n",
       "      <td>4</td>\n",
       "      <td>1</td>\n",
       "      <td>7</td>\n",
       "      <td>10</td>\n",
       "      <td>2</td>\n",
       "      <td>1</td>\n",
       "      <td>1</td>\n",
       "      <td>0</td>\n",
       "      <td>0</td>\n",
       "      <td>...</td>\n",
       "      <td>0.52281</td>\n",
       "      <td>55.3474</td>\n",
       "      <td>2771.1561</td>\n",
       "      <td>3.0068</td>\n",
       "      <td>4.3143</td>\n",
       "      <td>3.9515</td>\n",
       "      <td>1.5656</td>\n",
       "      <td>-0.190550</td>\n",
       "      <td>0.77071</td>\n",
       "      <td>Malign</td>\n",
       "    </tr>\n",
       "    <tr>\n",
       "      <th>1</th>\n",
       "      <td>3</td>\n",
       "      <td>4</td>\n",
       "      <td>1</td>\n",
       "      <td>7</td>\n",
       "      <td>11</td>\n",
       "      <td>4</td>\n",
       "      <td>1</td>\n",
       "      <td>1</td>\n",
       "      <td>0</td>\n",
       "      <td>0</td>\n",
       "      <td>...</td>\n",
       "      <td>0.46888</td>\n",
       "      <td>54.2754</td>\n",
       "      <td>2654.1706</td>\n",
       "      <td>3.1893</td>\n",
       "      <td>4.7304</td>\n",
       "      <td>6.7713</td>\n",
       "      <td>1.8039</td>\n",
       "      <td>-0.149960</td>\n",
       "      <td>0.72962</td>\n",
       "      <td>Malign</td>\n",
       "    </tr>\n",
       "    <tr>\n",
       "      <th>2</th>\n",
       "      <td>4</td>\n",
       "      <td>8</td>\n",
       "      <td>1</td>\n",
       "      <td>9</td>\n",
       "      <td>14</td>\n",
       "      <td>4</td>\n",
       "      <td>1</td>\n",
       "      <td>1</td>\n",
       "      <td>1</td>\n",
       "      <td>0</td>\n",
       "      <td>...</td>\n",
       "      <td>0.48007</td>\n",
       "      <td>36.5319</td>\n",
       "      <td>1166.2156</td>\n",
       "      <td>2.5313</td>\n",
       "      <td>4.0464</td>\n",
       "      <td>5.9552</td>\n",
       "      <td>1.7124</td>\n",
       "      <td>-0.028458</td>\n",
       "      <td>0.32486</td>\n",
       "      <td>Benign</td>\n",
       "    </tr>\n",
       "    <tr>\n",
       "      <th>3</th>\n",
       "      <td>4</td>\n",
       "      <td>8</td>\n",
       "      <td>1</td>\n",
       "      <td>9</td>\n",
       "      <td>15</td>\n",
       "      <td>2</td>\n",
       "      <td>1</td>\n",
       "      <td>1</td>\n",
       "      <td>1</td>\n",
       "      <td>0</td>\n",
       "      <td>...</td>\n",
       "      <td>0.43897</td>\n",
       "      <td>48.3651</td>\n",
       "      <td>2081.4079</td>\n",
       "      <td>3.0147</td>\n",
       "      <td>4.6922</td>\n",
       "      <td>7.3839</td>\n",
       "      <td>1.8264</td>\n",
       "      <td>-0.081846</td>\n",
       "      <td>0.57253</td>\n",
       "      <td>Benign</td>\n",
       "    </tr>\n",
       "    <tr>\n",
       "      <th>4</th>\n",
       "      <td>5</td>\n",
       "      <td>10</td>\n",
       "      <td>1</td>\n",
       "      <td>11</td>\n",
       "      <td>18</td>\n",
       "      <td>2</td>\n",
       "      <td>1</td>\n",
       "      <td>1</td>\n",
       "      <td>0</td>\n",
       "      <td>0</td>\n",
       "      <td>...</td>\n",
       "      <td>0.44106</td>\n",
       "      <td>38.5474</td>\n",
       "      <td>1306.9212</td>\n",
       "      <td>2.5311</td>\n",
       "      <td>4.2309</td>\n",
       "      <td>7.7829</td>\n",
       "      <td>1.8325</td>\n",
       "      <td>-0.024156</td>\n",
       "      <td>0.27899</td>\n",
       "      <td>Benign</td>\n",
       "    </tr>\n",
       "  </tbody>\n",
       "</table>\n",
       "<p>5 rows × 44 columns</p>\n",
       "</div>"
      ],
      "text/plain": [
       "   patient_id  study_id  series  lesion_id  segmentation_id  image_view  \\\n",
       "0           3         4       1          7               10           2   \n",
       "1           3         4       1          7               11           4   \n",
       "2           4         8       1          9               14           4   \n",
       "3           4         8       1          9               15           2   \n",
       "4           5        10       1         11               18           2   \n",
       "\n",
       "   mammography_type  mammography_nodule  mammography_calcification  \\\n",
       "0                 1                   1                          0   \n",
       "1                 1                   1                          0   \n",
       "2                 1                   1                          1   \n",
       "3                 1                   1                          1   \n",
       "4                 1                   1                          0   \n",
       "\n",
       "   mammography_microcalcification       ...         t_homo  t_savgh  \\\n",
       "0                               0       ...        0.52281  55.3474   \n",
       "1                               0       ...        0.46888  54.2754   \n",
       "2                               0       ...        0.48007  36.5319   \n",
       "3                               0       ...        0.43897  48.3651   \n",
       "4                               0       ...        0.44106  38.5474   \n",
       "\n",
       "     t_svarh  t_senth  t_entro  t_dvarh  t_denth   t_inf1h  t_inf2h  \\\n",
       "0  2771.1561   3.0068   4.3143   3.9515   1.5656 -0.190550  0.77071   \n",
       "1  2654.1706   3.1893   4.7304   6.7713   1.8039 -0.149960  0.72962   \n",
       "2  1166.2156   2.5313   4.0464   5.9552   1.7124 -0.028458  0.32486   \n",
       "3  2081.4079   3.0147   4.6922   7.3839   1.8264 -0.081846  0.57253   \n",
       "4  1306.9212   2.5311   4.2309   7.7829   1.8325 -0.024156  0.27899   \n",
       "\n",
       "   classification  \n",
       "0         Malign   \n",
       "1         Malign   \n",
       "2         Benign   \n",
       "3         Benign   \n",
       "4         Benign   \n",
       "\n",
       "[5 rows x 44 columns]"
      ]
     },
     "execution_count": 26,
     "metadata": {},
     "output_type": "execute_result"
    }
   ],
   "source": [
    "bcdr_d01 = pd.read_csv('../data/messy/bcdr_d01_features.csv')\n",
    "bcdr_d01.head()"
   ]
  },
  {
   "cell_type": "code",
   "execution_count": 27,
   "metadata": {},
   "outputs": [
    {
     "data": {
      "text/html": [
       "<div>\n",
       "<style scoped>\n",
       "    .dataframe tbody tr th:only-of-type {\n",
       "        vertical-align: middle;\n",
       "    }\n",
       "\n",
       "    .dataframe tbody tr th {\n",
       "        vertical-align: top;\n",
       "    }\n",
       "\n",
       "    .dataframe thead th {\n",
       "        text-align: right;\n",
       "    }\n",
       "</style>\n",
       "<table border=\"1\" class=\"dataframe\">\n",
       "  <thead>\n",
       "    <tr style=\"text-align: right;\">\n",
       "      <th></th>\n",
       "      <th>patient_id</th>\n",
       "      <th>study_id</th>\n",
       "      <th>series</th>\n",
       "      <th>lesion_id</th>\n",
       "      <th>segmentation_id</th>\n",
       "      <th>image_view</th>\n",
       "      <th>mammography_type</th>\n",
       "      <th>mammography_nodule</th>\n",
       "      <th>mammography_calcification</th>\n",
       "      <th>mammography_microcalcification</th>\n",
       "      <th>...</th>\n",
       "      <th>t_homo</th>\n",
       "      <th>t_savgh</th>\n",
       "      <th>t_svarh</th>\n",
       "      <th>t_senth</th>\n",
       "      <th>t_entro</th>\n",
       "      <th>t_dvarh</th>\n",
       "      <th>t_denth</th>\n",
       "      <th>t_inf1h</th>\n",
       "      <th>t_inf2h</th>\n",
       "      <th>classification</th>\n",
       "    </tr>\n",
       "  </thead>\n",
       "  <tbody>\n",
       "    <tr>\n",
       "      <th>0</th>\n",
       "      <td>2</td>\n",
       "      <td>3</td>\n",
       "      <td>1</td>\n",
       "      <td>5</td>\n",
       "      <td>6</td>\n",
       "      <td>4</td>\n",
       "      <td>1</td>\n",
       "      <td>0</td>\n",
       "      <td>1</td>\n",
       "      <td>0</td>\n",
       "      <td>...</td>\n",
       "      <td>0.37143</td>\n",
       "      <td>54.1492</td>\n",
       "      <td>2662.4732</td>\n",
       "      <td>2.6950</td>\n",
       "      <td>4.34150</td>\n",
       "      <td>14.9935</td>\n",
       "      <td>2.13670</td>\n",
       "      <td>-0.050623</td>\n",
       "      <td>0.44845</td>\n",
       "      <td>Benign</td>\n",
       "    </tr>\n",
       "    <tr>\n",
       "      <th>1</th>\n",
       "      <td>2</td>\n",
       "      <td>3</td>\n",
       "      <td>1</td>\n",
       "      <td>5</td>\n",
       "      <td>7</td>\n",
       "      <td>2</td>\n",
       "      <td>1</td>\n",
       "      <td>0</td>\n",
       "      <td>1</td>\n",
       "      <td>0</td>\n",
       "      <td>...</td>\n",
       "      <td>0.38186</td>\n",
       "      <td>57.8790</td>\n",
       "      <td>3071.1647</td>\n",
       "      <td>2.6133</td>\n",
       "      <td>3.93910</td>\n",
       "      <td>20.0630</td>\n",
       "      <td>2.22450</td>\n",
       "      <td>-0.052866</td>\n",
       "      <td>0.43563</td>\n",
       "      <td>Benign</td>\n",
       "    </tr>\n",
       "    <tr>\n",
       "      <th>2</th>\n",
       "      <td>2</td>\n",
       "      <td>3</td>\n",
       "      <td>1</td>\n",
       "      <td>6</td>\n",
       "      <td>8</td>\n",
       "      <td>3</td>\n",
       "      <td>1</td>\n",
       "      <td>0</td>\n",
       "      <td>1</td>\n",
       "      <td>0</td>\n",
       "      <td>...</td>\n",
       "      <td>0.54930</td>\n",
       "      <td>59.6439</td>\n",
       "      <td>3320.0736</td>\n",
       "      <td>2.2776</td>\n",
       "      <td>2.94620</td>\n",
       "      <td>36.8709</td>\n",
       "      <td>2.19570</td>\n",
       "      <td>-0.075392</td>\n",
       "      <td>0.44985</td>\n",
       "      <td>Benign</td>\n",
       "    </tr>\n",
       "    <tr>\n",
       "      <th>3</th>\n",
       "      <td>2</td>\n",
       "      <td>3</td>\n",
       "      <td>1</td>\n",
       "      <td>6</td>\n",
       "      <td>9</td>\n",
       "      <td>1</td>\n",
       "      <td>1</td>\n",
       "      <td>0</td>\n",
       "      <td>1</td>\n",
       "      <td>0</td>\n",
       "      <td>...</td>\n",
       "      <td>0.57982</td>\n",
       "      <td>60.7882</td>\n",
       "      <td>3457.9421</td>\n",
       "      <td>2.1277</td>\n",
       "      <td>2.77310</td>\n",
       "      <td>17.4251</td>\n",
       "      <td>1.96920</td>\n",
       "      <td>-0.062953</td>\n",
       "      <td>0.40322</td>\n",
       "      <td>Benign</td>\n",
       "    </tr>\n",
       "    <tr>\n",
       "      <th>4</th>\n",
       "      <td>4</td>\n",
       "      <td>7</td>\n",
       "      <td>1</td>\n",
       "      <td>8</td>\n",
       "      <td>12</td>\n",
       "      <td>4</td>\n",
       "      <td>1</td>\n",
       "      <td>0</td>\n",
       "      <td>1</td>\n",
       "      <td>0</td>\n",
       "      <td>...</td>\n",
       "      <td>0.87301</td>\n",
       "      <td>63.0109</td>\n",
       "      <td>3877.8254</td>\n",
       "      <td>0.7949</td>\n",
       "      <td>0.91448</td>\n",
       "      <td>6.7711</td>\n",
       "      <td>0.78574</td>\n",
       "      <td>-0.062137</td>\n",
       "      <td>0.22887</td>\n",
       "      <td>Benign</td>\n",
       "    </tr>\n",
       "  </tbody>\n",
       "</table>\n",
       "<p>5 rows × 44 columns</p>\n",
       "</div>"
      ],
      "text/plain": [
       "   patient_id  study_id  series  lesion_id  segmentation_id  image_view  \\\n",
       "0           2         3       1          5                6           4   \n",
       "1           2         3       1          5                7           2   \n",
       "2           2         3       1          6                8           3   \n",
       "3           2         3       1          6                9           1   \n",
       "4           4         7       1          8               12           4   \n",
       "\n",
       "   mammography_type  mammography_nodule  mammography_calcification  \\\n",
       "0                 1                   0                          1   \n",
       "1                 1                   0                          1   \n",
       "2                 1                   0                          1   \n",
       "3                 1                   0                          1   \n",
       "4                 1                   0                          1   \n",
       "\n",
       "   mammography_microcalcification       ...         t_homo  t_savgh  \\\n",
       "0                               0       ...        0.37143  54.1492   \n",
       "1                               0       ...        0.38186  57.8790   \n",
       "2                               0       ...        0.54930  59.6439   \n",
       "3                               0       ...        0.57982  60.7882   \n",
       "4                               0       ...        0.87301  63.0109   \n",
       "\n",
       "     t_svarh  t_senth  t_entro  t_dvarh  t_denth   t_inf1h  t_inf2h  \\\n",
       "0  2662.4732   2.6950  4.34150  14.9935  2.13670 -0.050623  0.44845   \n",
       "1  3071.1647   2.6133  3.93910  20.0630  2.22450 -0.052866  0.43563   \n",
       "2  3320.0736   2.2776  2.94620  36.8709  2.19570 -0.075392  0.44985   \n",
       "3  3457.9421   2.1277  2.77310  17.4251  1.96920 -0.062953  0.40322   \n",
       "4  3877.8254   0.7949  0.91448   6.7711  0.78574 -0.062137  0.22887   \n",
       "\n",
       "   classification  \n",
       "0         Benign   \n",
       "1         Benign   \n",
       "2         Benign   \n",
       "3         Benign   \n",
       "4         Benign   \n",
       "\n",
       "[5 rows x 44 columns]"
      ]
     },
     "execution_count": 27,
     "metadata": {},
     "output_type": "execute_result"
    }
   ],
   "source": [
    "bcdr_d02 = pd.read_csv('../data/messy/bcdr_d02_features.csv')\n",
    "bcdr_d02.head()"
   ]
  },
  {
   "cell_type": "markdown",
   "metadata": {},
   "source": [
    "## Join Datasets"
   ]
  },
  {
   "cell_type": "code",
   "execution_count": 28,
   "metadata": {},
   "outputs": [],
   "source": [
    "frames = [bcdr_d01, bcdr_d02]\n",
    "bcdr_d0G = pd.concat(frames)"
   ]
  },
  {
   "cell_type": "markdown",
   "metadata": {},
   "source": [
    "## Null Cols"
   ]
  },
  {
   "cell_type": "code",
   "execution_count": 29,
   "metadata": {},
   "outputs": [
    {
     "name": "stdout",
     "output_type": "stream",
     "text": [
      "**bcdr_d01:**\n",
      "patient_id                              0.000000\n",
      "study_id                                0.000000\n",
      "series                                  0.000000\n",
      "lesion_id                               0.000000\n",
      "segmentation_id                         0.000000\n",
      "image_view                              0.000000\n",
      "mammography_type                        0.000000\n",
      "mammography_nodule                      0.000000\n",
      "mammography_calcification               0.000000\n",
      "mammography_microcalcification          0.000000\n",
      "mammography_axillary_adenopathy         0.000000\n",
      "mammography_architectural_distortion    0.000000\n",
      "mammography_stroma_distortion           0.000000\n",
      "age                                     0.000000\n",
      "density                                 8.862876\n",
      "i_mean                                  0.000000\n",
      "i_std_dev                               0.000000\n",
      "i_maximum                               0.000000\n",
      "i_minimum                               0.000000\n",
      "i_kurtosis                              0.000000\n",
      "i_skewness                              0.000000\n",
      "s_area                                  0.000000\n",
      "s_perimeter                             0.000000\n",
      "s_x_center_mass                         0.000000\n",
      "s_y_center_mass                         0.000000\n",
      "s_circularity                           0.000000\n",
      "s_elongation                            0.000000\n",
      "s_form                                  0.000000\n",
      "s_solidity                              0.000000\n",
      "s_extent                                0.000000\n",
      "t_energ                                 6.521739\n",
      "t_contr                                 6.521739\n",
      "t_corr                                  6.688963\n",
      "t_sosvh                                 6.521739\n",
      "t_homo                                  6.521739\n",
      "t_savgh                                 6.521739\n",
      "t_svarh                                 6.521739\n",
      "t_senth                                 6.521739\n",
      "t_entro                                 6.521739\n",
      "t_dvarh                                 6.521739\n",
      "t_denth                                 6.521739\n",
      "t_inf1h                                 6.521739\n",
      "t_inf2h                                 6.521739\n",
      "classification                          0.000000\n",
      "dtype: float64\n"
     ]
    }
   ],
   "source": [
    "print('**bcdr_d01:**')\n",
    "print(bcdr_d0G.isnull().mean()*100)"
   ]
  },
  {
   "cell_type": "markdown",
   "metadata": {},
   "source": [
    "## NA Cols"
   ]
  },
  {
   "cell_type": "code",
   "execution_count": 30,
   "metadata": {},
   "outputs": [
    {
     "name": "stdout",
     "output_type": "stream",
     "text": [
      "**bcdr_d01:**\n",
      "patient_id                              0.000000\n",
      "study_id                                0.000000\n",
      "series                                  0.000000\n",
      "lesion_id                               0.000000\n",
      "segmentation_id                         0.000000\n",
      "image_view                              0.000000\n",
      "mammography_type                        0.000000\n",
      "mammography_nodule                      0.000000\n",
      "mammography_calcification               0.000000\n",
      "mammography_microcalcification          0.000000\n",
      "mammography_axillary_adenopathy         0.000000\n",
      "mammography_architectural_distortion    0.000000\n",
      "mammography_stroma_distortion           0.000000\n",
      "age                                     0.000000\n",
      "density                                 8.862876\n",
      "i_mean                                  0.000000\n",
      "i_std_dev                               0.000000\n",
      "i_maximum                               0.000000\n",
      "i_minimum                               0.000000\n",
      "i_kurtosis                              0.000000\n",
      "i_skewness                              0.000000\n",
      "s_area                                  0.000000\n",
      "s_perimeter                             0.000000\n",
      "s_x_center_mass                         0.000000\n",
      "s_y_center_mass                         0.000000\n",
      "s_circularity                           0.000000\n",
      "s_elongation                            0.000000\n",
      "s_form                                  0.000000\n",
      "s_solidity                              0.000000\n",
      "s_extent                                0.000000\n",
      "t_energ                                 6.521739\n",
      "t_contr                                 6.521739\n",
      "t_corr                                  6.688963\n",
      "t_sosvh                                 6.521739\n",
      "t_homo                                  6.521739\n",
      "t_savgh                                 6.521739\n",
      "t_svarh                                 6.521739\n",
      "t_senth                                 6.521739\n",
      "t_entro                                 6.521739\n",
      "t_dvarh                                 6.521739\n",
      "t_denth                                 6.521739\n",
      "t_inf1h                                 6.521739\n",
      "t_inf2h                                 6.521739\n",
      "classification                          0.000000\n",
      "dtype: float64\n"
     ]
    }
   ],
   "source": [
    "print('**bcdr_d01:**')\n",
    "print(bcdr_d0G.isna().mean()*100)"
   ]
  },
  {
   "cell_type": "markdown",
   "metadata": {},
   "source": [
    "## NA Cols with Mean"
   ]
  },
  {
   "cell_type": "code",
   "execution_count": 31,
   "metadata": {},
   "outputs": [
    {
     "data": {
      "text/plain": [
       "<matplotlib.axes._subplots.AxesSubplot at 0x7f0dc045d2b0>"
      ]
     },
     "execution_count": 31,
     "metadata": {},
     "output_type": "execute_result"
    },
    {
     "data": {
      "image/png": "[encoded data removed]",
      "text/plain": [
       "<Figure size 432x288 with 1 Axes>"
      ]
     },
     "metadata": {
      "needs_background": "light"
     },
     "output_type": "display_data"
    }
   ],
   "source": [
    "bcdr_d0G.density.hist()"
   ]
  },
  {
   "cell_type": "code",
   "execution_count": 32,
   "metadata": {},
   "outputs": [
    {
     "data": {
      "text/plain": [
       "<matplotlib.axes._subplots.AxesSubplot at 0x7f0d8ff8b278>"
      ]
     },
     "execution_count": 32,
     "metadata": {},
     "output_type": "execute_result"
    },
    {
     "data": {
      "image/png": "[encoded data removed]",
      "text/plain": [
       "<Figure size 432x288 with 1 Axes>"
      ]
     },
     "metadata": {
      "needs_background": "light"
     },
     "output_type": "display_data"
    }
   ],
   "source": [
    "bcdr_d0G.t_energ.hist()\n"
   ]
  },
  {
   "cell_type": "code",
   "execution_count": 9,
   "metadata": {},
   "outputs": [
    {
     "data": {
      "text/plain": [
       "<matplotlib.axes._subplots.AxesSubplot at 0x7f0d90341320>"
      ]
     },
     "execution_count": 9,
     "metadata": {},
     "output_type": "execute_result"
    },
    {
     "data": {
      "image/png": "[encoded data removed]",
      "text/plain": [
       "<Figure size 432x288 with 1 Axes>"
      ]
     },
     "metadata": {
      "needs_background": "light"
     },
     "output_type": "display_data"
    }
   ],
   "source": [
    "bcdr_d0G.t_contr.hist()"
   ]
  },
  {
   "cell_type": "code",
   "execution_count": 10,
   "metadata": {},
   "outputs": [
    {
     "data": {
      "text/plain": [
       "<matplotlib.axes._subplots.AxesSubplot at 0x7f0d90283f98>"
      ]
     },
     "execution_count": 10,
     "metadata": {},
     "output_type": "execute_result"
    },
    {
     "data": {
      "image/png": "[encoded data removed]",
      "text/plain": [
       "<Figure size 432x288 with 1 Axes>"
      ]
     },
     "metadata": {
      "needs_background": "light"
     },
     "output_type": "display_data"
    }
   ],
   "source": [
    "bcdr_d0G.t_corr.hist()"
   ]
  },
  {
   "cell_type": "code",
   "execution_count": 11,
   "metadata": {},
   "outputs": [
    {
     "data": {
      "text/plain": [
       "<matplotlib.axes._subplots.AxesSubplot at 0x7f0d902a5780>"
      ]
     },
     "execution_count": 11,
     "metadata": {},
     "output_type": "execute_result"
    },
    {
     "data": {
      "image/png": "[encoded data removed]",
      "text/plain": [
       "<Figure size 432x288 with 1 Axes>"
      ]
     },
     "metadata": {
      "needs_background": "light"
     },
     "output_type": "display_data"
    }
   ],
   "source": [
    "bcdr_d0G.t_sosvh.hist()"
   ]
  },
  {
   "cell_type": "code",
   "execution_count": 12,
   "metadata": {},
   "outputs": [
    {
     "data": {
      "text/plain": [
       "<matplotlib.axes._subplots.AxesSubplot at 0x7f0d90206550>"
      ]
     },
     "execution_count": 12,
     "metadata": {},
     "output_type": "execute_result"
    },
    {
     "data": {
      "image/png": "[encoded data removed]",
      "text/plain": [
       "<Figure size 432x288 with 1 Axes>"
      ]
     },
     "metadata": {
      "needs_background": "light"
     },
     "output_type": "display_data"
    }
   ],
   "source": [
    "bcdr_d0G.t_homo.hist()"
   ]
  },
  {
   "cell_type": "code",
   "execution_count": 13,
   "metadata": {},
   "outputs": [
    {
     "data": {
      "text/plain": [
       "<matplotlib.axes._subplots.AxesSubplot at 0x7f0d901dde80>"
      ]
     },
     "execution_count": 13,
     "metadata": {},
     "output_type": "execute_result"
    },
    {
     "data": {
      "image/png": "[encoded data removed]",
      "text/plain": [
       "<Figure size 432x288 with 1 Axes>"
      ]
     },
     "metadata": {
      "needs_background": "light"
     },
     "output_type": "display_data"
    }
   ],
   "source": [
    "bcdr_d0G.t_savgh.hist()"
   ]
  },
  {
   "cell_type": "code",
   "execution_count": 14,
   "metadata": {},
   "outputs": [
    {
     "data": {
      "text/plain": [
       "<matplotlib.axes._subplots.AxesSubplot at 0x7f0d90138be0>"
      ]
     },
     "execution_count": 14,
     "metadata": {},
     "output_type": "execute_result"
    },
    {
     "data": {
      "image/png": "[encoded data removed]",
      "text/plain": [
       "<Figure size 432x288 with 1 Axes>"
      ]
     },
     "metadata": {
      "needs_background": "light"
     },
     "output_type": "display_data"
    }
   ],
   "source": [
    "bcdr_d0G.t_svarh.hist()"
   ]
  },
  {
   "cell_type": "code",
   "execution_count": 15,
   "metadata": {},
   "outputs": [
    {
     "data": {
      "text/plain": [
       "<matplotlib.axes._subplots.AxesSubplot at 0x7f0d9016a2b0>"
      ]
     },
     "execution_count": 15,
     "metadata": {},
     "output_type": "execute_result"
    },
    {
     "data": {
      "image/png": "[encoded data removed]",
      "text/plain": [
       "<Figure size 432x288 with 1 Axes>"
      ]
     },
     "metadata": {
      "needs_background": "light"
     },
     "output_type": "display_data"
    }
   ],
   "source": [
    "bcdr_d0G.t_senth.hist()\n"
   ]
  },
  {
   "cell_type": "code",
   "execution_count": 16,
   "metadata": {},
   "outputs": [
    {
     "data": {
      "text/plain": [
       "<matplotlib.axes._subplots.AxesSubplot at 0x7f0d900c4e80>"
      ]
     },
     "execution_count": 16,
     "metadata": {},
     "output_type": "execute_result"
    },
    {
     "data": {
      "image/png": "[encoded data removed]",
      "text/plain": [
       "<Figure size 432x288 with 1 Axes>"
      ]
     },
     "metadata": {
      "needs_background": "light"
     },
     "output_type": "display_data"
    }
   ],
   "source": [
    "bcdr_d0G.t_entro.hist()"
   ]
  },
  {
   "cell_type": "code",
   "execution_count": 17,
   "metadata": {},
   "outputs": [
    {
     "data": {
      "text/plain": [
       "<matplotlib.axes._subplots.AxesSubplot at 0x7f0d90098080>"
      ]
     },
     "execution_count": 17,
     "metadata": {},
     "output_type": "execute_result"
    },
    {
     "data": {
      "image/png": "[encoded data removed]",
      "text/plain": [
       "<Figure size 432x288 with 1 Axes>"
      ]
     },
     "metadata": {
      "needs_background": "light"
     },
     "output_type": "display_data"
    }
   ],
   "source": [
    "bcdr_d0G.t_dvarh.hist()"
   ]
  },
  {
   "cell_type": "code",
   "execution_count": 18,
   "metadata": {},
   "outputs": [
    {
     "data": {
      "text/plain": [
       "<matplotlib.axes._subplots.AxesSubplot at 0x7f0d900dc0b8>"
      ]
     },
     "execution_count": 18,
     "metadata": {},
     "output_type": "execute_result"
    },
    {
     "data": {
      "image/png": "[encoded data removed]",
      "text/plain": [
       "<Figure size 432x288 with 1 Axes>"
      ]
     },
     "metadata": {
      "needs_background": "light"
     },
     "output_type": "display_data"
    }
   ],
   "source": [
    "bcdr_d0G.t_denth.hist(bins=3)"
   ]
  },
  {
   "cell_type": "code",
   "execution_count": 19,
   "metadata": {},
   "outputs": [
    {
     "data": {
      "text/plain": [
       "<matplotlib.axes._subplots.AxesSubplot at 0x7f0d8ffbac50>"
      ]
     },
     "execution_count": 19,
     "metadata": {},
     "output_type": "execute_result"
    },
    {
     "data": {
      "image/png": "[encoded data removed]",
      "text/plain": [
       "<Figure size 432x288 with 1 Axes>"
      ]
     },
     "metadata": {
      "needs_background": "light"
     },
     "output_type": "display_data"
    }
   ],
   "source": [
    "bcdr_d0G.t_inf1h.hist()"
   ]
  },
  {
   "cell_type": "code",
   "execution_count": 20,
   "metadata": {},
   "outputs": [
    {
     "data": {
      "text/plain": [
       "<matplotlib.axes._subplots.AxesSubplot at 0x7f0d8ff8b908>"
      ]
     },
     "execution_count": 20,
     "metadata": {},
     "output_type": "execute_result"
    },
    {
     "data": {
      "image/png": "[encoded data removed]",
      "text/plain": [
       "<Figure size 432x288 with 1 Axes>"
      ]
     },
     "metadata": {
      "needs_background": "light"
     },
     "output_type": "display_data"
    }
   ],
   "source": [
    "bcdr_d0G.t_inf2h.hist()"
   ]
  },
  {
   "cell_type": "code",
   "execution_count": 34,
   "metadata": {},
   "outputs": [],
   "source": [
    "bcdr_d0G_med = bcdr_d0G.fillna(bcdr_d0G.median())\n",
    "bcdr_d0G_avg = bcdr_d0G.fillna(bcdr_d0G.mean())\n",
    "#bcdr_d0G_gmean = bcdr_d0G.fillna(bcdr_d0G.gmean())"
   ]
  },
  {
   "cell_type": "code",
   "execution_count": 35,
   "metadata": {},
   "outputs": [],
   "source": [
    "bcdr_d0G_med.to_csv('../data/clean/bcdr_d0G_med.csv', index=False)\n",
    "bcdr_d0G_avg.to_csv('../data/clean/bcdr_d0G_avg.csv', index=False)"
   ]
  },
  {
   "cell_type": "code",
   "execution_count": null,
   "metadata": {},
   "outputs": [],
   "source": []
  }
 ],
 "metadata": {
  "kernelspec": {
   "display_name": "Python [conda env:pyml]",
   "language": "python",
   "name": "conda-env-pyml-py"
  },
  "language_info": {
   "codemirror_mode": {
    "name": "ipython",
    "version": 3
   },
   "file_extension": ".py",
   "mimetype": "text/x-python",
   "name": "python",
   "nbconvert_exporter": "python",
   "pygments_lexer": "ipython3",
   "version": "3.5.6"
  }
 },
 "nbformat": 4,
 "nbformat_minor": 2
}
