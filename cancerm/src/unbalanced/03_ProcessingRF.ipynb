{
 "cells": [
  {
   "cell_type": "code",
   "execution_count": 4,
   "metadata": {},
   "outputs": [],
   "source": [
    "from sklearn.model_selection import train_test_split\n",
    "from sklearn.metrics import mean_squared_error\n",
    "from sklearn import linear_model\n",
    "from sklearn import datasets\n",
    "from math import sqrt\n",
    "\n",
    "import matplotlib.pyplot as plt\n",
    "import statsmodels.api as sm\n",
    "import scipy.optimize as opt\n",
    "from scipy import stats\n",
    "import seaborn as sns\n",
    "import pandas as pd\n",
    "import numpy as np\n",
    "import warnings\n",
    "\n",
    "warnings.filterwarnings(\"ignore\")\n",
    "sns.set_style(\"ticks\")\n",
    "%matplotlib inline"
   ]
  },
  {
   "cell_type": "code",
   "execution_count": 5,
   "metadata": {},
   "outputs": [],
   "source": [
    "from sklearn.ensemble import RandomForestClassifier\n",
    "from sklearn.model_selection import cross_val_score\n",
    "from sklearn.metrics import accuracy_score, classification_report, confusion_matrix, roc_curve, roc_auc_score"
   ]
  },
  {
   "cell_type": "code",
   "execution_count": 6,
   "metadata": {},
   "outputs": [
    {
     "data": {
      "text/html": [
       "<div>\n",
       "<style scoped>\n",
       "    .dataframe tbody tr th:only-of-type {\n",
       "        vertical-align: middle;\n",
       "    }\n",
       "\n",
       "    .dataframe tbody tr th {\n",
       "        vertical-align: top;\n",
       "    }\n",
       "\n",
       "    .dataframe thead th {\n",
       "        text-align: right;\n",
       "    }\n",
       "</style>\n",
       "<table border=\"1\" class=\"dataframe\">\n",
       "  <thead>\n",
       "    <tr style=\"text-align: right;\">\n",
       "      <th></th>\n",
       "      <th>image_view</th>\n",
       "      <th>mammography_nodule</th>\n",
       "      <th>mammography_calcification</th>\n",
       "      <th>mammography_microcalcification</th>\n",
       "      <th>mammography_architectural_distortion</th>\n",
       "      <th>mammography_stroma_distortion</th>\n",
       "      <th>age</th>\n",
       "      <th>density</th>\n",
       "      <th>i_mean</th>\n",
       "      <th>i_std_dev</th>\n",
       "      <th>...</th>\n",
       "      <th>t_homo</th>\n",
       "      <th>t_savgh</th>\n",
       "      <th>t_svarh</th>\n",
       "      <th>t_senth</th>\n",
       "      <th>t_entro</th>\n",
       "      <th>t_dvarh</th>\n",
       "      <th>t_denth</th>\n",
       "      <th>t_inf1h</th>\n",
       "      <th>t_inf2h</th>\n",
       "      <th>diagnosis</th>\n",
       "    </tr>\n",
       "  </thead>\n",
       "  <tbody>\n",
       "    <tr>\n",
       "      <th>0</th>\n",
       "      <td>2</td>\n",
       "      <td>1</td>\n",
       "      <td>0</td>\n",
       "      <td>0</td>\n",
       "      <td>1</td>\n",
       "      <td>0</td>\n",
       "      <td>74</td>\n",
       "      <td>1.0</td>\n",
       "      <td>0.85478</td>\n",
       "      <td>0.096944</td>\n",
       "      <td>...</td>\n",
       "      <td>0.52281</td>\n",
       "      <td>55.3474</td>\n",
       "      <td>2771.1561</td>\n",
       "      <td>3.0068</td>\n",
       "      <td>4.3143</td>\n",
       "      <td>3.9515</td>\n",
       "      <td>1.5656</td>\n",
       "      <td>-0.190550</td>\n",
       "      <td>0.77071</td>\n",
       "      <td>1</td>\n",
       "    </tr>\n",
       "    <tr>\n",
       "      <th>1</th>\n",
       "      <td>4</td>\n",
       "      <td>1</td>\n",
       "      <td>0</td>\n",
       "      <td>0</td>\n",
       "      <td>1</td>\n",
       "      <td>0</td>\n",
       "      <td>74</td>\n",
       "      <td>1.0</td>\n",
       "      <td>0.83313</td>\n",
       "      <td>0.119880</td>\n",
       "      <td>...</td>\n",
       "      <td>0.46888</td>\n",
       "      <td>54.2754</td>\n",
       "      <td>2654.1706</td>\n",
       "      <td>3.1893</td>\n",
       "      <td>4.7304</td>\n",
       "      <td>6.7713</td>\n",
       "      <td>1.8039</td>\n",
       "      <td>-0.149960</td>\n",
       "      <td>0.72962</td>\n",
       "      <td>1</td>\n",
       "    </tr>\n",
       "    <tr>\n",
       "      <th>2</th>\n",
       "      <td>4</td>\n",
       "      <td>1</td>\n",
       "      <td>1</td>\n",
       "      <td>0</td>\n",
       "      <td>0</td>\n",
       "      <td>0</td>\n",
       "      <td>59</td>\n",
       "      <td>3.0</td>\n",
       "      <td>0.55903</td>\n",
       "      <td>0.070948</td>\n",
       "      <td>...</td>\n",
       "      <td>0.48007</td>\n",
       "      <td>36.5319</td>\n",
       "      <td>1166.2156</td>\n",
       "      <td>2.5313</td>\n",
       "      <td>4.0464</td>\n",
       "      <td>5.9552</td>\n",
       "      <td>1.7124</td>\n",
       "      <td>-0.028458</td>\n",
       "      <td>0.32486</td>\n",
       "      <td>0</td>\n",
       "    </tr>\n",
       "    <tr>\n",
       "      <th>3</th>\n",
       "      <td>2</td>\n",
       "      <td>1</td>\n",
       "      <td>1</td>\n",
       "      <td>0</td>\n",
       "      <td>0</td>\n",
       "      <td>0</td>\n",
       "      <td>59</td>\n",
       "      <td>3.0</td>\n",
       "      <td>0.75233</td>\n",
       "      <td>0.094601</td>\n",
       "      <td>...</td>\n",
       "      <td>0.43897</td>\n",
       "      <td>48.3651</td>\n",
       "      <td>2081.4079</td>\n",
       "      <td>3.0147</td>\n",
       "      <td>4.6922</td>\n",
       "      <td>7.3839</td>\n",
       "      <td>1.8264</td>\n",
       "      <td>-0.081846</td>\n",
       "      <td>0.57253</td>\n",
       "      <td>0</td>\n",
       "    </tr>\n",
       "    <tr>\n",
       "      <th>4</th>\n",
       "      <td>2</td>\n",
       "      <td>1</td>\n",
       "      <td>0</td>\n",
       "      <td>0</td>\n",
       "      <td>0</td>\n",
       "      <td>0</td>\n",
       "      <td>64</td>\n",
       "      <td>1.0</td>\n",
       "      <td>0.58568</td>\n",
       "      <td>0.069084</td>\n",
       "      <td>...</td>\n",
       "      <td>0.44106</td>\n",
       "      <td>38.5474</td>\n",
       "      <td>1306.9212</td>\n",
       "      <td>2.5311</td>\n",
       "      <td>4.2309</td>\n",
       "      <td>7.7829</td>\n",
       "      <td>1.8325</td>\n",
       "      <td>-0.024156</td>\n",
       "      <td>0.27899</td>\n",
       "      <td>0</td>\n",
       "    </tr>\n",
       "  </tbody>\n",
       "</table>\n",
       "<p>5 rows × 37 columns</p>\n",
       "</div>"
      ],
      "text/plain": [
       "   image_view  mammography_nodule  mammography_calcification  \\\n",
       "0           2                   1                          0   \n",
       "1           4                   1                          0   \n",
       "2           4                   1                          1   \n",
       "3           2                   1                          1   \n",
       "4           2                   1                          0   \n",
       "\n",
       "   mammography_microcalcification  mammography_architectural_distortion  \\\n",
       "0                               0                                     1   \n",
       "1                               0                                     1   \n",
       "2                               0                                     0   \n",
       "3                               0                                     0   \n",
       "4                               0                                     0   \n",
       "\n",
       "   mammography_stroma_distortion  age  density   i_mean  i_std_dev    ...      \\\n",
       "0                              0   74      1.0  0.85478   0.096944    ...       \n",
       "1                              0   74      1.0  0.83313   0.119880    ...       \n",
       "2                              0   59      3.0  0.55903   0.070948    ...       \n",
       "3                              0   59      3.0  0.75233   0.094601    ...       \n",
       "4                              0   64      1.0  0.58568   0.069084    ...       \n",
       "\n",
       "    t_homo  t_savgh    t_svarh  t_senth  t_entro  t_dvarh  t_denth   t_inf1h  \\\n",
       "0  0.52281  55.3474  2771.1561   3.0068   4.3143   3.9515   1.5656 -0.190550   \n",
       "1  0.46888  54.2754  2654.1706   3.1893   4.7304   6.7713   1.8039 -0.149960   \n",
       "2  0.48007  36.5319  1166.2156   2.5313   4.0464   5.9552   1.7124 -0.028458   \n",
       "3  0.43897  48.3651  2081.4079   3.0147   4.6922   7.3839   1.8264 -0.081846   \n",
       "4  0.44106  38.5474  1306.9212   2.5311   4.2309   7.7829   1.8325 -0.024156   \n",
       "\n",
       "   t_inf2h  diagnosis  \n",
       "0  0.77071          1  \n",
       "1  0.72962          1  \n",
       "2  0.32486          0  \n",
       "3  0.57253          0  \n",
       "4  0.27899          0  \n",
       "\n",
       "[5 rows x 37 columns]"
      ]
     },
     "execution_count": 6,
     "metadata": {},
     "output_type": "execute_result"
    }
   ],
   "source": [
    "fs_data = pd.read_csv('../data/clean/bcdr_d0G_medc.csv')\n",
    "fs_data.head()"
   ]
  },
  {
   "cell_type": "code",
   "execution_count": 7,
   "metadata": {},
   "outputs": [],
   "source": [
    "x_values = fs_data[\n",
    "    ['mammography_nodule', 'i_mean',     'i_skewness', 's_x_center_mass',\n",
    "    's_y_center_mass',    's_solidity', 's_extent',   't_corr','t_homo', 't_senth']]\n",
    "y_values = fs_data[\"diagnosis\"]"
   ]
  },
  {
   "cell_type": "code",
   "execution_count": 8,
   "metadata": {},
   "outputs": [],
   "source": [
    "# Data Split\n",
    "from sklearn.model_selection import train_test_split\n",
    "seed = 1234\n",
    "x_train, x_test, y_train, y_test = train_test_split(x_values, y_values, test_size=0.3, random_state=seed)"
   ]
  },
  {
   "cell_type": "markdown",
   "metadata": {},
   "source": [
    "## Metrics Used"
   ]
  },
  {
   "cell_type": "code",
   "execution_count": 9,
   "metadata": {},
   "outputs": [],
   "source": [
    "def print_metrics(y_test, y_pred):\n",
    "    cm = confusion_matrix(y_test, y_pred=y_pred)\n",
    "    sns.heatmap(cm, annot=True)\n",
    "    target_names = ['0', '1']\n",
    "    print(classification_report(y_test, y_pred, target_names=target_names))\n",
    "    print('Accuracy: {0}'.format(accuracy_score(y_test, y_pred)))\n",
    "    \n",
    "def plot_roc(y_test, y_pred, model):\n",
    "    # calculate roc curve\n",
    "    fpr, tpr, thresholds = roc_curve(y_test, y_pred)\n",
    "    auc = roc_auc_score(y_test, y_pred)\n",
    "\n",
    "    plt.plot([0, 1], [0, 1], color='red', linestyle='--')\n",
    "    plt.plot(fpr, tpr, marker='.', label = 'AUC: %0.2f' % auc, color= 'green')\n",
    "    plt.title('{0} (ROC + AUC)'.format(model))\n",
    "    plt.xlabel('False Positive Rate (x)')\n",
    "    plt.ylabel('True Positive Rate (y)')\n",
    "    plt.legend(loc=\"lower right\")\n",
    "    plt.grid()\n",
    "    plt.show()"
   ]
  },
  {
   "cell_type": "markdown",
   "metadata": {},
   "source": [
    "## Random Forest (No Normalized)"
   ]
  },
  {
   "cell_type": "code",
   "execution_count": 10,
   "metadata": {},
   "outputs": [
    {
     "name": "stdout",
     "output_type": "stream",
     "text": [
      "              precision    recall  f1-score   support\n",
      "\n",
      "           0       0.99      0.98      0.98       154\n",
      "           1       0.89      0.92      0.91        26\n",
      "\n",
      "   micro avg       0.97      0.97      0.97       180\n",
      "   macro avg       0.94      0.95      0.94       180\n",
      "weighted avg       0.97      0.97      0.97       180\n",
      "\n",
      "Accuracy: 0.9722222222222222\n"
     ]
    },
    {
     "data": {
      "image/png": "[encoded data removed]",
      "text/plain": [
       "<Figure size 432x288 with 2 Axes>"
      ]
     },
     "metadata": {
      "needs_background": "light"
     },
     "output_type": "display_data"
    }
   ],
   "source": [
    "lr_model = RandomForestClassifier(random_state=2,n_estimators=100)\n",
    "lr_model.fit(x_train, y_train)\n",
    "y_pred = lr_model.predict(x_test)\n",
    "print_metrics(y_test, y_pred)"
   ]
  },
  {
   "cell_type": "code",
   "execution_count": 11,
   "metadata": {},
   "outputs": [
    {
     "data": {
      "image/png": "[encoded data removed]",
      "text/plain": [
       "<Figure size 432x288 with 1 Axes>"
      ]
     },
     "metadata": {
      "needs_background": "light"
     },
     "output_type": "display_data"
    }
   ],
   "source": [
    "plot_roc(y_test, y_pred, 'Logistic Regression - NN')"
   ]
  },
  {
   "cell_type": "markdown",
   "metadata": {},
   "source": [
    "## Random Forest (Normalized Z-Score)"
   ]
  },
  {
   "cell_type": "code",
   "execution_count": 12,
   "metadata": {},
   "outputs": [
    {
     "data": {
      "text/html": [
       "<div>\n",
       "<style scoped>\n",
       "    .dataframe tbody tr th:only-of-type {\n",
       "        vertical-align: middle;\n",
       "    }\n",
       "\n",
       "    .dataframe tbody tr th {\n",
       "        vertical-align: top;\n",
       "    }\n",
       "\n",
       "    .dataframe thead th {\n",
       "        text-align: right;\n",
       "    }\n",
       "</style>\n",
       "<table border=\"1\" class=\"dataframe\">\n",
       "  <thead>\n",
       "    <tr style=\"text-align: right;\">\n",
       "      <th></th>\n",
       "      <th>image_view</th>\n",
       "      <th>mammography_nodule</th>\n",
       "      <th>mammography_calcification</th>\n",
       "      <th>mammography_microcalcification</th>\n",
       "      <th>mammography_architectural_distortion</th>\n",
       "      <th>mammography_stroma_distortion</th>\n",
       "      <th>age</th>\n",
       "      <th>density</th>\n",
       "      <th>i_mean</th>\n",
       "      <th>i_std_dev</th>\n",
       "      <th>...</th>\n",
       "      <th>t_homo</th>\n",
       "      <th>t_savgh</th>\n",
       "      <th>t_svarh</th>\n",
       "      <th>t_senth</th>\n",
       "      <th>t_entro</th>\n",
       "      <th>t_dvarh</th>\n",
       "      <th>t_denth</th>\n",
       "      <th>t_inf1h</th>\n",
       "      <th>t_inf2h</th>\n",
       "      <th>diagnosis</th>\n",
       "    </tr>\n",
       "  </thead>\n",
       "  <tbody>\n",
       "    <tr>\n",
       "      <th>0</th>\n",
       "      <td>-0.529575</td>\n",
       "      <td>1.415989</td>\n",
       "      <td>-1.906740</td>\n",
       "      <td>-0.340105</td>\n",
       "      <td>9.933110</td>\n",
       "      <td>-0.245527</td>\n",
       "      <td>1.457533</td>\n",
       "      <td>-1.438187</td>\n",
       "      <td>0.636209</td>\n",
       "      <td>-0.362641</td>\n",
       "      <td>...</td>\n",
       "      <td>0.156533</td>\n",
       "      <td>0.734423</td>\n",
       "      <td>0.609469</td>\n",
       "      <td>0.577464</td>\n",
       "      <td>0.375172</td>\n",
       "      <td>-0.821699</td>\n",
       "      <td>-0.499107</td>\n",
       "      <td>-0.743223</td>\n",
       "      <td>1.099845</td>\n",
       "      <td>1</td>\n",
       "    </tr>\n",
       "    <tr>\n",
       "      <th>1</th>\n",
       "      <td>1.269777</td>\n",
       "      <td>1.415989</td>\n",
       "      <td>-1.906740</td>\n",
       "      <td>-0.340105</td>\n",
       "      <td>9.933110</td>\n",
       "      <td>-0.245527</td>\n",
       "      <td>1.457533</td>\n",
       "      <td>-1.438187</td>\n",
       "      <td>0.516975</td>\n",
       "      <td>0.219648</td>\n",
       "      <td>...</td>\n",
       "      <td>-0.178049</td>\n",
       "      <td>0.635975</td>\n",
       "      <td>0.492241</td>\n",
       "      <td>0.826237</td>\n",
       "      <td>0.705166</td>\n",
       "      <td>-0.665230</td>\n",
       "      <td>-0.023137</td>\n",
       "      <td>-0.296877</td>\n",
       "      <td>0.884933</td>\n",
       "      <td>1</td>\n",
       "    </tr>\n",
       "    <tr>\n",
       "      <th>2</th>\n",
       "      <td>1.269777</td>\n",
       "      <td>1.415989</td>\n",
       "      <td>0.524455</td>\n",
       "      <td>-0.340105</td>\n",
       "      <td>-0.100673</td>\n",
       "      <td>-0.245527</td>\n",
       "      <td>0.084495</td>\n",
       "      <td>0.798577</td>\n",
       "      <td>-0.992586</td>\n",
       "      <td>-1.022615</td>\n",
       "      <td>...</td>\n",
       "      <td>-0.108626</td>\n",
       "      <td>-0.993516</td>\n",
       "      <td>-0.998799</td>\n",
       "      <td>-0.070710</td>\n",
       "      <td>0.162710</td>\n",
       "      <td>-0.710515</td>\n",
       "      <td>-0.205895</td>\n",
       "      <td>1.039213</td>\n",
       "      <td>-1.232074</td>\n",
       "      <td>0</td>\n",
       "    </tr>\n",
       "    <tr>\n",
       "      <th>3</th>\n",
       "      <td>-0.529575</td>\n",
       "      <td>1.415989</td>\n",
       "      <td>0.524455</td>\n",
       "      <td>-0.340105</td>\n",
       "      <td>-0.100673</td>\n",
       "      <td>-0.245527</td>\n",
       "      <td>0.084495</td>\n",
       "      <td>0.798577</td>\n",
       "      <td>0.071982</td>\n",
       "      <td>-0.422124</td>\n",
       "      <td>...</td>\n",
       "      <td>-0.363610</td>\n",
       "      <td>0.093197</td>\n",
       "      <td>-0.081709</td>\n",
       "      <td>0.588233</td>\n",
       "      <td>0.674871</td>\n",
       "      <td>-0.631238</td>\n",
       "      <td>0.021803</td>\n",
       "      <td>0.452134</td>\n",
       "      <td>0.063308</td>\n",
       "      <td>0</td>\n",
       "    </tr>\n",
       "    <tr>\n",
       "      <th>4</th>\n",
       "      <td>-0.529575</td>\n",
       "      <td>1.415989</td>\n",
       "      <td>-1.906740</td>\n",
       "      <td>-0.340105</td>\n",
       "      <td>-0.100673</td>\n",
       "      <td>-0.245527</td>\n",
       "      <td>0.542174</td>\n",
       "      <td>-1.438187</td>\n",
       "      <td>-0.845816</td>\n",
       "      <td>-1.069938</td>\n",
       "      <td>...</td>\n",
       "      <td>-0.350644</td>\n",
       "      <td>-0.808420</td>\n",
       "      <td>-0.857801</td>\n",
       "      <td>-0.070982</td>\n",
       "      <td>0.309030</td>\n",
       "      <td>-0.609097</td>\n",
       "      <td>0.033987</td>\n",
       "      <td>1.086519</td>\n",
       "      <td>-1.471987</td>\n",
       "      <td>0</td>\n",
       "    </tr>\n",
       "  </tbody>\n",
       "</table>\n",
       "<p>5 rows × 37 columns</p>\n",
       "</div>"
      ],
      "text/plain": [
       "   image_view  mammography_nodule  mammography_calcification  \\\n",
       "0   -0.529575            1.415989                  -1.906740   \n",
       "1    1.269777            1.415989                  -1.906740   \n",
       "2    1.269777            1.415989                   0.524455   \n",
       "3   -0.529575            1.415989                   0.524455   \n",
       "4   -0.529575            1.415989                  -1.906740   \n",
       "\n",
       "   mammography_microcalcification  mammography_architectural_distortion  \\\n",
       "0                       -0.340105                              9.933110   \n",
       "1                       -0.340105                              9.933110   \n",
       "2                       -0.340105                             -0.100673   \n",
       "3                       -0.340105                             -0.100673   \n",
       "4                       -0.340105                             -0.100673   \n",
       "\n",
       "   mammography_stroma_distortion       age   density    i_mean  i_std_dev  \\\n",
       "0                      -0.245527  1.457533 -1.438187  0.636209  -0.362641   \n",
       "1                      -0.245527  1.457533 -1.438187  0.516975   0.219648   \n",
       "2                      -0.245527  0.084495  0.798577 -0.992586  -1.022615   \n",
       "3                      -0.245527  0.084495  0.798577  0.071982  -0.422124   \n",
       "4                      -0.245527  0.542174 -1.438187 -0.845816  -1.069938   \n",
       "\n",
       "     ...        t_homo   t_savgh   t_svarh   t_senth   t_entro   t_dvarh  \\\n",
       "0    ...      0.156533  0.734423  0.609469  0.577464  0.375172 -0.821699   \n",
       "1    ...     -0.178049  0.635975  0.492241  0.826237  0.705166 -0.665230   \n",
       "2    ...     -0.108626 -0.993516 -0.998799 -0.070710  0.162710 -0.710515   \n",
       "3    ...     -0.363610  0.093197 -0.081709  0.588233  0.674871 -0.631238   \n",
       "4    ...     -0.350644 -0.808420 -0.857801 -0.070982  0.309030 -0.609097   \n",
       "\n",
       "    t_denth   t_inf1h   t_inf2h  diagnosis  \n",
       "0 -0.499107 -0.743223  1.099845          1  \n",
       "1 -0.023137 -0.296877  0.884933          1  \n",
       "2 -0.205895  1.039213 -1.232074          0  \n",
       "3  0.021803  0.452134  0.063308          0  \n",
       "4  0.033987  1.086519 -1.471987          0  \n",
       "\n",
       "[5 rows x 37 columns]"
      ]
     },
     "execution_count": 12,
     "metadata": {},
     "output_type": "execute_result"
    }
   ],
   "source": [
    "from sklearn import preprocessing\n",
    "from scipy.stats import zscore\n",
    "fs_data_n = fs_data.drop(columns=[\"diagnosis\"]).apply(zscore)\n",
    "fs_data_n['diagnosis'] = fs_data['diagnosis']\n",
    "fs_data_n.head()"
   ]
  },
  {
   "cell_type": "code",
   "execution_count": 13,
   "metadata": {},
   "outputs": [],
   "source": [
    "nx_values = fs_data_n[\n",
    "    ['mammography_nodule', 'i_mean',     'i_skewness', 's_x_center_mass',\n",
    "    's_y_center_mass',    's_solidity', 's_extent',   't_corr','t_homo', 't_senth']]\n",
    "ny_values = fs_data_n[\"diagnosis\"]\n",
    "nx_values = fs_data_n.drop(columns=['diagnosis']) \n",
    "ny_values = fs_data_n['diagnosis']\n",
    "nx_train, nx_test, ny_train, ny_test = train_test_split(nx_values, ny_values, test_size=0.3, random_state=seed)"
   ]
  },
  {
   "cell_type": "code",
   "execution_count": 16,
   "metadata": {},
   "outputs": [
    {
     "name": "stdout",
     "output_type": "stream",
     "text": [
      "              precision    recall  f1-score   support\n",
      "\n",
      "           0       0.97      0.97      0.97       154\n",
      "           1       0.84      0.81      0.82        26\n",
      "\n",
      "   micro avg       0.95      0.95      0.95       180\n",
      "   macro avg       0.90      0.89      0.90       180\n",
      "weighted avg       0.95      0.95      0.95       180\n",
      "\n",
      "Accuracy: 0.95\n"
     ]
    },
    {
     "data": {
      "image/png": "[encoded data removed]",
      "text/plain": [
       "<Figure size 432x288 with 2 Axes>"
      ]
     },
     "metadata": {
      "needs_background": "light"
     },
     "output_type": "display_data"
    }
   ],
   "source": [
    "rf_model = RandomForestClassifier(random_state=2,n_estimators=100)\n",
    "rf_model.fit(nx_train, ny_train)\n",
    "ny_pred = rf_model.predict(nx_test)\n",
    "print_metrics(ny_test, ny_pred)"
   ]
  },
  {
   "cell_type": "code",
   "execution_count": 15,
   "metadata": {},
   "outputs": [
    {
     "data": {
      "image/png": "[encoded data removed]",
      "text/plain": [
       "<Figure size 432x288 with 1 Axes>"
      ]
     },
     "metadata": {
      "needs_background": "light"
     },
     "output_type": "display_data"
    }
   ],
   "source": [
    "plot_roc(ny_test, ny_pred, 'Logistic Regression(Normalized)')"
   ]
  },
  {
   "cell_type": "markdown",
   "metadata": {},
   "source": [
    "## Learning Curves w/Cross Validation"
   ]
  },
  {
   "cell_type": "code",
   "execution_count": 18,
   "metadata": {},
   "outputs": [],
   "source": [
    "import numpy as np\n",
    "import matplotlib.pyplot as plt\n",
    "from sklearn.datasets import load_digits\n",
    "from sklearn.model_selection import learning_curve\n",
    "from sklearn.model_selection import ShuffleSplit\n",
    "\n",
    "\n",
    "def plot_learning_curve(estimator, title, X, y, ylim=None, cv=None,\n",
    "                        n_jobs=None, train_sizes=np.linspace(.1, 1.0, 5)):\n",
    "    plt.figure()\n",
    "    plt.title(title)\n",
    "    if ylim is not None:\n",
    "        plt.ylim(*ylim)\n",
    "    plt.xlabel(\"Training examples\")\n",
    "    plt.ylabel(\"Score\")\n",
    "    train_sizes, train_scores, test_scores = learning_curve(\n",
    "        estimator, X, y, cv=cv, n_jobs=n_jobs, train_sizes=train_sizes)\n",
    "    train_scores_mean = np.mean(train_scores, axis=1)\n",
    "    train_scores_std = np.std(train_scores, axis=1)\n",
    "    test_scores_mean = np.mean(test_scores, axis=1)\n",
    "    test_scores_std = np.std(test_scores, axis=1)\n",
    "    plt.grid()\n",
    "\n",
    "    plt.fill_between(train_sizes, train_scores_mean - train_scores_std,\n",
    "                     train_scores_mean + train_scores_std, alpha=0.1,\n",
    "                     color=\"r\")\n",
    "    plt.fill_between(train_sizes, test_scores_mean - test_scores_std,\n",
    "                     test_scores_mean + test_scores_std, alpha=0.1, color=\"g\")\n",
    "    plt.plot(train_sizes, train_scores_mean, 'o-', color=\"r\",\n",
    "             label=\"Training score\")\n",
    "    plt.plot(train_sizes, test_scores_mean, 'o-', color=\"g\",\n",
    "             label=\"Cross-validation score\")\n",
    "\n",
    "    plt.legend(loc=\"best\")\n",
    "    return plt"
   ]
  },
  {
   "cell_type": "code",
   "execution_count": 19,
   "metadata": {},
   "outputs": [
    {
     "data": {
      "text/plain": [
       "<module 'matplotlib.pyplot' from '/home/ospcx/anaconda3/envs/pyml/lib/python3.5/site-packages/matplotlib/pyplot.py'>"
      ]
     },
     "execution_count": 19,
     "metadata": {},
     "output_type": "execute_result"
    },
    {
     "data": {
      "image/png": "[encoded data removed]",
      "text/plain": [
       "<Figure size 432x288 with 1 Axes>"
      ]
     },
     "metadata": {
      "needs_background": "light"
     },
     "output_type": "display_data"
    }
   ],
   "source": [
    "title = \"Learning Curves (Random Forest NN)\"\n",
    "cv = ShuffleSplit(n_splits=100, test_size=0.3, random_state=0)\n",
    "\n",
    "estimator = RandomForestClassifier(random_state=2,n_estimators=100)\n",
    "plot_learning_curve(estimator, title, x_values, y_values, ylim=(0.7, 1.01), cv=cv, n_jobs=4)"
   ]
  },
  {
   "cell_type": "code",
   "execution_count": 22,
   "metadata": {},
   "outputs": [
    {
     "data": {
      "text/plain": [
       "<module 'matplotlib.pyplot' from '/home/ospcx/anaconda3/envs/pyml/lib/python3.5/site-packages/matplotlib/pyplot.py'>"
      ]
     },
     "execution_count": 22,
     "metadata": {},
     "output_type": "execute_result"
    },
    {
     "data": {
      "image/png": "[encoded data removed]",
      "text/plain": [
       "<Figure size 432x288 with 1 Axes>"
      ]
     },
     "metadata": {
      "needs_background": "light"
     },
     "output_type": "display_data"
    }
   ],
   "source": [
    "title = \"Learning Curves (Random Forest\"\n",
    "cv = ShuffleSplit(n_splits=100, test_size=0.3, random_state=0)\n",
    "\n",
    "estimator = RandomForestClassifier(random_state=2,n_estimators=100)\n",
    "plot_learning_curve(estimator, title, nx_values, ny_values, ylim=(0.7, 1.01), cv=cv, n_jobs=4)"
   ]
  },
  {
   "cell_type": "markdown",
   "metadata": {},
   "source": [
    "# Polinomial Degree curve"
   ]
  },
  {
   "cell_type": "code",
   "execution_count": 23,
   "metadata": {},
   "outputs": [],
   "source": [
    "def plot_curve(train_error, test_error):\n",
    "    plt.plot(np.arange(0,train_error.shape[0]-1), train_error[1:], label = 'train error')\n",
    "    plt.plot(np.arange(0,train_error.shape[0]-1),test_error[1:], label = 'test error', color= 'green')\n",
    "    plt.title('Training Set')\n",
    "    plt.xlabel('Polynomial Complexity (x)')\n",
    "    plt.ylabel('MSE (y)')\n",
    "    plt.grid()\n",
    "    plt.legend()\n",
    "    plt.show() \n",
    "\n",
    "    \n",
    "def obtain_error(x_train, y_train, x_test, y_test):\n",
    "    m, n = x_train.shape\n",
    "    train_error = 0\n",
    "    test_error = 0\n",
    "    hyp_model = None\n",
    "    cls_ = RandomForestClassifier(random_state=2,n_estimators=100).fit(x_train, y_train)\n",
    "    hyph_train = cls_.predict(x_train)\n",
    "    hyph_test = cls_.predict(x_test)\n",
    "    train_error = mean_squared_error(y_train, hyph_train)\n",
    "    test_error  = mean_squared_error(y_test, hyph_test)\n",
    "    return train_error, test_error\n",
    "\n",
    "\n",
    "def create_curve(fs_data, seed):\n",
    "    train, test = train_test_split(fs_data, test_size=0.3, random_state=seed)\n",
    "    \n",
    "    nx_train = train.iloc[:,:-1].values\n",
    "    ny_train = train.iloc[:,-1].values\n",
    "    # ---- \n",
    "    nx_test = test.iloc[:,:-1].values\n",
    "    ny_test = test.iloc[:,-1].values\n",
    "    # ------\n",
    "    train_error = np.zeros(nx_train.shape[1])\n",
    "    test_error = np.zeros(nx_train.shape[1])\n",
    "\n",
    "    n = nx_train.shape[1]\n",
    "    for i in range(1, n):\n",
    "        train_error[i], test_error[i] = obtain_error(nx_train[:,0:i], ny_train, nx_test[:,0:i], ny_test)\n",
    "    plot_curve(train_error, test_error)"
   ]
  },
  {
   "cell_type": "code",
   "execution_count": 26,
   "metadata": {},
   "outputs": [
    {
     "data": {
      "image/png": "[encoded data removed]",
      "text/plain": [
       "<Figure size 432x288 with 1 Axes>"
      ]
     },
     "metadata": {
      "needs_background": "light"
     },
     "output_type": "display_data"
    }
   ],
   "source": [
    "new_data = fs_data[\n",
    "    ['mammography_nodule', 'i_mean',     'i_skewness', 's_x_center_mass',\n",
    "    's_y_center_mass',    's_solidity', 's_extent',   't_corr','t_homo', 't_senth',\n",
    "    'diagnosis']]\n",
    "create_curve(new_data, seed)"
   ]
  },
  {
   "cell_type": "code",
   "execution_count": 25,
   "metadata": {},
   "outputs": [
    {
     "data": {
      "image/png": "[encoded data removed]",
      "text/plain": [
       "<Figure size 432x288 with 1 Axes>"
      ]
     },
     "metadata": {
      "needs_background": "light"
     },
     "output_type": "display_data"
    }
   ],
   "source": [
    "nnew_data = fs_data_n[\n",
    "    ['mammography_nodule', 'i_mean',     'i_skewness', 's_x_center_mass',\n",
    "    's_y_center_mass',    's_solidity', 's_extent',   't_corr','t_homo', 't_senth',\n",
    "    'diagnosis']]\n",
    "create_curve(nnew_data, seed)"
   ]
  },
  {
   "cell_type": "code",
   "execution_count": null,
   "metadata": {},
   "outputs": [],
   "source": []
  }
 ],
 "metadata": {
  "kernelspec": {
   "display_name": "Python [conda env:pyml]",
   "language": "python",
   "name": "conda-env-pyml-py"
  },
  "language_info": {
   "codemirror_mode": {
    "name": "ipython",
    "version": 3
   },
   "file_extension": ".py",
   "mimetype": "text/x-python",
   "name": "python",
   "nbconvert_exporter": "python",
   "pygments_lexer": "ipython3",
   "version": "3.5.6"
  }
 },
 "nbformat": 4,
 "nbformat_minor": 2
}
